{
 "cells": [
  {
   "cell_type": "code",
   "execution_count": 1,
   "metadata": {
    "collapsed": false
   },
   "outputs": [
    {
     "name": "stdout",
     "output_type": "stream",
     "text": [
      "integer division or modulo by zero\n"
     ]
    }
   ],
   "source": [
    "try:\n",
    "    print 1/0\n",
    "except (ZeroDivisionError, Exception) as err:\n",
    "    print err"
   ]
  },
  {
   "cell_type": "code",
   "execution_count": 2,
   "metadata": {
    "collapsed": false
   },
   "outputs": [
    {
     "name": "stdout",
     "output_type": "stream",
     "text": [
      "invalid literal for int() with base 10: 'dsfdsfds'\n"
     ]
    }
   ],
   "source": [
    "try:\n",
    "    print int(\"dsfdsfds\")\n",
    "except (ZeroDivisionError, Exception) as err:\n",
    "    print err"
   ]
  },
  {
   "cell_type": "code",
   "execution_count": 3,
   "metadata": {
    "collapsed": false
   },
   "outputs": [
    {
     "name": "stdout",
     "output_type": "stream",
     "text": [
      "somethong\n"
     ]
    }
   ],
   "source": [
    "class ad(Exception):\n",
    "    pass\n",
    "try:\n",
    "    raise ad(\"somethong\")\n",
    "except ad as err:\n",
    "    print err\n",
    "    "
   ]
  },
  {
   "cell_type": "code",
   "execution_count": 9,
   "metadata": {
    "collapsed": false
   },
   "outputs": [
    {
     "data": {
      "text/plain": [
       "ZeroDivisionError('integer division or modulo by zero')"
      ]
     },
     "execution_count": 9,
     "metadata": {},
     "output_type": "execute_result"
    }
   ],
   "source": [
    "def handle_except(fun):\n",
    "    def inner(*args, **kwargs):\n",
    "        resp = \"\"\n",
    "        try:\n",
    "            resp = fun(*args, **kwargs)\n",
    "        except Exception as err:\n",
    "            return err\n",
    "        return resp\n",
    "    return inner\n",
    "        \n",
    "@handle_except\n",
    "def fun(*args, **kwargs):\n",
    "    print 1/0\n",
    "fun()"
   ]
  },
  {
   "cell_type": "code",
   "execution_count": null,
   "metadata": {
    "collapsed": true
   },
   "outputs": [],
   "source": []
  }
 ],
 "metadata": {
  "kernelspec": {
   "display_name": "Python [default]",
   "language": "python",
   "name": "python2"
  },
  "language_info": {
   "codemirror_mode": {
    "name": "ipython",
    "version": 2
   },
   "file_extension": ".py",
   "mimetype": "text/x-python",
   "name": "python",
   "nbconvert_exporter": "python",
   "pygments_lexer": "ipython2",
   "version": "2.7.12"
  }
 },
 "nbformat": 4,
 "nbformat_minor": 1
}
