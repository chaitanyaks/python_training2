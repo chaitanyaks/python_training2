{
 "cells": [
  {
   "cell_type": "code",
   "execution_count": 1,
   "metadata": {
    "collapsed": false
   },
   "outputs": [
    {
     "ename": "AttributeError",
     "evalue": "c1 instance has no attribute 'a'",
     "output_type": "error",
     "traceback": [
      "\u001b[0;31m---------------------------------------------------------------------------\u001b[0m",
      "\u001b[0;31mAttributeError\u001b[0m                            Traceback (most recent call last)",
      "\u001b[0;32m<ipython-input-1-6df6f42d50f3>\u001b[0m in \u001b[0;36m<module>\u001b[0;34m()\u001b[0m\n\u001b[1;32m      5\u001b[0m         \u001b[1;32mprint\u001b[0m \u001b[0mself\u001b[0m\u001b[1;33m.\u001b[0m\u001b[0ma\u001b[0m\u001b[1;33m\u001b[0m\u001b[0m\n\u001b[1;32m      6\u001b[0m \u001b[0mo1\u001b[0m\u001b[1;33m=\u001b[0m\u001b[0mc1\u001b[0m\u001b[1;33m(\u001b[0m\u001b[1;33m)\u001b[0m\u001b[1;33m\u001b[0m\u001b[0m\n\u001b[0;32m----> 7\u001b[0;31m \u001b[0mo1\u001b[0m\u001b[1;33m.\u001b[0m\u001b[0mmeth1\u001b[0m\u001b[1;33m(\u001b[0m\u001b[1;33m)\u001b[0m\u001b[1;33m\u001b[0m\u001b[0m\n\u001b[0m",
      "\u001b[0;32m<ipython-input-1-6df6f42d50f3>\u001b[0m in \u001b[0;36mmeth1\u001b[0;34m(self)\u001b[0m\n\u001b[1;32m      3\u001b[0m         \u001b[0mself\u001b[0m\u001b[1;33m.\u001b[0m\u001b[0ma\u001b[0m\u001b[1;33m=\u001b[0m\u001b[1;36m10\u001b[0m\u001b[1;33m\u001b[0m\u001b[0m\n\u001b[1;32m      4\u001b[0m     \u001b[1;32mdef\u001b[0m \u001b[0mmeth1\u001b[0m\u001b[1;33m(\u001b[0m\u001b[0mself\u001b[0m\u001b[1;33m)\u001b[0m\u001b[1;33m:\u001b[0m\u001b[1;33m\u001b[0m\u001b[0m\n\u001b[0;32m----> 5\u001b[0;31m         \u001b[1;32mprint\u001b[0m \u001b[0mself\u001b[0m\u001b[1;33m.\u001b[0m\u001b[0ma\u001b[0m\u001b[1;33m\u001b[0m\u001b[0m\n\u001b[0m\u001b[1;32m      6\u001b[0m \u001b[0mo1\u001b[0m\u001b[1;33m=\u001b[0m\u001b[0mc1\u001b[0m\u001b[1;33m(\u001b[0m\u001b[1;33m)\u001b[0m\u001b[1;33m\u001b[0m\u001b[0m\n\u001b[1;32m      7\u001b[0m \u001b[0mo1\u001b[0m\u001b[1;33m.\u001b[0m\u001b[0mmeth1\u001b[0m\u001b[1;33m(\u001b[0m\u001b[1;33m)\u001b[0m\u001b[1;33m\u001b[0m\u001b[0m\n",
      "\u001b[0;31mAttributeError\u001b[0m: c1 instance has no attribute 'a'"
     ]
    }
   ],
   "source": [
    "class c1:\n",
    "    def meth(self):\n",
    "        self.a=10\n",
    "    def meth1(self):\n",
    "        print self.a\n",
    "o1=c1()\n",
    "o1.meth1()"
   ]
  },
  {
   "cell_type": "code",
   "execution_count": 2,
   "metadata": {
    "collapsed": false
   },
   "outputs": [
    {
     "name": "stdout",
     "output_type": "stream",
     "text": [
      "10\n"
     ]
    }
   ],
   "source": [
    "class c1:\n",
    "    def meth(self):\n",
    "        self.a=10\n",
    "    def meth1(self):\n",
    "        print self.a\n",
    "o1=c1()\n",
    "o1.meth()\n",
    "o1.meth1()"
   ]
  },
  {
   "cell_type": "code",
   "execution_count": 3,
   "metadata": {
    "collapsed": false
   },
   "outputs": [
    {
     "data": {
      "text/plain": [
       "True"
      ]
     },
     "execution_count": 3,
     "metadata": {},
     "output_type": "execute_result"
    }
   ],
   "source": [
    "all([True,True,True])"
   ]
  },
  {
   "cell_type": "code",
   "execution_count": 4,
   "metadata": {
    "collapsed": false
   },
   "outputs": [
    {
     "data": {
      "text/plain": [
       "False"
      ]
     },
     "execution_count": 4,
     "metadata": {},
     "output_type": "execute_result"
    }
   ],
   "source": [
    "all([True,True,False])"
   ]
  },
  {
   "cell_type": "code",
   "execution_count": 6,
   "metadata": {
    "collapsed": false
   },
   "outputs": [
    {
     "name": "stdout",
     "output_type": "stream",
     "text": [
      "restating director\n",
      "restating director\n",
      "restating director\n",
      "restating director\n",
      "restating director\n",
      "running io\n",
      "running io\n",
      "running io\n",
      "running io\n",
      "running io\n"
     ]
    }
   ],
   "source": [
    "from time import sleep\n",
    "def dir_restart():\n",
    "    for i in range(5):\n",
    "        print \"restating director\"\n",
    "        sleep(1)\n",
    "def run_io():\n",
    "    for i in range(5):\n",
    "        print \"running io\"\n",
    "        sleep(1)\n",
    "dir_restart()\n",
    "run_io()\n",
    "    \n",
    "    "
   ]
  },
  {
   "cell_type": "code",
   "execution_count": 8,
   "metadata": {
    "collapsed": false
   },
   "outputs": [],
   "source": [
    "import threading\n",
    "from time import sleep\n",
    "def dir_restart():\n",
    "    for i in range(5):\n",
    "        print \"restating director\"\n",
    "        sleep(1)\n",
    "def run_io():\n",
    "    for i in range(5):\n",
    "        print \"running io\"\n",
    "        sleep(1)\n",
    "dir_thread=threading.Thread(target=dir_restart)\n",
    "io_thread=threading.Thread(target=run_io)"
   ]
  },
  {
   "cell_type": "code",
   "execution_count": 9,
   "metadata": {
    "collapsed": false
   },
   "outputs": [
    {
     "name": "stdout",
     "output_type": "stream",
     "text": [
      "restating director\n",
      "running io\n",
      "restating director\n",
      "running io\n",
      "restating director\n",
      "running io\n",
      "restating director\n",
      "running io\n",
      "restating director\n",
      "running io\n"
     ]
    }
   ],
   "source": [
    "import threading\n",
    "from time import sleep\n",
    "def dir_restart():\n",
    "    for i in range(5):\n",
    "        print \"restating director\"\n",
    "        sleep(1)\n",
    "def run_io():\n",
    "    for i in range(5):\n",
    "        print \"running io\"\n",
    "        sleep(1)\n",
    "dir_thread=threading.Thread(target=dir_restart)\n",
    "io_thread=threading.Thread(target=run_io)\n",
    "dir_thread.start()\n",
    "io_thread.start()"
   ]
  },
  {
   "cell_type": "code",
   "execution_count": 11,
   "metadata": {
    "collapsed": false
   },
   "outputs": [
    {
     "name": "stdout",
     "output_type": "stream",
     "text": [
      "restating director\n",
      "python is pure object oriented programing language\n",
      "running io\n",
      "restating director\n",
      "python is pure object oriented programing language\n",
      "running io\n",
      "restating director\n",
      "python is pure object oriented programing language\n",
      "running io\n",
      "restating director\n",
      "python is pure object oriented programing language\n",
      "running io\n",
      "restating director\n",
      "python is pure object oriented programing language\n",
      "running io\n"
     ]
    }
   ],
   "source": [
    "import threading\n",
    "from time import sleep\n",
    "def dir_restart():\n",
    "    for i in range(5):\n",
    "        print \"restating director\"\n",
    "        print \"python is pure object oriented programing language\"\n",
    "        sleep(1)\n",
    "def run_io():\n",
    "    for i in range(5):\n",
    "        print \"running io\"\n",
    "        sleep(1)\n",
    "dir_thread=threading.Thread(target=dir_restart)\n",
    "io_thread=threading.Thread(target=run_io)\n",
    "dir_thread.start()\n",
    "io_thread.start()"
   ]
  },
  {
   "cell_type": "code",
   "execution_count": 16,
   "metadata": {
    "collapsed": false
   },
   "outputs": [
    {
     "name": "stdout",
     "output_type": "stream",
     "text": [
      "incrementin glb\n",
      "glb in fun1= 10\n",
      "incrementin glb\n",
      "glb in fun1= 10\n",
      "incrementin glb\n",
      "glb in fun1= 11\n",
      "incrementin glb\n",
      "glb in fun1= 13\n",
      "incrementin glb\n",
      "glb in fun1= 16\n",
      "incrementin glb\n",
      "glb in fun1= 20\n",
      "incrementin glb\n",
      "glb in fun1= 25\n",
      "incrementin glb\n",
      "glb in fun1= 31\n",
      "incrementin glb\n",
      "glb in fun1= 38\n",
      "incrementin glb\n",
      "glb in fun1= 46\n"
     ]
    }
   ],
   "source": [
    "import threading\n",
    "from time import sleep\n",
    "glb=10\n",
    "def fun():\n",
    "    global glb\n",
    "    threading.Lock()\n",
    "    for i in range(10):\n",
    "        print \"incrementin glb\"\n",
    "        sleep(1)\n",
    "        glb=glb+i\n",
    "def fun1():\n",
    "    for i in range(10):\n",
    "        print \"glb in fun1=\",glb\n",
    "        sleep(1)\n",
    "t1=threading.Thread(target=fun)\n",
    "t2=threading.Thread(target=fun1)\n",
    "t1.start()\n",
    "t2.start()"
   ]
  },
  {
   "cell_type": "code",
   "execution_count": 14,
   "metadata": {
    "collapsed": true
   },
   "outputs": [],
   "source": []
  },
  {
   "cell_type": "code",
   "execution_count": null,
   "metadata": {
    "collapsed": true
   },
   "outputs": [],
   "source": []
  }
 ],
 "metadata": {
  "anaconda-cloud": {},
  "kernelspec": {
   "display_name": "Python [default]",
   "language": "python",
   "name": "python2"
  },
  "language_info": {
   "codemirror_mode": {
    "name": "ipython",
    "version": 2
   },
   "file_extension": ".py",
   "mimetype": "text/x-python",
   "name": "python",
   "nbconvert_exporter": "python",
   "pygments_lexer": "ipython2",
   "version": "2.7.12"
  }
 },
 "nbformat": 4,
 "nbformat_minor": 1
}
