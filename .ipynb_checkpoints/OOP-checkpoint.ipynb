{
 "cells": [
  {
   "cell_type": "code",
   "execution_count": 1,
   "metadata": {
    "collapsed": false
   },
   "outputs": [
    {
     "data": {
      "text/plain": [
       "(10, 20)"
      ]
     },
     "execution_count": 1,
     "metadata": {},
     "output_type": "execute_result"
    }
   ],
   "source": [
    "class c1:\n",
    "    def __init__(self,a,b):\n",
    "        self.a=a\n",
    "        self.b=b\n",
    "        \n",
    "    def get(self):\n",
    "        return self.a,self.b\n",
    "o1=c1(10,20)\n",
    "o1.get()"
   ]
  },
  {
   "cell_type": "code",
   "execution_count": 2,
   "metadata": {
    "collapsed": false
   },
   "outputs": [
    {
     "ename": "NameError",
     "evalue": "name 'a' is not defined",
     "output_type": "error",
     "traceback": [
      "\u001b[0;31m---------------------------------------------------------------------------\u001b[0m",
      "\u001b[0;31mNameError\u001b[0m                                 Traceback (most recent call last)",
      "\u001b[0;32m<ipython-input-2-c042c015366b>\u001b[0m in \u001b[0;36m<module>\u001b[0;34m()\u001b[0m\n\u001b[0;32m----> 1\u001b[0;31m \u001b[0ma\u001b[0m\u001b[1;33m=\u001b[0m\u001b[0ma\u001b[0m\u001b[1;33m+\u001b[0m\u001b[1;36m10\u001b[0m\u001b[1;33m\u001b[0m\u001b[0m\n\u001b[0m",
      "\u001b[0;31mNameError\u001b[0m: name 'a' is not defined"
     ]
    }
   ],
   "source": [
    "a=a+10"
   ]
  },
  {
   "cell_type": "code",
   "execution_count": 3,
   "metadata": {
    "collapsed": true
   },
   "outputs": [],
   "source": [
    "a=10"
   ]
  },
  {
   "cell_type": "code",
   "execution_count": 7,
   "metadata": {
    "collapsed": false
   },
   "outputs": [
    {
     "ename": "AttributeError",
     "evalue": "'NoneType' object has no attribute 'get'",
     "output_type": "error",
     "traceback": [
      "\u001b[0;31m---------------------------------------------------------------------------\u001b[0m",
      "\u001b[0;31mAttributeError\u001b[0m                            Traceback (most recent call last)",
      "\u001b[0;32m<ipython-input-7-c6aa0d5033f6>\u001b[0m in \u001b[0;36m<module>\u001b[0;34m()\u001b[0m\n\u001b[1;32m     10\u001b[0m         \u001b[1;32mreturn\u001b[0m \u001b[0mself\u001b[0m\u001b[1;33m.\u001b[0m\u001b[0ma\u001b[0m\u001b[1;33m,\u001b[0m\u001b[0mself\u001b[0m\u001b[1;33m.\u001b[0m\u001b[0mb\u001b[0m\u001b[1;33m\u001b[0m\u001b[0m\n\u001b[1;32m     11\u001b[0m \u001b[0mo1\u001b[0m\u001b[1;33m=\u001b[0m\u001b[0mc1\u001b[0m\u001b[1;33m(\u001b[0m\u001b[1;36m10\u001b[0m\u001b[1;33m,\u001b[0m\u001b[1;36m20\u001b[0m\u001b[1;33m)\u001b[0m\u001b[1;33m\u001b[0m\u001b[0m\n\u001b[0;32m---> 12\u001b[0;31m \u001b[0mo1\u001b[0m\u001b[1;33m.\u001b[0m\u001b[0mget\u001b[0m\u001b[1;33m(\u001b[0m\u001b[1;33m)\u001b[0m\u001b[1;33m\u001b[0m\u001b[0m\n\u001b[0m\u001b[1;32m     13\u001b[0m \u001b[0mo2\u001b[0m \u001b[1;33m=\u001b[0m \u001b[0mc1\u001b[0m\u001b[1;33m(\u001b[0m\u001b[1;36m100\u001b[0m\u001b[1;33m,\u001b[0m\u001b[1;36m200\u001b[0m\u001b[1;33m)\u001b[0m\u001b[1;33m\u001b[0m\u001b[0m\n\u001b[1;32m     14\u001b[0m \u001b[0mo3\u001b[0m\u001b[1;33m=\u001b[0m \u001b[0mc1\u001b[0m\u001b[1;33m(\u001b[0m\u001b[1;36m1000\u001b[0m\u001b[1;33m,\u001b[0m\u001b[1;36m20000\u001b[0m\u001b[1;33m)\u001b[0m\u001b[1;33m\u001b[0m\u001b[0m\n",
      "\u001b[0;31mAttributeError\u001b[0m: 'NoneType' object has no attribute 'get'"
     ]
    }
   ],
   "source": [
    "class c1(object): \n",
    "    def __new__(cls,a,b):\n",
    "        return None\n",
    "        \n",
    "    def __init__(self,a,b):\n",
    "        self.a=a\n",
    "        self.b=b\n",
    "        \n",
    "    def get(self):\n",
    "        return self.a,self.b\n",
    "o1=c1(10,20)\n",
    "o1.get()\n",
    "o2 = c1(100,200)\n",
    "o3= c1(1000,20000)"
   ]
  },
  {
   "cell_type": "code",
   "execution_count": 9,
   "metadata": {
    "collapsed": false
   },
   "outputs": [
    {
     "name": "stdout",
     "output_type": "stream",
     "text": [
      "(10, 20)\n"
     ]
    }
   ],
   "source": [
    "class c1(object): \n",
    "    def __new__(cls,a,b):\n",
    "        if True:\n",
    "            return super(c1,cls).__new__(cls)\n",
    "        return None\n",
    "        \n",
    "    def __init__(self,a,b):\n",
    "        self.a=a\n",
    "        self.b=b\n",
    "        \n",
    "    def get(self):\n",
    "        return self.a,self.b\n",
    "o1=c1(10,20)\n",
    "print o1.get()\n",
    "o2 = c1(100,200)\n",
    "o3= c1(1000,20000)"
   ]
  },
  {
   "cell_type": "code",
   "execution_count": null,
   "metadata": {
    "collapsed": true
   },
   "outputs": [],
   "source": [
    "class c1(object): \n",
    "    obj=None\n",
    "    def __new__(cls,a,b):\n",
    "        if not object_created:\n",
    "            return super(c1,cls).__new__(cls)\n",
    "        return \n",
    "        \n",
    "    def __init__(self,a,b):\n",
    "        self.a=a\n",
    "        self.b=b\n",
    "        \n",
    "    def get(self):\n",
    "        return self.a,self.b\n",
    "o1=c1(10,20)\n",
    "print o1.get()\n",
    "o2 = c1(100,200)\n",
    "o3= c1(1000,20000)"
   ]
  },
  {
   "cell_type": "code",
   "execution_count": 11,
   "metadata": {
    "collapsed": false
   },
   "outputs": [
    {
     "name": "stdout",
     "output_type": "stream",
     "text": [
      "this is class \n"
     ]
    }
   ],
   "source": [
    "class c1:\n",
    "    print \"this is class \"\n",
    "    def fun(self):\n",
    "        print \"dsfdsfdsfsfsfds\"\n",
    "    def fun1(self):\n",
    "        print \"sdfsdfdsfds\"\n",
    "        \n",
    "o1=c1()\n",
    "o2=c1()\n",
    "o3=c1()"
   ]
  },
  {
   "cell_type": "code",
   "execution_count": 15,
   "metadata": {
    "collapsed": false
   },
   "outputs": [
    {
     "name": "stdout",
     "output_type": "stream",
     "text": [
      "class definition\n",
      "new gets called\n",
      "init method\n",
      "(10, 20)\n",
      "new gets called\n",
      "init method\n",
      "new gets called\n",
      "init method\n"
     ]
    }
   ],
   "source": [
    "class c1(object): \n",
    "    obj=None\n",
    "    print \"class definition\"\n",
    "    def __new__(cls,a,b):\n",
    "        print \"new gets called\"\n",
    "        if True:\n",
    "            return super(c1,cls).__new__(cls)\n",
    "        return \n",
    "        \n",
    "    def __init__(self,a,b):\n",
    "        print \"init method\"\n",
    "        self.a=a\n",
    "        self.b=b\n",
    "        \n",
    "    def get(self):\n",
    "        return self.a,self.b\n",
    "o1=c1(10,20)\n",
    "print o1.get()\n",
    "o2 = c1(100,200)\n",
    "o3= c1(1000,20000)"
   ]
  },
  {
   "cell_type": "code",
   "execution_count": 18,
   "metadata": {
    "collapsed": false
   },
   "outputs": [
    {
     "name": "stdout",
     "output_type": "stream",
     "text": [
      "class definition\n",
      "new gets called\n",
      "calling parent calss method new\n",
      "init method\n",
      "(10, 20)\n",
      "new gets called\n",
      "init method\n",
      "new gets called\n",
      "init method\n",
      "35690368 35690368 35690368\n"
     ]
    }
   ],
   "source": [
    "class c1(object): \n",
    "    obj=False\n",
    "    print \"class definition\"\n",
    "    def __new__(cls,a,b):\n",
    "        print \"new gets called\"\n",
    "        if not cls.obj:\n",
    "            print \"calling parent calss method new\"\n",
    "            cls.obj = super(c1,cls).__new__(cls)\n",
    "        return cls.obj\n",
    "        \n",
    "    def __init__(self,a,b):\n",
    "        print \"init method\"\n",
    "        self.a=a\n",
    "        self.b=b\n",
    "        \n",
    "    def get(self):\n",
    "        return self.a,self.b\n",
    "o1=c1(10,20)\n",
    "print o1.get()\n",
    "o2 = c1(100,200)\n",
    "o3= c1(1000,20000)\n",
    "print id(o1),id(o2),id(o3)"
   ]
  },
  {
   "cell_type": "code",
   "execution_count": 19,
   "metadata": {
    "collapsed": false
   },
   "outputs": [
    {
     "name": "stdout",
     "output_type": "stream",
     "text": [
      "class definition\n",
      "new gets called\n",
      "calling parent calss method new\n",
      "init method\n",
      "(10, 20)\n",
      "new gets called\n"
     ]
    },
    {
     "ename": "Exception",
     "evalue": "Only one object can be allowed",
     "output_type": "error",
     "traceback": [
      "\u001b[0;31m---------------------------------------------------------------------------\u001b[0m",
      "\u001b[0;31mException\u001b[0m                                 Traceback (most recent call last)",
      "\u001b[0;32m<ipython-input-19-a4ccd0efeeb5>\u001b[0m in \u001b[0;36m<module>\u001b[0;34m()\u001b[0m\n\u001b[1;32m     20\u001b[0m \u001b[0mo1\u001b[0m\u001b[1;33m=\u001b[0m\u001b[0mc1\u001b[0m\u001b[1;33m(\u001b[0m\u001b[1;36m10\u001b[0m\u001b[1;33m,\u001b[0m\u001b[1;36m20\u001b[0m\u001b[1;33m)\u001b[0m\u001b[1;33m\u001b[0m\u001b[0m\n\u001b[1;32m     21\u001b[0m \u001b[1;32mprint\u001b[0m \u001b[0mo1\u001b[0m\u001b[1;33m.\u001b[0m\u001b[0mget\u001b[0m\u001b[1;33m(\u001b[0m\u001b[1;33m)\u001b[0m\u001b[1;33m\u001b[0m\u001b[0m\n\u001b[0;32m---> 22\u001b[0;31m \u001b[0mo2\u001b[0m \u001b[1;33m=\u001b[0m \u001b[0mc1\u001b[0m\u001b[1;33m(\u001b[0m\u001b[1;36m100\u001b[0m\u001b[1;33m,\u001b[0m\u001b[1;36m200\u001b[0m\u001b[1;33m)\u001b[0m\u001b[1;33m\u001b[0m\u001b[0m\n\u001b[0m\u001b[1;32m     23\u001b[0m \u001b[0mo3\u001b[0m\u001b[1;33m=\u001b[0m \u001b[0mc1\u001b[0m\u001b[1;33m(\u001b[0m\u001b[1;36m1000\u001b[0m\u001b[1;33m,\u001b[0m\u001b[1;36m20000\u001b[0m\u001b[1;33m)\u001b[0m\u001b[1;33m\u001b[0m\u001b[0m\n\u001b[1;32m     24\u001b[0m \u001b[1;32mprint\u001b[0m \u001b[0mid\u001b[0m\u001b[1;33m(\u001b[0m\u001b[0mo1\u001b[0m\u001b[1;33m)\u001b[0m\u001b[1;33m,\u001b[0m\u001b[0mid\u001b[0m\u001b[1;33m(\u001b[0m\u001b[0mo2\u001b[0m\u001b[1;33m)\u001b[0m\u001b[1;33m,\u001b[0m\u001b[0mid\u001b[0m\u001b[1;33m(\u001b[0m\u001b[0mo3\u001b[0m\u001b[1;33m)\u001b[0m\u001b[1;33m\u001b[0m\u001b[0m\n",
      "\u001b[0;32m<ipython-input-19-a4ccd0efeeb5>\u001b[0m in \u001b[0;36m__new__\u001b[0;34m(cls, a, b)\u001b[0m\n\u001b[1;32m      8\u001b[0m             \u001b[0mcls\u001b[0m\u001b[1;33m.\u001b[0m\u001b[0mobj\u001b[0m \u001b[1;33m=\u001b[0m \u001b[0msuper\u001b[0m\u001b[1;33m(\u001b[0m\u001b[0mc1\u001b[0m\u001b[1;33m,\u001b[0m\u001b[0mcls\u001b[0m\u001b[1;33m)\u001b[0m\u001b[1;33m.\u001b[0m\u001b[0m__new__\u001b[0m\u001b[1;33m(\u001b[0m\u001b[0mcls\u001b[0m\u001b[1;33m)\u001b[0m\u001b[1;33m\u001b[0m\u001b[0m\n\u001b[1;32m      9\u001b[0m         \u001b[1;32melse\u001b[0m\u001b[1;33m:\u001b[0m\u001b[1;33m\u001b[0m\u001b[0m\n\u001b[0;32m---> 10\u001b[0;31m             \u001b[1;32mraise\u001b[0m \u001b[0mException\u001b[0m\u001b[1;33m(\u001b[0m\u001b[1;34m\"Only one object can be allowed\"\u001b[0m\u001b[1;33m)\u001b[0m\u001b[1;33m\u001b[0m\u001b[0m\n\u001b[0m\u001b[1;32m     11\u001b[0m         \u001b[1;32mreturn\u001b[0m \u001b[0mcls\u001b[0m\u001b[1;33m.\u001b[0m\u001b[0mobj\u001b[0m\u001b[1;33m\u001b[0m\u001b[0m\n\u001b[1;32m     12\u001b[0m \u001b[1;33m\u001b[0m\u001b[0m\n",
      "\u001b[0;31mException\u001b[0m: Only one object can be allowed"
     ]
    }
   ],
   "source": [
    "class c1(object): \n",
    "    obj=False\n",
    "    print \"class definition\"\n",
    "    def __new__(cls,a,b):\n",
    "        print \"new gets called\"\n",
    "        if not cls.obj:\n",
    "            print \"calling parent calss method new\"\n",
    "            cls.obj = super(c1,cls).__new__(cls)\n",
    "        else:\n",
    "            raise Exception(\"Only one object can be allowed\")\n",
    "        return cls.obj\n",
    "        \n",
    "    def __init__(self,a,b):\n",
    "        print \"init method\"\n",
    "        self.a=a\n",
    "        self.b=b\n",
    "        \n",
    "    def get(self):\n",
    "        return self.a,self.b\n",
    "o1=c1(10,20)\n",
    "print o1.get()\n",
    "o2 = c1(100,200)\n",
    "o3= c1(1000,20000)\n",
    "print id(o1),id(o2),id(o3)"
   ]
  },
  {
   "cell_type": "code",
   "execution_count": 20,
   "metadata": {
    "collapsed": false
   },
   "outputs": [
    {
     "name": "stdout",
     "output_type": "stream",
     "text": [
      "class definition\n",
      "new gets called\n",
      "calling parent calss method new\n",
      "init method\n",
      "(10, 20)\n",
      "new gets called\n",
      "Only one object can be allowed\n"
     ]
    }
   ],
   "source": [
    "class c1(object): \n",
    "    obj=False\n",
    "    print \"class definition\"\n",
    "    def __new__(cls,a,b):\n",
    "        print \"new gets called\"\n",
    "        if not cls.obj:\n",
    "            print \"calling parent calss method new\"\n",
    "            cls.obj = super(c1,cls).__new__(cls)\n",
    "        else:\n",
    "            raise Exception(\"Only one object can be allowed\")\n",
    "        return cls.obj\n",
    "        \n",
    "    def __init__(self,a,b):\n",
    "        print \"init method\"\n",
    "        self.a=a\n",
    "        self.b=b\n",
    "        \n",
    "    def get(self):\n",
    "        return self.a,self.b\n",
    "try:\n",
    "    o1=c1(10,20)\n",
    "    print o1.get()\n",
    "    o2 = c1(100,200)\n",
    "    o3= c1(1000,20000)\n",
    "    print id(o1),id(o2),id(o3)\n",
    "except Exception as err:\n",
    "    print err"
   ]
  },
  {
   "cell_type": "code",
   "execution_count": 21,
   "metadata": {
    "collapsed": false
   },
   "outputs": [
    {
     "name": "stdout",
     "output_type": "stream",
     "text": [
      "class definition\n",
      "new gets called\n",
      "calling parent calss method new\n",
      "init method\n",
      "(10, 20)\n",
      "new gets called\n",
      "init method\n",
      "new gets called\n",
      "init method\n",
      "35825536 35825536 35825536\n",
      "(1000, 20000)\n",
      "(1000, 20000)\n",
      "(1000, 20000)\n"
     ]
    }
   ],
   "source": [
    "class c1(object): \n",
    "    obj=False\n",
    "    print \"class definition\"\n",
    "    def __new__(cls,a,b):\n",
    "        print \"new gets called\"\n",
    "        if not cls.obj:\n",
    "            print \"calling parent calss method new\"\n",
    "            cls.obj = super(c1,cls).__new__(cls)\n",
    "        return cls.obj\n",
    "        \n",
    "    def __init__(self,a,b):\n",
    "        print \"init method\"\n",
    "        self.a=a\n",
    "        self.b=b\n",
    "        \n",
    "    def get(self):\n",
    "        return self.a,self.b\n",
    "o1=c1(10,20)\n",
    "print o1.get()\n",
    "o2 = c1(100,200)\n",
    "o3= c1(1000,20000)\n",
    "print id(o1),id(o2),id(o3)\n",
    "print o1.get()\n",
    "print o2.get()\n",
    "print o3.get()"
   ]
  },
  {
   "cell_type": "code",
   "execution_count": 25,
   "metadata": {
    "collapsed": false
   },
   "outputs": [
    {
     "name": "stdout",
     "output_type": "stream",
     "text": [
      "class definition\n",
      "new gets called\n",
      "calling parent calss method new\n",
      "init method\n",
      "<__main__.c1 object at 0x0000000003F175C0>\n",
      "(10, 20)\n",
      "new gets called\n",
      "Only one object can be allowed\n"
     ]
    }
   ],
   "source": [
    "class c1(object): \n",
    "    obj=False\n",
    "    print \"class definition\"\n",
    "    def __new__(cls,a,b):\n",
    "        print \"new gets called\"\n",
    "        if not cls.obj:\n",
    "            print \"calling parent calss method new\"\n",
    "            cls.obj = super(c1,cls).__new__(cls)\n",
    "        else:\n",
    "            raise Exception(\"Only one object can be allowed\")\n",
    "        return cls.obj\n",
    "        \n",
    "    def __init__(self,a,b):\n",
    "        print \"init method\"\n",
    "        self.a=a\n",
    "        self.b=b\n",
    "        \n",
    "    def get(self):\n",
    "        return self.a,self.b\n",
    "try:\n",
    "    o1=c1(10,20)\n",
    "    print o1\n",
    "    print o1.get()\n",
    "    o2 = c1(100,200)\n",
    "    o3= c1(1000,20000)\n",
    "    print id(o1),id(o2),id(o3)\n",
    "except Exception as err:\n",
    "    print err"
   ]
  },
  {
   "cell_type": "code",
   "execution_count": 23,
   "metadata": {
    "collapsed": false
   },
   "outputs": [
    {
     "name": "stdout",
     "output_type": "stream",
     "text": [
      "a is false\n"
     ]
    }
   ],
   "source": [
    "a=False\n",
    "if not a:\n",
    "    print \"a is false\"\n",
    "a=10\n",
    "if not a:\n",
    "    print \"a is false\""
   ]
  },
  {
   "cell_type": "code",
   "execution_count": 27,
   "metadata": {
    "collapsed": false
   },
   "outputs": [
    {
     "name": "stdout",
     "output_type": "stream",
     "text": [
      "fun in c1\n"
     ]
    }
   ],
   "source": [
    "class c1:\n",
    "    def fun(self):\n",
    "        print \"fun in c1\"\n",
    "class c2(c1):\n",
    "    def fun2(self):\n",
    "        self.fun()\n",
    "        \n",
    "o2=c2()\n",
    "o2.fun2()"
   ]
  },
  {
   "cell_type": "code",
   "execution_count": 29,
   "metadata": {
    "collapsed": false
   },
   "outputs": [
    {
     "name": "stdout",
     "output_type": "stream",
     "text": [
      "fun in c1\n",
      "fun in c1\n"
     ]
    }
   ],
   "source": [
    "class c1:\n",
    "    def fun(self):\n",
    "        print \"fun in c1\"\n",
    "class c2(c1):\n",
    "    def fun2(self):\n",
    "        self.fun()\n",
    "    def fun(self):\n",
    "        c1.fun(self)\n",
    "        \n",
    "        \n",
    "        \n",
    "o2=c2()\n",
    "o2.fun2()\n",
    "o2.fun()"
   ]
  },
  {
   "cell_type": "code",
   "execution_count": 31,
   "metadata": {
    "collapsed": false
   },
   "outputs": [
    {
     "name": "stdout",
     "output_type": "stream",
     "text": [
      "fun in c1\n",
      "fun in c1\n"
     ]
    }
   ],
   "source": [
    "class c1(object):\n",
    "    def fun(self):\n",
    "        print \"fun in c1\"\n",
    "class c2(c1):\n",
    "    def fun2(self):\n",
    "        self.fun()\n",
    "    def fun(self):\n",
    "        super(c2,self).fun()\n",
    "        \n",
    "        \n",
    "        \n",
    "o2=c2()\n",
    "o2.fun2()\n",
    "o2.fun()"
   ]
  },
  {
   "cell_type": "code",
   "execution_count": 32,
   "metadata": {
    "collapsed": false
   },
   "outputs": [
    {
     "ename": "TypeError",
     "evalue": "fun() takes exactly 3 arguments (4 given)",
     "output_type": "error",
     "traceback": [
      "\u001b[0;31m---------------------------------------------------------------------------\u001b[0m",
      "\u001b[0;31mTypeError\u001b[0m                                 Traceback (most recent call last)",
      "\u001b[0;32m<ipython-input-32-becb5c2468f9>\u001b[0m in \u001b[0;36m<module>\u001b[0;34m()\u001b[0m\n\u001b[1;32m      8\u001b[0m         \u001b[1;32mprint\u001b[0m \u001b[0ma\u001b[0m\u001b[1;33m,\u001b[0m\u001b[0mb\u001b[0m\u001b[1;33m\u001b[0m\u001b[0m\n\u001b[1;32m      9\u001b[0m \u001b[0mo1\u001b[0m\u001b[1;33m=\u001b[0m\u001b[0mc1\u001b[0m\u001b[1;33m(\u001b[0m\u001b[1;33m)\u001b[0m\u001b[1;33m\u001b[0m\u001b[0m\n\u001b[0;32m---> 10\u001b[0;31m \u001b[1;32mprint\u001b[0m \u001b[0mo1\u001b[0m\u001b[1;33m.\u001b[0m\u001b[0mfun\u001b[0m\u001b[1;33m(\u001b[0m\u001b[1;36m10\u001b[0m\u001b[1;33m,\u001b[0m\u001b[1;36m20\u001b[0m\u001b[1;33m,\u001b[0m\u001b[1;36m30\u001b[0m\u001b[1;33m)\u001b[0m\u001b[1;33m\u001b[0m\u001b[0m\n\u001b[0m",
      "\u001b[0;31mTypeError\u001b[0m: fun() takes exactly 3 arguments (4 given)"
     ]
    }
   ],
   "source": [
    "# method overloading.\n",
    "class c1:\n",
    "    def fun(self,a,b,c):\n",
    "        print a,b,c\n",
    "    def fun(self,a,b,c,d):\n",
    "        print a,b,c,d\n",
    "    def fun(self,a,b):\n",
    "        print a,b\n",
    "o1=c1()\n",
    "print o1.fun(10,20,30)"
   ]
  },
  {
   "cell_type": "code",
   "execution_count": 33,
   "metadata": {
    "collapsed": false
   },
   "outputs": [
    {
     "ename": "TypeError",
     "evalue": "fun() takes exactly 3 arguments (5 given)",
     "output_type": "error",
     "traceback": [
      "\u001b[0;31m---------------------------------------------------------------------------\u001b[0m",
      "\u001b[0;31mTypeError\u001b[0m                                 Traceback (most recent call last)",
      "\u001b[0;32m<ipython-input-33-d40162b5c4f8>\u001b[0m in \u001b[0;36m<module>\u001b[0;34m()\u001b[0m\n\u001b[1;32m      8\u001b[0m         \u001b[1;32mprint\u001b[0m \u001b[0ma\u001b[0m\u001b[1;33m,\u001b[0m\u001b[0mb\u001b[0m\u001b[1;33m\u001b[0m\u001b[0m\n\u001b[1;32m      9\u001b[0m \u001b[0mo1\u001b[0m\u001b[1;33m=\u001b[0m\u001b[0mc1\u001b[0m\u001b[1;33m(\u001b[0m\u001b[1;33m)\u001b[0m\u001b[1;33m\u001b[0m\u001b[0m\n\u001b[0;32m---> 10\u001b[0;31m \u001b[1;32mprint\u001b[0m \u001b[0mo1\u001b[0m\u001b[1;33m.\u001b[0m\u001b[0mfun\u001b[0m\u001b[1;33m(\u001b[0m\u001b[1;36m10\u001b[0m\u001b[1;33m,\u001b[0m\u001b[1;36m20\u001b[0m\u001b[1;33m,\u001b[0m\u001b[1;36m30\u001b[0m\u001b[1;33m,\u001b[0m\u001b[1;36m40\u001b[0m\u001b[1;33m)\u001b[0m\u001b[1;33m\u001b[0m\u001b[0m\n\u001b[0m",
      "\u001b[0;31mTypeError\u001b[0m: fun() takes exactly 3 arguments (5 given)"
     ]
    }
   ],
   "source": [
    "# method overloading.\n",
    "class c1:\n",
    "    def fun(self,a,b,c):\n",
    "        print a,b,c\n",
    "    def fun(self,a,b,c,d):\n",
    "        print a,b,c,d\n",
    "    def fun(self,a,b):\n",
    "        print a,b\n",
    "o1=c1()\n",
    "print o1.fun(10,20,30,40)"
   ]
  },
  {
   "cell_type": "code",
   "execution_count": 34,
   "metadata": {
    "collapsed": true
   },
   "outputs": [],
   "source": [
    "a=10\n",
    "a=20\n",
    "a=30"
   ]
  },
  {
   "cell_type": "code",
   "execution_count": 35,
   "metadata": {
    "collapsed": false
   },
   "outputs": [
    {
     "name": "stdout",
     "output_type": "stream",
     "text": [
      "30\n"
     ]
    }
   ],
   "source": [
    "print a"
   ]
  },
  {
   "cell_type": "code",
   "execution_count": 36,
   "metadata": {
    "collapsed": false
   },
   "outputs": [
    {
     "name": "stdout",
     "output_type": "stream",
     "text": [
      "100\n",
      "10\n",
      "102\n",
      "240\n"
     ]
    }
   ],
   "source": [
    "# method overloading.\n",
    "class c1:\n",
    "    def fun(self,*args):\n",
    "        return sum(args)\n",
    "    \n",
    "o1=c1()\n",
    "print o1.fun(10,20,30,40)\n",
    "print o1.fun(10)\n",
    "print o1.fun(102,0)\n",
    "print o1.fun(10,20,30,40,40,50,50)"
   ]
  },
  {
   "cell_type": "code",
   "execution_count": 37,
   "metadata": {
    "collapsed": false
   },
   "outputs": [
    {
     "ename": "TypeError",
     "evalue": "__init__() got an unexpected keyword argument 'iolimit'",
     "output_type": "error",
     "traceback": [
      "\u001b[0;31m---------------------------------------------------------------------------\u001b[0m",
      "\u001b[0;31mTypeError\u001b[0m                                 Traceback (most recent call last)",
      "\u001b[0;32m<ipython-input-37-9b65d99b5fdd>\u001b[0m in \u001b[0;36m<module>\u001b[0;34m()\u001b[0m\n\u001b[1;32m     12\u001b[0m \u001b[1;33m\u001b[0m\u001b[0m\n\u001b[1;32m     13\u001b[0m \u001b[1;33m\u001b[0m\u001b[0m\n\u001b[0;32m---> 14\u001b[0;31m \u001b[0mlun1\u001b[0m\u001b[1;33m=\u001b[0m\u001b[0mLun\u001b[0m\u001b[1;33m(\u001b[0m\u001b[0mlunname\u001b[0m\u001b[1;33m=\u001b[0m\u001b[1;34m'lun1'\u001b[0m\u001b[1;33m,\u001b[0m\u001b[0mlunsize\u001b[0m\u001b[1;33m=\u001b[0m\u001b[1;34m\"20M\"\u001b[0m\u001b[1;33m,\u001b[0m\u001b[0mpool\u001b[0m\u001b[1;33m=\u001b[0m\u001b[1;34m\"pool1\"\u001b[0m\u001b[1;33m,\u001b[0m\u001b[0miolimit\u001b[0m\u001b[1;33m=\u001b[0m\u001b[1;36m200\u001b[0m\u001b[1;33m,\u001b[0m \u001b[0mthin\u001b[0m\u001b[1;33m=\u001b[0m\u001b[1;34m\"yes\"\u001b[0m\u001b[1;33m,\u001b[0m\u001b[1;33m)\u001b[0m\u001b[1;33m\u001b[0m\u001b[0m\n\u001b[0m\u001b[1;32m     15\u001b[0m \u001b[0mlunid\u001b[0m \u001b[1;33m=\u001b[0m \u001b[0ml1\u001b[0m\u001b[1;33m.\u001b[0m\u001b[0mcreate\u001b[0m\u001b[1;33m(\u001b[0m\u001b[1;33m)\u001b[0m\u001b[1;33m\u001b[0m\u001b[0m\n",
      "\u001b[0;31mTypeError\u001b[0m: __init__() got an unexpected keyword argument 'iolimit'"
     ]
    }
   ],
   "source": [
    "# create lun\n",
    "# lunname, lunsize, pool, [ioimit,thin,type]\n",
    "\n",
    "class Lun:\n",
    "    def __init__(self,lunname,lunsize,pool):\n",
    "        self.lunname=lunname\n",
    "        self.lunsize=lunsize\n",
    "        self.pool=pool\n",
    "    def create(self, ):\n",
    "        print \"creating lun\"\n",
    "        return 20\n",
    "    \n",
    "    \n",
    "lun1=Lun(lunname='lun1',lunsize=\"20M\",pool=\"pool1\",iolimit=200, thin=\"yes\",)\n",
    "lunid = l1.create()"
   ]
  },
  {
   "cell_type": "code",
   "execution_count": 43,
   "metadata": {
    "collapsed": false
   },
   "outputs": [
    {
     "name": "stdout",
     "output_type": "stream",
     "text": [
      "creating lun\n",
      "{'iolimit': 200, 'thin': 'yes'}\n"
     ]
    }
   ],
   "source": [
    "# create lun\n",
    "# lunname, lunsize, pool, [ioimit,thin,type]\n",
    "\n",
    "class Lun:\n",
    "    def __init__(self,lunname,lunsize,pool,**kwargs):\n",
    "        self.lunname=lunname\n",
    "        self.lunsize=lunsize\n",
    "        self.pool=pool\n",
    "        self.context= kwargs\n",
    "    def create(self,):\n",
    "        print \"creating lun\"\n",
    "        print self.context\n",
    "        return 20\n",
    "    \n",
    "    \n",
    "lun1=Lun(lunname='lun1',lunsize=\"20M\",pool=\"pool1\",iolimit=200, thin=\"yes\",)\n",
    "lunid = lun1.create()"
   ]
  },
  {
   "cell_type": "code",
   "execution_count": 46,
   "metadata": {
    "collapsed": false
   },
   "outputs": [
    {
     "name": "stdout",
     "output_type": "stream",
     "text": [
      "creating lun\n",
      "10\n"
     ]
    }
   ],
   "source": [
    "# create lun\n",
    "# lunname, lunsize, pool, [ioimit,thin,type]\n",
    "\n",
    "class Lun:\n",
    "    def __init__(self,lunname,lunsize,pool,iolimit=10,thin=\"yes\"):\n",
    "        \"\"\"\n",
    "        params: lunname,lunsize,pool, [iolimit,thin]\n",
    "        \"\"\"\n",
    "        self.lunname=lunname\n",
    "        self.lunsize=lunsize\n",
    "        self.pool=pool\n",
    "        self.iolimit = iolimit\n",
    "        self.thin=thin\n",
    "    def create(self,):\n",
    "        print \"creating lun\"\n",
    "        print self.iolimit\n",
    "        return 20\n",
    "    \n",
    "    \n",
    "lun1=Lun(lunname='lun1',lunsize=\"20M\",pool=\"pool1\",iolimit=200, thin=\"yes\",)\n",
    "lun1=Lun(lunname='lun1',lunsize=\"20M\",pool=\"pool1\")\n",
    "lunid = lun1.create()"
   ]
  },
  {
   "cell_type": "code",
   "execution_count": 47,
   "metadata": {
    "collapsed": false
   },
   "outputs": [
    {
     "name": "stdout",
     "output_type": "stream",
     "text": [
      "(10, 20, 30, 40)\n"
     ]
    }
   ],
   "source": [
    "def fun(*args):\n",
    "    print args\n",
    "fun(10,20,30,40)"
   ]
  },
  {
   "cell_type": "code",
   "execution_count": 48,
   "metadata": {
    "collapsed": false
   },
   "outputs": [
    {
     "ename": "SyntaxError",
     "evalue": "non-keyword arg after keyword arg (<ipython-input-48-585e1e504087>, line 3)",
     "output_type": "error",
     "traceback": [
      "\u001b[0;36m  File \u001b[0;32m\"<ipython-input-48-585e1e504087>\"\u001b[0;36m, line \u001b[0;32m3\u001b[0m\n\u001b[0;31m    fun(a=10,b=20,30,40)\u001b[0m\n\u001b[0;31mSyntaxError\u001b[0m\u001b[0;31m:\u001b[0m non-keyword arg after keyword arg\n"
     ]
    }
   ],
   "source": [
    "def fun(*args):\n",
    "    print args\n",
    "fun(a=10,b=20,30,40)"
   ]
  },
  {
   "cell_type": "code",
   "execution_count": 49,
   "metadata": {
    "collapsed": false
   },
   "outputs": [
    {
     "ename": "TypeError",
     "evalue": "fun() takes exactly 0 arguments (4 given)",
     "output_type": "error",
     "traceback": [
      "\u001b[0;31m---------------------------------------------------------------------------\u001b[0m",
      "\u001b[0;31mTypeError\u001b[0m                                 Traceback (most recent call last)",
      "\u001b[0;32m<ipython-input-49-01f4de253f83>\u001b[0m in \u001b[0;36m<module>\u001b[0;34m()\u001b[0m\n\u001b[1;32m      1\u001b[0m \u001b[1;32mdef\u001b[0m \u001b[0mfun\u001b[0m\u001b[1;33m(\u001b[0m\u001b[1;33m**\u001b[0m\u001b[0mkwargs\u001b[0m\u001b[1;33m)\u001b[0m\u001b[1;33m:\u001b[0m\u001b[1;33m\u001b[0m\u001b[0m\n\u001b[1;32m      2\u001b[0m     \u001b[1;32mprint\u001b[0m \u001b[0mkwargs\u001b[0m\u001b[1;33m\u001b[0m\u001b[0m\n\u001b[0;32m----> 3\u001b[0;31m \u001b[0mfun\u001b[0m\u001b[1;33m(\u001b[0m\u001b[1;36m10\u001b[0m\u001b[1;33m,\u001b[0m\u001b[1;36m20\u001b[0m\u001b[1;33m,\u001b[0m\u001b[1;36m30\u001b[0m\u001b[1;33m,\u001b[0m\u001b[1;36m40\u001b[0m\u001b[1;33m)\u001b[0m\u001b[1;33m\u001b[0m\u001b[0m\n\u001b[0m",
      "\u001b[0;31mTypeError\u001b[0m: fun() takes exactly 0 arguments (4 given)"
     ]
    }
   ],
   "source": [
    "def fun(**kwargs):\n",
    "    print kwargs\n",
    "fun(10,20,30,40)"
   ]
  },
  {
   "cell_type": "code",
   "execution_count": 50,
   "metadata": {
    "collapsed": false
   },
   "outputs": [
    {
     "name": "stdout",
     "output_type": "stream",
     "text": [
      "{'a': 10, 'c': 30, 'b': 20, 'd': 40}\n"
     ]
    }
   ],
   "source": [
    "def fun(**kwargs):\n",
    "    print kwargs\n",
    "fun(a=10,b=20,c=30,d=40)"
   ]
  },
  {
   "cell_type": "code",
   "execution_count": 51,
   "metadata": {
    "collapsed": false
   },
   "outputs": [
    {
     "name": "stdout",
     "output_type": "stream",
     "text": [
      "{'a': 10, 'c': 30, 'b': 20, 'd': 40}\n",
      "()\n"
     ]
    }
   ],
   "source": [
    "def fun(*args,**kwargs):\n",
    "    print kwargs\n",
    "    print args\n",
    "fun(a=10,b=20,c=30,d=40)"
   ]
  },
  {
   "cell_type": "code",
   "execution_count": 52,
   "metadata": {
    "collapsed": false
   },
   "outputs": [
    {
     "name": "stdout",
     "output_type": "stream",
     "text": [
      "{'a': 10, 'b': 20, 'd': 40}\n",
      "(30,)\n"
     ]
    }
   ],
   "source": [
    "def fun(*args,**kwargs):\n",
    "    print kwargs\n",
    "    print args\n",
    "fun(30,a=10,b=20,d=40)"
   ]
  },
  {
   "cell_type": "code",
   "execution_count": 53,
   "metadata": {
    "collapsed": false
   },
   "outputs": [
    {
     "ename": "SyntaxError",
     "evalue": "non-keyword arg after keyword arg (<ipython-input-53-23198ac52c5e>, line 4)",
     "output_type": "error",
     "traceback": [
      "\u001b[0;36m  File \u001b[0;32m\"<ipython-input-53-23198ac52c5e>\"\u001b[0;36m, line \u001b[0;32m4\u001b[0m\n\u001b[0;31m    fun(a=10,b=20,d=40,30)\u001b[0m\n\u001b[0;31mSyntaxError\u001b[0m\u001b[0;31m:\u001b[0m non-keyword arg after keyword arg\n"
     ]
    }
   ],
   "source": [
    "def fun(*args,**kwargs):\n",
    "    print kwargs\n",
    "    print args\n",
    "fun(a=10,b=20,d=40,30)"
   ]
  },
  {
   "cell_type": "code",
   "execution_count": 54,
   "metadata": {
    "collapsed": false
   },
   "outputs": [
    {
     "ename": "SyntaxError",
     "evalue": "invalid syntax (<ipython-input-54-0b6e953935b5>, line 1)",
     "output_type": "error",
     "traceback": [
      "\u001b[0;36m  File \u001b[0;32m\"<ipython-input-54-0b6e953935b5>\"\u001b[0;36m, line \u001b[0;32m1\u001b[0m\n\u001b[0;31m    def fun(**kwargs,*args):\u001b[0m\n\u001b[0m                    ^\u001b[0m\n\u001b[0;31mSyntaxError\u001b[0m\u001b[0;31m:\u001b[0m invalid syntax\n"
     ]
    }
   ],
   "source": [
    "def fun(**kwargs,*args):\n",
    "    print kwargs\n",
    "    print args\n",
    "fun(a=10,b=20,d=40,30)"
   ]
  },
  {
   "cell_type": "code",
   "execution_count": 55,
   "metadata": {
    "collapsed": false
   },
   "outputs": [
    {
     "name": "stdout",
     "output_type": "stream",
     "text": [
      "30\n",
      "str1str2\n",
      "[1, 2, 3, 4, 5, 6]\n"
     ]
    }
   ],
   "source": [
    "print 10+20\n",
    "print \"str1\"+\"str2\"\n",
    "print [1,2,3]+[4,5,6]"
   ]
  },
  {
   "cell_type": "code",
   "execution_count": 56,
   "metadata": {
    "collapsed": false
   },
   "outputs": [
    {
     "ename": "TypeError",
     "evalue": "unsupported operand type(s) for +: 'instance' and 'instance'",
     "output_type": "error",
     "traceback": [
      "\u001b[0;31m---------------------------------------------------------------------------\u001b[0m",
      "\u001b[0;31mTypeError\u001b[0m                                 Traceback (most recent call last)",
      "\u001b[0;32m<ipython-input-56-2db1e9958892>\u001b[0m in \u001b[0;36m<module>\u001b[0;34m()\u001b[0m\n\u001b[1;32m      5\u001b[0m \u001b[0mo1\u001b[0m\u001b[1;33m=\u001b[0m\u001b[0mc1\u001b[0m\u001b[1;33m(\u001b[0m\u001b[1;36m10\u001b[0m\u001b[1;33m,\u001b[0m\u001b[1;36m20\u001b[0m\u001b[1;33m)\u001b[0m\u001b[1;33m\u001b[0m\u001b[0m\n\u001b[1;32m      6\u001b[0m \u001b[0mo2\u001b[0m\u001b[1;33m=\u001b[0m\u001b[0mc1\u001b[0m\u001b[1;33m(\u001b[0m\u001b[1;36m100\u001b[0m\u001b[1;33m,\u001b[0m\u001b[1;36m200\u001b[0m\u001b[1;33m)\u001b[0m\u001b[1;33m\u001b[0m\u001b[0m\n\u001b[0;32m----> 7\u001b[0;31m \u001b[1;32mprint\u001b[0m \u001b[0mo1\u001b[0m\u001b[1;33m+\u001b[0m\u001b[0mo2\u001b[0m\u001b[1;33m\u001b[0m\u001b[0m\n\u001b[0m",
      "\u001b[0;31mTypeError\u001b[0m: unsupported operand type(s) for +: 'instance' and 'instance'"
     ]
    }
   ],
   "source": [
    "class c1:\n",
    "    def __init__(self,a,b):\n",
    "        self.a=a\n",
    "        self.b=b\n",
    "o1=c1(10,20)\n",
    "o2=c1(100,200)\n",
    "print o1+o2"
   ]
  },
  {
   "cell_type": "code",
   "execution_count": 57,
   "metadata": {
    "collapsed": false
   },
   "outputs": [
    {
     "name": "stdout",
     "output_type": "stream",
     "text": [
      "retunr values\n"
     ]
    }
   ],
   "source": [
    "class c1:\n",
    "    def __init__(self,a,b):\n",
    "        self.a=a\n",
    "        self.b=b\n",
    "    def __add__(obj1,obj2):\n",
    "        return \"retunr values\"\n",
    "o1=c1(10,20)\n",
    "o2=c1(100,200)\n",
    "print o1+o2"
   ]
  },
  {
   "cell_type": "code",
   "execution_count": 59,
   "metadata": {
    "collapsed": false
   },
   "outputs": [
    {
     "name": "stdout",
     "output_type": "stream",
     "text": [
      "(110, 220)\n"
     ]
    }
   ],
   "source": [
    "class c1:\n",
    "    def __init__(self,a,b):\n",
    "        self.a=a\n",
    "        self.b=b\n",
    "    def __add__(obj1,obj2):\n",
    "        return obj1.a+obj2.a,obj1.b+obj2.b\n",
    "    def __sub__(obj1,obj2):\n",
    "        return \"sdfdsf\"\n",
    "o1=c1(10,20)\n",
    "o2=c1(100,200)\n",
    "print o1+o2"
   ]
  },
  {
   "cell_type": "code",
   "execution_count": 61,
   "metadata": {
    "collapsed": false
   },
   "outputs": [
    {
     "name": "stdout",
     "output_type": "stream",
     "text": [
      "(110, 220)\n"
     ]
    },
    {
     "ename": "TypeError",
     "evalue": "can only concatenate tuple (not \"instance\") to tuple",
     "output_type": "error",
     "traceback": [
      "\u001b[0;31m---------------------------------------------------------------------------\u001b[0m",
      "\u001b[0;31mTypeError\u001b[0m                                 Traceback (most recent call last)",
      "\u001b[0;32m<ipython-input-61-21a264ecedc1>\u001b[0m in \u001b[0;36m<module>\u001b[0;34m()\u001b[0m\n\u001b[1;32m     11\u001b[0m \u001b[0mo3\u001b[0m\u001b[1;33m=\u001b[0m\u001b[0mc1\u001b[0m\u001b[1;33m(\u001b[0m\u001b[1;36m1000\u001b[0m\u001b[1;33m,\u001b[0m\u001b[1;36m2000\u001b[0m\u001b[1;33m)\u001b[0m\u001b[1;33m\u001b[0m\u001b[0m\n\u001b[1;32m     12\u001b[0m \u001b[1;32mprint\u001b[0m \u001b[0mo1\u001b[0m\u001b[1;33m+\u001b[0m\u001b[0mo2\u001b[0m\u001b[1;33m\u001b[0m\u001b[0m\n\u001b[0;32m---> 13\u001b[0;31m \u001b[1;32mprint\u001b[0m \u001b[0mo1\u001b[0m\u001b[1;33m+\u001b[0m\u001b[0mo2\u001b[0m\u001b[1;33m+\u001b[0m\u001b[0mo3\u001b[0m\u001b[1;33m\u001b[0m\u001b[0m\n\u001b[0m",
      "\u001b[0;31mTypeError\u001b[0m: can only concatenate tuple (not \"instance\") to tuple"
     ]
    }
   ],
   "source": [
    "class c1:\n",
    "    def __init__(self,a,b):\n",
    "        self.a=a\n",
    "        self.b=b\n",
    "    def __add__(obj1,obj2):\n",
    "        return obj1.a+obj2.a,obj1.b+obj2.b\n",
    "    def __sub__(obj1,obj2):\n",
    "        return \"sdfdsf\"\n",
    "o1=c1(10,20)\n",
    "o2=c1(100,200)\n",
    "o3=c1(1000,2000)\n",
    "print o1+o2\n",
    "print o1+o2+o3"
   ]
  },
  {
   "cell_type": "code",
   "execution_count": null,
   "metadata": {
    "collapsed": true
   },
   "outputs": [],
   "source": []
  }
 ],
 "metadata": {
  "anaconda-cloud": {},
  "kernelspec": {
   "display_name": "Python [default]",
   "language": "python",
   "name": "python2"
  },
  "language_info": {
   "codemirror_mode": {
    "name": "ipython",
    "version": 2
   },
   "file_extension": ".py",
   "mimetype": "text/x-python",
   "name": "python",
   "nbconvert_exporter": "python",
   "pygments_lexer": "ipython2",
   "version": "2.7.12"
  }
 },
 "nbformat": 4,
 "nbformat_minor": 1
}
