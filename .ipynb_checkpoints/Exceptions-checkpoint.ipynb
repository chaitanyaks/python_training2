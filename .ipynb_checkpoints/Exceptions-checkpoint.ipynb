{
 "cells": [
  {
   "cell_type": "code",
   "execution_count": 1,
   "metadata": {
    "collapsed": false
   },
   "outputs": [
    {
     "name": "stdout",
     "output_type": "stream",
     "text": [
      "enter a value:12\n",
      "Enter b value:6\n",
      "result= 2\n",
      "ohter statements in program\n",
      "porgram ended\n"
     ]
    }
   ],
   "source": [
    "a=raw_input(\"enter a value:\")\n",
    "b=raw_input(\"Enter b value:\")\n",
    "a=int(a)\n",
    "b=int(b)\n",
    "res=a/b\n",
    "print \"result=\",res\n",
    "print \"ohter statements in program\"\n",
    "print \"porgram ended\""
   ]
  },
  {
   "cell_type": "code",
   "execution_count": 2,
   "metadata": {
    "collapsed": false
   },
   "outputs": [
    {
     "name": "stdout",
     "output_type": "stream",
     "text": [
      "enter a value:1.2\n",
      "Enter b value:0.6\n"
     ]
    },
    {
     "ename": "ValueError",
     "evalue": "invalid literal for int() with base 10: '1.2'",
     "output_type": "error",
     "traceback": [
      "\u001b[0;31m---------------------------------------------------------------------------\u001b[0m",
      "\u001b[0;31mValueError\u001b[0m                                Traceback (most recent call last)",
      "\u001b[0;32m<ipython-input-2-c082d4d995d7>\u001b[0m in \u001b[0;36m<module>\u001b[0;34m()\u001b[0m\n\u001b[1;32m      1\u001b[0m \u001b[0ma\u001b[0m\u001b[1;33m=\u001b[0m\u001b[0mraw_input\u001b[0m\u001b[1;33m(\u001b[0m\u001b[1;34m\"enter a value:\"\u001b[0m\u001b[1;33m)\u001b[0m\u001b[1;33m\u001b[0m\u001b[0m\n\u001b[1;32m      2\u001b[0m \u001b[0mb\u001b[0m\u001b[1;33m=\u001b[0m\u001b[0mraw_input\u001b[0m\u001b[1;33m(\u001b[0m\u001b[1;34m\"Enter b value:\"\u001b[0m\u001b[1;33m)\u001b[0m\u001b[1;33m\u001b[0m\u001b[0m\n\u001b[0;32m----> 3\u001b[0;31m \u001b[0ma\u001b[0m\u001b[1;33m=\u001b[0m\u001b[0mint\u001b[0m\u001b[1;33m(\u001b[0m\u001b[0ma\u001b[0m\u001b[1;33m)\u001b[0m\u001b[1;33m\u001b[0m\u001b[0m\n\u001b[0m\u001b[1;32m      4\u001b[0m \u001b[0mb\u001b[0m\u001b[1;33m=\u001b[0m\u001b[0mint\u001b[0m\u001b[1;33m(\u001b[0m\u001b[0mb\u001b[0m\u001b[1;33m)\u001b[0m\u001b[1;33m\u001b[0m\u001b[0m\n\u001b[1;32m      5\u001b[0m \u001b[0mres\u001b[0m\u001b[1;33m=\u001b[0m\u001b[0ma\u001b[0m\u001b[1;33m/\u001b[0m\u001b[0mb\u001b[0m\u001b[1;33m\u001b[0m\u001b[0m\n",
      "\u001b[0;31mValueError\u001b[0m: invalid literal for int() with base 10: '1.2'"
     ]
    }
   ],
   "source": [
    "a=raw_input(\"enter a value:\")\n",
    "b=raw_input(\"Enter b value:\")\n",
    "a=int(a)\n",
    "b=int(b)\n",
    "res=a/b\n",
    "print \"result=\",res\n",
    "print \"ohter statements in program\"\n",
    "print \"porgram ended\""
   ]
  },
  {
   "cell_type": "code",
   "execution_count": 3,
   "metadata": {
    "collapsed": false
   },
   "outputs": [
    {
     "name": "stdout",
     "output_type": "stream",
     "text": [
      "enter a value:ewr\n",
      "Enter b value:wrwe\n"
     ]
    },
    {
     "ename": "ValueError",
     "evalue": "invalid literal for int() with base 10: 'ewr'",
     "output_type": "error",
     "traceback": [
      "\u001b[0;31m---------------------------------------------------------------------------\u001b[0m",
      "\u001b[0;31mValueError\u001b[0m                                Traceback (most recent call last)",
      "\u001b[0;32m<ipython-input-3-c082d4d995d7>\u001b[0m in \u001b[0;36m<module>\u001b[0;34m()\u001b[0m\n\u001b[1;32m      1\u001b[0m \u001b[0ma\u001b[0m\u001b[1;33m=\u001b[0m\u001b[0mraw_input\u001b[0m\u001b[1;33m(\u001b[0m\u001b[1;34m\"enter a value:\"\u001b[0m\u001b[1;33m)\u001b[0m\u001b[1;33m\u001b[0m\u001b[0m\n\u001b[1;32m      2\u001b[0m \u001b[0mb\u001b[0m\u001b[1;33m=\u001b[0m\u001b[0mraw_input\u001b[0m\u001b[1;33m(\u001b[0m\u001b[1;34m\"Enter b value:\"\u001b[0m\u001b[1;33m)\u001b[0m\u001b[1;33m\u001b[0m\u001b[0m\n\u001b[0;32m----> 3\u001b[0;31m \u001b[0ma\u001b[0m\u001b[1;33m=\u001b[0m\u001b[0mint\u001b[0m\u001b[1;33m(\u001b[0m\u001b[0ma\u001b[0m\u001b[1;33m)\u001b[0m\u001b[1;33m\u001b[0m\u001b[0m\n\u001b[0m\u001b[1;32m      4\u001b[0m \u001b[0mb\u001b[0m\u001b[1;33m=\u001b[0m\u001b[0mint\u001b[0m\u001b[1;33m(\u001b[0m\u001b[0mb\u001b[0m\u001b[1;33m)\u001b[0m\u001b[1;33m\u001b[0m\u001b[0m\n\u001b[1;32m      5\u001b[0m \u001b[0mres\u001b[0m\u001b[1;33m=\u001b[0m\u001b[0ma\u001b[0m\u001b[1;33m/\u001b[0m\u001b[0mb\u001b[0m\u001b[1;33m\u001b[0m\u001b[0m\n",
      "\u001b[0;31mValueError\u001b[0m: invalid literal for int() with base 10: 'ewr'"
     ]
    }
   ],
   "source": [
    "a=raw_input(\"enter a value:\")\n",
    "b=raw_input(\"Enter b value:\")\n",
    "a=int(a)\n",
    "b=int(b)\n",
    "res=a/b\n",
    "print \"result=\",res\n",
    "print \"ohter statements in program\"\n",
    "print \"porgram ended\""
   ]
  },
  {
   "cell_type": "code",
   "execution_count": 4,
   "metadata": {
    "collapsed": false
   },
   "outputs": [
    {
     "name": "stdout",
     "output_type": "stream",
     "text": [
      "enter a value:12\n",
      "Enter b value:0\n"
     ]
    },
    {
     "ename": "ZeroDivisionError",
     "evalue": "integer division or modulo by zero",
     "output_type": "error",
     "traceback": [
      "\u001b[0;31m---------------------------------------------------------------------------\u001b[0m",
      "\u001b[0;31mZeroDivisionError\u001b[0m                         Traceback (most recent call last)",
      "\u001b[0;32m<ipython-input-4-c082d4d995d7>\u001b[0m in \u001b[0;36m<module>\u001b[0;34m()\u001b[0m\n\u001b[1;32m      3\u001b[0m \u001b[0ma\u001b[0m\u001b[1;33m=\u001b[0m\u001b[0mint\u001b[0m\u001b[1;33m(\u001b[0m\u001b[0ma\u001b[0m\u001b[1;33m)\u001b[0m\u001b[1;33m\u001b[0m\u001b[0m\n\u001b[1;32m      4\u001b[0m \u001b[0mb\u001b[0m\u001b[1;33m=\u001b[0m\u001b[0mint\u001b[0m\u001b[1;33m(\u001b[0m\u001b[0mb\u001b[0m\u001b[1;33m)\u001b[0m\u001b[1;33m\u001b[0m\u001b[0m\n\u001b[0;32m----> 5\u001b[0;31m \u001b[0mres\u001b[0m\u001b[1;33m=\u001b[0m\u001b[0ma\u001b[0m\u001b[1;33m/\u001b[0m\u001b[0mb\u001b[0m\u001b[1;33m\u001b[0m\u001b[0m\n\u001b[0m\u001b[1;32m      6\u001b[0m \u001b[1;32mprint\u001b[0m \u001b[1;34m\"result=\"\u001b[0m\u001b[1;33m,\u001b[0m\u001b[0mres\u001b[0m\u001b[1;33m\u001b[0m\u001b[0m\n\u001b[1;32m      7\u001b[0m \u001b[1;32mprint\u001b[0m \u001b[1;34m\"ohter statements in program\"\u001b[0m\u001b[1;33m\u001b[0m\u001b[0m\n",
      "\u001b[0;31mZeroDivisionError\u001b[0m: integer division or modulo by zero"
     ]
    }
   ],
   "source": [
    "a=raw_input(\"enter a value:\")\n",
    "b=raw_input(\"Enter b value:\")\n",
    "a=int(a)\n",
    "b=int(b)\n",
    "res=a/b\n",
    "print \"result=\",res\n",
    "print \"ohter statements in program\"\n",
    "print \"porgram ended\""
   ]
  },
  {
   "cell_type": "code",
   "execution_count": 5,
   "metadata": {
    "collapsed": false
   },
   "outputs": [
    {
     "name": "stdout",
     "output_type": "stream",
     "text": [
      "enter a value:1.2\n",
      "Enter b value:06\n",
      "result= 0.2\n",
      "ohter statements in program\n",
      "porgram ended\n"
     ]
    }
   ],
   "source": [
    "a=raw_input(\"enter a value:\")\n",
    "b=raw_input(\"Enter b value:\")\n",
    "a=float(a)\n",
    "b=float(b)\n",
    "res=a/b\n",
    "print \"result=\",res\n",
    "print \"ohter statements in program\"\n",
    "print \"porgram ended\""
   ]
  },
  {
   "cell_type": "code",
   "execution_count": 6,
   "metadata": {
    "collapsed": false
   },
   "outputs": [
    {
     "name": "stdout",
     "output_type": "stream",
     "text": [
      "enter a value:12\n",
      "Enter b value:0\n"
     ]
    },
    {
     "ename": "ZeroDivisionError",
     "evalue": "float division by zero",
     "output_type": "error",
     "traceback": [
      "\u001b[0;31m---------------------------------------------------------------------------\u001b[0m",
      "\u001b[0;31mZeroDivisionError\u001b[0m                         Traceback (most recent call last)",
      "\u001b[0;32m<ipython-input-6-9930d5b4c325>\u001b[0m in \u001b[0;36m<module>\u001b[0;34m()\u001b[0m\n\u001b[1;32m      3\u001b[0m \u001b[0ma\u001b[0m\u001b[1;33m=\u001b[0m\u001b[0mfloat\u001b[0m\u001b[1;33m(\u001b[0m\u001b[0ma\u001b[0m\u001b[1;33m)\u001b[0m\u001b[1;33m\u001b[0m\u001b[0m\n\u001b[1;32m      4\u001b[0m \u001b[0mb\u001b[0m\u001b[1;33m=\u001b[0m\u001b[0mfloat\u001b[0m\u001b[1;33m(\u001b[0m\u001b[0mb\u001b[0m\u001b[1;33m)\u001b[0m\u001b[1;33m\u001b[0m\u001b[0m\n\u001b[0;32m----> 5\u001b[0;31m \u001b[0mres\u001b[0m\u001b[1;33m=\u001b[0m\u001b[0ma\u001b[0m\u001b[1;33m/\u001b[0m\u001b[0mb\u001b[0m\u001b[1;33m\u001b[0m\u001b[0m\n\u001b[0m\u001b[1;32m      6\u001b[0m \u001b[1;32mprint\u001b[0m \u001b[1;34m\"result=\"\u001b[0m\u001b[1;33m,\u001b[0m\u001b[0mres\u001b[0m\u001b[1;33m\u001b[0m\u001b[0m\n\u001b[1;32m      7\u001b[0m \u001b[1;32mprint\u001b[0m \u001b[1;34m\"ohter statements in program\"\u001b[0m\u001b[1;33m\u001b[0m\u001b[0m\n",
      "\u001b[0;31mZeroDivisionError\u001b[0m: float division by zero"
     ]
    }
   ],
   "source": [
    "a=raw_input(\"enter a value:\")\n",
    "b=raw_input(\"Enter b value:\")\n",
    "a=float(a)\n",
    "b=float(b)\n",
    "res=a/b\n",
    "print \"result=\",res\n",
    "print \"ohter statements in program\"\n",
    "print \"porgram ended\""
   ]
  },
  {
   "cell_type": "code",
   "execution_count": 7,
   "metadata": {
    "collapsed": false
   },
   "outputs": [
    {
     "name": "stdout",
     "output_type": "stream",
     "text": [
      "enter a value:qwewq\n",
      "Enter b value:eqqw\n"
     ]
    },
    {
     "ename": "ValueError",
     "evalue": "could not convert string to float: qwewq",
     "output_type": "error",
     "traceback": [
      "\u001b[0;31m---------------------------------------------------------------------------\u001b[0m",
      "\u001b[0;31mValueError\u001b[0m                                Traceback (most recent call last)",
      "\u001b[0;32m<ipython-input-7-9930d5b4c325>\u001b[0m in \u001b[0;36m<module>\u001b[0;34m()\u001b[0m\n\u001b[1;32m      1\u001b[0m \u001b[0ma\u001b[0m\u001b[1;33m=\u001b[0m\u001b[0mraw_input\u001b[0m\u001b[1;33m(\u001b[0m\u001b[1;34m\"enter a value:\"\u001b[0m\u001b[1;33m)\u001b[0m\u001b[1;33m\u001b[0m\u001b[0m\n\u001b[1;32m      2\u001b[0m \u001b[0mb\u001b[0m\u001b[1;33m=\u001b[0m\u001b[0mraw_input\u001b[0m\u001b[1;33m(\u001b[0m\u001b[1;34m\"Enter b value:\"\u001b[0m\u001b[1;33m)\u001b[0m\u001b[1;33m\u001b[0m\u001b[0m\n\u001b[0;32m----> 3\u001b[0;31m \u001b[0ma\u001b[0m\u001b[1;33m=\u001b[0m\u001b[0mfloat\u001b[0m\u001b[1;33m(\u001b[0m\u001b[0ma\u001b[0m\u001b[1;33m)\u001b[0m\u001b[1;33m\u001b[0m\u001b[0m\n\u001b[0m\u001b[1;32m      4\u001b[0m \u001b[0mb\u001b[0m\u001b[1;33m=\u001b[0m\u001b[0mfloat\u001b[0m\u001b[1;33m(\u001b[0m\u001b[0mb\u001b[0m\u001b[1;33m)\u001b[0m\u001b[1;33m\u001b[0m\u001b[0m\n\u001b[1;32m      5\u001b[0m \u001b[0mres\u001b[0m\u001b[1;33m=\u001b[0m\u001b[0ma\u001b[0m\u001b[1;33m/\u001b[0m\u001b[0mb\u001b[0m\u001b[1;33m\u001b[0m\u001b[0m\n",
      "\u001b[0;31mValueError\u001b[0m: could not convert string to float: qwewq"
     ]
    }
   ],
   "source": [
    "a=raw_input(\"enter a value:\")\n",
    "b=raw_input(\"Enter b value:\")\n",
    "a=float(a)\n",
    "b=float(b)\n",
    "res=a/b\n",
    "print \"result=\",res\n",
    "print \"ohter statements in program\"\n",
    "print \"porgram ended\""
   ]
  },
  {
   "cell_type": "code",
   "execution_count": 8,
   "metadata": {
    "collapsed": false
   },
   "outputs": [
    {
     "name": "stdout",
     "output_type": "stream",
     "text": [
      "enter a value:12\n",
      "Enter b value:0\n",
      "Somethong went wrong\n"
     ]
    }
   ],
   "source": [
    "try:\n",
    "    a=raw_input(\"enter a value:\")\n",
    "    b=raw_input(\"Enter b value:\")\n",
    "    a=float(a)\n",
    "    b=float(b)\n",
    "    res=a/b\n",
    "    print \"result=\",res\n",
    "    print \"ohter statements in program\"\n",
    "    print \"porgram ended\"\n",
    "except:\n",
    "    print \"Somethong went wrong\""
   ]
  },
  {
   "cell_type": "code",
   "execution_count": 9,
   "metadata": {
    "collapsed": false
   },
   "outputs": [
    {
     "name": "stdout",
     "output_type": "stream",
     "text": [
      "enter a value:12\n",
      "Enter b value:0\n",
      "Somethong went wrong\n",
      "ohter statements in program\n",
      "porgram ended\n"
     ]
    }
   ],
   "source": [
    "a=raw_input(\"enter a value:\")\n",
    "b=raw_input(\"Enter b value:\")\n",
    "try:\n",
    "    a=float(a)\n",
    "    b=float(b)\n",
    "    res=a/b\n",
    "    print \"result=\",res  \n",
    "except:\n",
    "    print \"Somethong went wrong\"\n",
    "print \"ohter statements in program\"\n",
    "print \"porgram ended\"\n"
   ]
  },
  {
   "cell_type": "code",
   "execution_count": 10,
   "metadata": {
    "collapsed": false
   },
   "outputs": [
    {
     "name": "stdout",
     "output_type": "stream",
     "text": [
      "enter a value:12\n",
      "Enter b value:6\n",
      "result= 2.0\n",
      "ohter statements in program\n",
      "porgram ended\n"
     ]
    }
   ],
   "source": [
    "a=raw_input(\"enter a value:\")\n",
    "b=raw_input(\"Enter b value:\")\n",
    "try:\n",
    "    a=float(a)\n",
    "    b=float(b)\n",
    "    res=a/b\n",
    "    print \"result=\",res  \n",
    "except:\n",
    "    print \"enter vlue except zero for b\"\n",
    "    print \"only enter digits for a,b\"\n",
    "print \"ohter statements in program\"\n",
    "print \"porgram ended\"\n"
   ]
  },
  {
   "cell_type": "code",
   "execution_count": 11,
   "metadata": {
    "collapsed": false
   },
   "outputs": [
    {
     "name": "stdout",
     "output_type": "stream",
     "text": [
      "enter a value:12\n",
      "Enter b value:0\n",
      "enter vlue except zero for b\n",
      "only enter digits for a,b\n",
      "ohter statements in program\n",
      "porgram ended\n"
     ]
    }
   ],
   "source": [
    "a=raw_input(\"enter a value:\")\n",
    "b=raw_input(\"Enter b value:\")\n",
    "try:\n",
    "    a=float(a)\n",
    "    b=float(b)\n",
    "    res=a/b\n",
    "    print \"result=\",res  \n",
    "except:\n",
    "    print \"enter vlue except zero for b\"\n",
    "    print \"only enter digits for a,b\"\n",
    "print \"ohter statements in program\"\n",
    "print \"porgram ended\"\n"
   ]
  },
  {
   "cell_type": "code",
   "execution_count": 12,
   "metadata": {
    "collapsed": false
   },
   "outputs": [
    {
     "name": "stdout",
     "output_type": "stream",
     "text": [
      "enter a value:12\n",
      "Enter b value:0\n",
      "enter vlue except zero for b\n",
      "ohter statements in program\n",
      "porgram ended\n"
     ]
    }
   ],
   "source": [
    "a=raw_input(\"enter a value:\")\n",
    "b=raw_input(\"Enter b value:\")\n",
    "try:\n",
    "    a=float(a)\n",
    "    b=float(b)\n",
    "    res=a/b\n",
    "    print \"result=\",res  \n",
    "except:\n",
    "    if b==0:\n",
    "        \n",
    "        print \"enter vlue except zero for b\"\n",
    "    else:\n",
    "        print \"only enter digits for a,b\"\n",
    "print \"ohter statements in program\"\n",
    "print \"porgram ended\"\n"
   ]
  },
  {
   "cell_type": "code",
   "execution_count": 13,
   "metadata": {
    "collapsed": false
   },
   "outputs": [
    {
     "name": "stdout",
     "output_type": "stream",
     "text": [
      "enter a value:qeqw\n",
      "Enter b value:wqeq\n",
      "only enter digits for a,b\n",
      "ohter statements in program\n",
      "porgram ended\n"
     ]
    }
   ],
   "source": [
    "a=raw_input(\"enter a value:\")\n",
    "b=raw_input(\"Enter b value:\")\n",
    "try:\n",
    "    a=float(a)\n",
    "    b=float(b)\n",
    "    res=a/b\n",
    "    print \"result=\",res  \n",
    "except:\n",
    "    if b==0:\n",
    "        \n",
    "        print \"enter vlue except zero for b\"\n",
    "    else:\n",
    "        print \"only enter digits for a,b\"\n",
    "print \"ohter statements in program\"\n",
    "print \"porgram ended\"\n"
   ]
  },
  {
   "cell_type": "code",
   "execution_count": 14,
   "metadata": {
    "collapsed": false
   },
   "outputs": [
    {
     "name": "stdout",
     "output_type": "stream",
     "text": [
      "enter a value:12\n",
      "Enter b value:3\n",
      "result= 4.0\n",
      "ohter statements in program\n",
      "porgram ended\n"
     ]
    }
   ],
   "source": [
    "a=raw_input(\"enter a value:\")\n",
    "b=raw_input(\"Enter b value:\")\n",
    "try:\n",
    "    a=float(a)\n",
    "    b=float(b)\n",
    "    res=a/b\n",
    "    print \"result=\",res  \n",
    "except Exception as err:\n",
    "    print err\n",
    "   \n",
    "print \"ohter statements in program\"\n",
    "print \"porgram ended\"\n"
   ]
  },
  {
   "cell_type": "code",
   "execution_count": 15,
   "metadata": {
    "collapsed": false
   },
   "outputs": [
    {
     "name": "stdout",
     "output_type": "stream",
     "text": [
      "enter a value:12\n",
      "Enter b value:0\n",
      "float division by zero\n",
      "ohter statements in program\n",
      "porgram ended\n"
     ]
    }
   ],
   "source": [
    "a=raw_input(\"enter a value:\")\n",
    "b=raw_input(\"Enter b value:\")\n",
    "try:\n",
    "    a=float(a)\n",
    "    b=float(b)\n",
    "    res=a/b\n",
    "    print \"result=\",res  \n",
    "except Exception as err:\n",
    "    print err\n",
    "   \n",
    "print \"ohter statements in program\"\n",
    "print \"porgram ended\"\n"
   ]
  },
  {
   "cell_type": "code",
   "execution_count": 16,
   "metadata": {
    "collapsed": false
   },
   "outputs": [
    {
     "name": "stdout",
     "output_type": "stream",
     "text": [
      "enter a value:qwe\n",
      "Enter b value:rt\n",
      "could not convert string to float: qwe\n",
      "ohter statements in program\n",
      "porgram ended\n"
     ]
    }
   ],
   "source": [
    "a=raw_input(\"enter a value:\")\n",
    "b=raw_input(\"Enter b value:\")\n",
    "try:\n",
    "    a=float(a)\n",
    "    b=float(b)\n",
    "    res=a/b\n",
    "    print \"result=\",res  \n",
    "except Exception as err:\n",
    "    print err\n",
    "   \n",
    "print \"ohter statements in program\"\n",
    "print \"porgram ended\"\n"
   ]
  },
  {
   "cell_type": "code",
   "execution_count": 17,
   "metadata": {
    "collapsed": false
   },
   "outputs": [
    {
     "name": "stdout",
     "output_type": "stream",
     "text": [
      "enter a value:12\n",
      "Enter b value:0\n",
      "zero division erro raised\n",
      "b value should not zero\n",
      "ohter statements in program\n",
      "porgram ended\n"
     ]
    }
   ],
   "source": [
    "a=raw_input(\"enter a value:\")\n",
    "b=raw_input(\"Enter b value:\")\n",
    "try:\n",
    "    a=float(a)\n",
    "    b=float(b)\n",
    "    res=a/b\n",
    "    print \"result=\",res\n",
    "except ValueError:\n",
    "    print \"valuer erro exception raised\"\n",
    "    print \"Enter only digits\"\n",
    "except ZeroDivisionError:\n",
    "    print \"zero division erro raised\"\n",
    "    print \"b value should not zero\"\n",
    "except Exception as err:\n",
    "    print err\n",
    "   \n",
    "print \"ohter statements in program\"\n",
    "print \"porgram ended\"\n"
   ]
  },
  {
   "cell_type": "code",
   "execution_count": 18,
   "metadata": {
    "collapsed": false
   },
   "outputs": [
    {
     "name": "stdout",
     "output_type": "stream",
     "text": [
      "enter a value:werwe\n",
      "Enter b value:rewrw\n",
      "valuer erro exception raised\n",
      "Enter only digits\n",
      "ohter statements in program\n",
      "porgram ended\n"
     ]
    }
   ],
   "source": [
    "a=raw_input(\"enter a value:\")\n",
    "b=raw_input(\"Enter b value:\")\n",
    "try:\n",
    "    a=float(a)\n",
    "    b=float(b)\n",
    "    res=a/b\n",
    "    print \"result=\",res\n",
    "except ValueError:\n",
    "    print \"valuer erro exception raised\"\n",
    "    print \"Enter only digits\"\n",
    "except ZeroDivisionError:\n",
    "    print \"zero division erro raised\"\n",
    "    print \"b value should not zero\"\n",
    "except Exception as err:\n",
    "    print err\n",
    "   \n",
    "print \"ohter statements in program\"\n",
    "print \"porgram ended\"\n"
   ]
  },
  {
   "cell_type": "code",
   "execution_count": 19,
   "metadata": {
    "collapsed": false
   },
   "outputs": [
    {
     "name": "stdout",
     "output_type": "stream",
     "text": [
      "enter a value:12\n",
      "Enter b value:6\n",
      "result= 2.0\n",
      "ohter statements in program\n",
      "porgram ended\n"
     ]
    }
   ],
   "source": [
    "a=raw_input(\"enter a value:\")\n",
    "b=raw_input(\"Enter b value:\")\n",
    "try:\n",
    "    a=float(a)\n",
    "    b=float(b)\n",
    "    res=a/b\n",
    "    print \"result=\",res\n",
    "except ValueError:\n",
    "    print \"valuer erro exception raised\"\n",
    "    print \"Enter only digits\"\n",
    "except ZeroDivisionError:\n",
    "    print \"zero division erro raised\"\n",
    "    print \"b value should not zero\"\n",
    "except Exception as err:\n",
    "    print err\n",
    "   \n",
    "print \"ohter statements in program\"\n",
    "print \"porgram ended\"\n"
   ]
  },
  {
   "cell_type": "code",
   "execution_count": 20,
   "metadata": {
    "collapsed": false
   },
   "outputs": [
    {
     "name": "stdout",
     "output_type": "stream",
     "text": [
      "enter a value:12\n",
      "Enter b value:0\n",
      "float division by zero\n",
      "ohter statements in program\n",
      "porgram ended\n"
     ]
    }
   ],
   "source": [
    "a=raw_input(\"enter a value:\")\n",
    "b=raw_input(\"Enter b value:\")\n",
    "try:\n",
    "    a=float(a)\n",
    "    b=float(b)\n",
    "    res=a/b\n",
    "    print \"result=\",res\n",
    "except Exception as err:\n",
    "    print err\n",
    "except ValueError:\n",
    "    print \"valuer erro exception raised\"\n",
    "    print \"Enter only digits\"\n",
    "except ZeroDivisionError:\n",
    "    print \"zero division erro raised\"\n",
    "    print \"b value should not zero\"\n",
    "\n",
    "   \n",
    "print \"ohter statements in program\"\n",
    "print \"porgram ended\"\n"
   ]
  },
  {
   "cell_type": "code",
   "execution_count": 22,
   "metadata": {
    "collapsed": false
   },
   "outputs": [
    {
     "ename": "IOError",
     "evalue": "[Errno 2] No such file or directory: 'f10.txt'",
     "output_type": "error",
     "traceback": [
      "\u001b[0;31m---------------------------------------------------------------------------\u001b[0m",
      "\u001b[0;31mIOError\u001b[0m                                   Traceback (most recent call last)",
      "\u001b[0;32m<ipython-input-22-6564b4aaae7a>\u001b[0m in \u001b[0;36m<module>\u001b[0;34m()\u001b[0m\n\u001b[0;32m----> 1\u001b[0;31m \u001b[0mf\u001b[0m\u001b[1;33m=\u001b[0m\u001b[0mopen\u001b[0m\u001b[1;33m(\u001b[0m\u001b[1;34m\"f10.txt\"\u001b[0m\u001b[1;33m,\u001b[0m\u001b[1;34m'r'\u001b[0m\u001b[1;33m)\u001b[0m\u001b[1;33m\u001b[0m\u001b[0m\n\u001b[0m\u001b[1;32m      2\u001b[0m \u001b[0mdata\u001b[0m\u001b[1;33m=\u001b[0m\u001b[0mf\u001b[0m\u001b[1;33m.\u001b[0m\u001b[0mread\u001b[0m\u001b[1;33m(\u001b[0m\u001b[1;33m)\u001b[0m\u001b[1;33m\u001b[0m\u001b[0m\n\u001b[1;32m      3\u001b[0m \u001b[1;32mprint\u001b[0m \u001b[0mdata\u001b[0m\u001b[1;33m\u001b[0m\u001b[0m\n",
      "\u001b[0;31mIOError\u001b[0m: [Errno 2] No such file or directory: 'f10.txt'"
     ]
    }
   ],
   "source": [
    "f=open(\"f10.txt\",'r')\n",
    "data=f.read()\n",
    "print data"
   ]
  },
  {
   "cell_type": "code",
   "execution_count": 23,
   "metadata": {
    "collapsed": false
   },
   "outputs": [
    {
     "name": "stdout",
     "output_type": "stream",
     "text": [
      "Please give proper file name. \n"
     ]
    }
   ],
   "source": [
    "try:\n",
    "    f=open(\"f10.txt\",'r')\n",
    "    data=f.read()\n",
    "    print data\n",
    "    f.close()\n",
    "except IOError:\n",
    "    print \"Please give proper file name. \"\n",
    "    "
   ]
  },
  {
   "cell_type": "code",
   "execution_count": 24,
   "metadata": {
    "collapsed": false
   },
   "outputs": [
    {
     "name": "stdout",
     "output_type": "stream",
     "text": [
      "Enter a:12\n",
      "Enter b:0\n"
     ]
    },
    {
     "ename": "ZeroDivisionError",
     "evalue": "float division by zero",
     "output_type": "error",
     "traceback": [
      "\u001b[0;31m---------------------------------------------------------------------------\u001b[0m",
      "\u001b[0;31mZeroDivisionError\u001b[0m                         Traceback (most recent call last)",
      "\u001b[0;32m<ipython-input-24-bc1a1820ee60>\u001b[0m in \u001b[0;36m<module>\u001b[0;34m()\u001b[0m\n\u001b[1;32m      4\u001b[0m     \u001b[0ma\u001b[0m\u001b[1;33m=\u001b[0m\u001b[0mraw_input\u001b[0m\u001b[1;33m(\u001b[0m\u001b[1;34m\"Enter a:\"\u001b[0m\u001b[1;33m)\u001b[0m\u001b[1;33m\u001b[0m\u001b[0m\n\u001b[1;32m      5\u001b[0m     \u001b[0mb\u001b[0m\u001b[1;33m=\u001b[0m\u001b[0mraw_input\u001b[0m\u001b[1;33m(\u001b[0m\u001b[1;34m\"Enter b:\"\u001b[0m\u001b[1;33m)\u001b[0m\u001b[1;33m\u001b[0m\u001b[0m\n\u001b[0;32m----> 6\u001b[0;31m     \u001b[0mres\u001b[0m\u001b[1;33m=\u001b[0m\u001b[0mfloat\u001b[0m\u001b[1;33m(\u001b[0m\u001b[0ma\u001b[0m\u001b[1;33m)\u001b[0m\u001b[1;33m/\u001b[0m\u001b[0mfloat\u001b[0m\u001b[1;33m(\u001b[0m\u001b[0mb\u001b[0m\u001b[1;33m)\u001b[0m\u001b[1;33m\u001b[0m\u001b[0m\n\u001b[0m\u001b[1;32m      7\u001b[0m     \u001b[0mf\u001b[0m\u001b[1;33m.\u001b[0m\u001b[0mwrite\u001b[0m\u001b[1;33m(\u001b[0m\u001b[1;34m\"\\n result={0}\"\u001b[0m\u001b[1;33m.\u001b[0m\u001b[0mformat\u001b[0m\u001b[1;33m(\u001b[0m\u001b[0mres\u001b[0m\u001b[1;33m)\u001b[0m\u001b[1;33m)\u001b[0m\u001b[1;33m\u001b[0m\u001b[0m\n\u001b[1;32m      8\u001b[0m     \u001b[0mf\u001b[0m\u001b[1;33m.\u001b[0m\u001b[0mclose\u001b[0m\u001b[1;33m(\u001b[0m\u001b[1;33m)\u001b[0m\u001b[1;33m\u001b[0m\u001b[0m\n",
      "\u001b[0;31mZeroDivisionError\u001b[0m: float division by zero"
     ]
    }
   ],
   "source": [
    "f=open(\"f10.txt\",'w')\n",
    "try:\n",
    "    f.write(\"Some data\")\n",
    "    a=raw_input(\"Enter a:\")\n",
    "    b=raw_input(\"Enter b:\")\n",
    "    res=float(a)/float(b)\n",
    "    f.write(\"\\n result={0}\".format(res))\n",
    "    f.close()\n",
    "except IOError:\n",
    "    print \"Please give proper file name. \"\n",
    "    "
   ]
  },
  {
   "cell_type": "code",
   "execution_count": 26,
   "metadata": {
    "collapsed": false
   },
   "outputs": [
    {
     "name": "stdout",
     "output_type": "stream",
     "text": [
      "Enter a:12\n",
      "Enter b:0\n",
      "enter any positive number except zero \n"
     ]
    }
   ],
   "source": [
    "f=open(\"f10.txt\",'w')\n",
    "try:\n",
    "    f.write(\"Some data\")\n",
    "    a=raw_input(\"Enter a:\")\n",
    "    b=raw_input(\"Enter b:\")\n",
    "    res=float(a)/float(b)\n",
    "    f.write(\"\\n result={0}\".format(res))\n",
    "    \n",
    "except ZeroDivisionError:\n",
    "    print \"enter any positive number except zero \"\n",
    "except Exception as err:\n",
    "    print err\n",
    "f.close()"
   ]
  },
  {
   "cell_type": "code",
   "execution_count": 27,
   "metadata": {
    "collapsed": false
   },
   "outputs": [
    {
     "name": "stdout",
     "output_type": "stream",
     "text": [
      "Enter a:12\n",
      "Enter b:0\n",
      "enter any positive number except zero \n"
     ]
    }
   ],
   "source": [
    "f=open(\"f10.txt\",'w')\n",
    "try:\n",
    "    f.write(\"Some data\")\n",
    "    a=raw_input(\"Enter a:\")\n",
    "    b=raw_input(\"Enter b:\")\n",
    "    res=float(a)/float(b)\n",
    "    f.write(\"\\n result={0}\".format(res))\n",
    "    \n",
    "except ZeroDivisionError:\n",
    "    print \"enter any positive number except zero \"\n",
    "except Exception as err:\n",
    "    print err\n",
    "finally:\n",
    "    f.close()"
   ]
  },
  {
   "cell_type": "code",
   "execution_count": 28,
   "metadata": {
    "collapsed": false
   },
   "outputs": [
    {
     "name": "stdout",
     "output_type": "stream",
     "text": [
      "10\n"
     ]
    }
   ],
   "source": [
    "def fun():\n",
    "    return 10\n",
    "    return 20\n",
    "a=fun()\n",
    "print a"
   ]
  },
  {
   "cell_type": "code",
   "execution_count": 29,
   "metadata": {
    "collapsed": false
   },
   "outputs": [
    {
     "name": "stdout",
     "output_type": "stream",
     "text": [
      "10\n"
     ]
    }
   ],
   "source": [
    "def fun():\n",
    "    return 10\n",
    "    print \"this is function\"\n",
    "    return 20\n",
    "a=fun()\n",
    "print a"
   ]
  },
  {
   "cell_type": "code",
   "execution_count": 30,
   "metadata": {
    "collapsed": false
   },
   "outputs": [
    {
     "name": "stdout",
     "output_type": "stream",
     "text": [
      "30\n"
     ]
    }
   ],
   "source": [
    "def fun():\n",
    "    try:\n",
    "        return 10\n",
    "    except:\n",
    "        return 20\n",
    "    finally:\n",
    "        return 30\n",
    "a=fun()\n",
    "print a"
   ]
  },
  {
   "cell_type": "code",
   "execution_count": 31,
   "metadata": {
    "collapsed": false
   },
   "outputs": [
    {
     "name": "stdout",
     "output_type": "stream",
     "text": [
      "10\n",
      "finally block\n"
     ]
    }
   ],
   "source": [
    "try:\n",
    "    print 10\n",
    "finally:\n",
    "    print \"finally block\""
   ]
  },
  {
   "cell_type": "code",
   "execution_count": 32,
   "metadata": {
    "collapsed": false
   },
   "outputs": [
    {
     "name": "stdout",
     "output_type": "stream",
     "text": [
      "10\n",
      "finally block\n"
     ]
    },
    {
     "ename": "ZeroDivisionError",
     "evalue": "integer division or modulo by zero",
     "output_type": "error",
     "traceback": [
      "\u001b[0;31m---------------------------------------------------------------------------\u001b[0m",
      "\u001b[0;31mZeroDivisionError\u001b[0m                         Traceback (most recent call last)",
      "\u001b[0;32m<ipython-input-32-0912acc5be06>\u001b[0m in \u001b[0;36m<module>\u001b[0;34m()\u001b[0m\n\u001b[1;32m      1\u001b[0m \u001b[1;32mtry\u001b[0m\u001b[1;33m:\u001b[0m\u001b[1;33m\u001b[0m\u001b[0m\n\u001b[1;32m      2\u001b[0m     \u001b[1;32mprint\u001b[0m \u001b[1;36m10\u001b[0m\u001b[1;33m\u001b[0m\u001b[0m\n\u001b[0;32m----> 3\u001b[0;31m     \u001b[1;32mprint\u001b[0m \u001b[1;36m1\u001b[0m\u001b[1;33m/\u001b[0m\u001b[1;36m0\u001b[0m\u001b[1;33m\u001b[0m\u001b[0m\n\u001b[0m\u001b[1;32m      4\u001b[0m \u001b[1;32mfinally\u001b[0m\u001b[1;33m:\u001b[0m\u001b[1;33m\u001b[0m\u001b[0m\n\u001b[1;32m      5\u001b[0m     \u001b[1;32mprint\u001b[0m \u001b[1;34m\"finally block\"\u001b[0m\u001b[1;33m\u001b[0m\u001b[0m\n",
      "\u001b[0;31mZeroDivisionError\u001b[0m: integer division or modulo by zero"
     ]
    }
   ],
   "source": [
    "try:\n",
    "    print 10\n",
    "    print 1/0\n",
    "finally:\n",
    "    print \"finally block\""
   ]
  },
  {
   "cell_type": "code",
   "execution_count": 33,
   "metadata": {
    "collapsed": false
   },
   "outputs": [
    {
     "name": "stdout",
     "output_type": "stream",
     "text": [
      "try block withou exception\n",
      "else block\n",
      "finally block\n"
     ]
    }
   ],
   "source": [
    "try:\n",
    "    print \"try block withou exception\"\n",
    "except:\n",
    "    print \"except block\"\n",
    "else:\n",
    "    print \"else block\"\n",
    "finally:\n",
    "    print \"finally block\""
   ]
  },
  {
   "cell_type": "code",
   "execution_count": 34,
   "metadata": {
    "collapsed": false
   },
   "outputs": [
    {
     "name": "stdout",
     "output_type": "stream",
     "text": [
      "try block with exception\n",
      "except block\n",
      "finally block\n"
     ]
    }
   ],
   "source": [
    "try:\n",
    "    print \"try block with exception\"\n",
    "    print 1/0\n",
    "except:\n",
    "    print \"except block\"\n",
    "else:\n",
    "    print \"else block\"\n",
    "finally:\n",
    "    print \"finally block\""
   ]
  },
  {
   "cell_type": "code",
   "execution_count": 36,
   "metadata": {
    "collapsed": false
   },
   "outputs": [
    {
     "name": "stdout",
     "output_type": "stream",
     "text": [
      "file not found\n"
     ]
    },
    {
     "ename": "NameError",
     "evalue": "name 'f123' is not defined",
     "output_type": "error",
     "traceback": [
      "\u001b[0;31m---------------------------------------------------------------------------\u001b[0m",
      "\u001b[0;31mNameError\u001b[0m                                 Traceback (most recent call last)",
      "\u001b[0;32m<ipython-input-36-2377335250e1>\u001b[0m in \u001b[0;36m<module>\u001b[0;34m()\u001b[0m\n\u001b[1;32m      5\u001b[0m     \u001b[1;32mprint\u001b[0m \u001b[1;34m\"file not found\"\u001b[0m\u001b[1;33m\u001b[0m\u001b[0m\n\u001b[1;32m      6\u001b[0m \u001b[1;32mfinally\u001b[0m\u001b[1;33m:\u001b[0m\u001b[1;33m\u001b[0m\u001b[0m\n\u001b[0;32m----> 7\u001b[0;31m     \u001b[0mf123\u001b[0m\u001b[1;33m.\u001b[0m\u001b[0mclose\u001b[0m\u001b[1;33m(\u001b[0m\u001b[1;33m)\u001b[0m\u001b[1;33m\u001b[0m\u001b[0m\n\u001b[0m",
      "\u001b[0;31mNameError\u001b[0m: name 'f123' is not defined"
     ]
    }
   ],
   "source": [
    "try:\n",
    "    f123=open(\"f11.txt\",'r')\n",
    "    data = f.read()\n",
    "except IOError:\n",
    "    print \"file not found\"\n",
    "finally:\n",
    "    f123.close()\n"
   ]
  },
  {
   "cell_type": "code",
   "execution_count": 37,
   "metadata": {
    "collapsed": false
   },
   "outputs": [
    {
     "name": "stdout",
     "output_type": "stream",
     "text": [
      "file not found\n"
     ]
    }
   ],
   "source": [
    "try:\n",
    "    f123=open(\"f11.txt\",'r')\n",
    "    data = f.read()\n",
    "    \n",
    "except IOError:\n",
    "    print \"file not found\"\n",
    "else:\n",
    "    f123.close()\n"
   ]
  },
  {
   "cell_type": "code",
   "execution_count": null,
   "metadata": {
    "collapsed": true
   },
   "outputs": [],
   "source": [
    "f123=None\n",
    "try:\n",
    "    f123=open(\"f11.txt\",'r')\n",
    "    data = f.read()\n",
    "    \n",
    "except IOError:\n",
    "    print \"file not found\"\n",
    "finally:\n",
    "    if f123:\n",
    "        f123.close()\n"
   ]
  }
 ],
 "metadata": {
  "kernelspec": {
   "display_name": "Python [default]",
   "language": "python",
   "name": "python2"
  },
  "language_info": {
   "codemirror_mode": {
    "name": "ipython",
    "version": 2
   },
   "file_extension": ".py",
   "mimetype": "text/x-python",
   "name": "python",
   "nbconvert_exporter": "python",
   "pygments_lexer": "ipython2",
   "version": "2.7.12"
  }
 },
 "nbformat": 4,
 "nbformat_minor": 1
}
