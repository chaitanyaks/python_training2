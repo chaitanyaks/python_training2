{
 "cells": [
  {
   "cell_type": "code",
   "execution_count": 2,
   "metadata": {
    "collapsed": false
   },
   "outputs": [
    {
     "ename": "NameError",
     "evalue": "name 'oper1' is not defined",
     "output_type": "error",
     "traceback": [
      "\u001b[0;31m---------------------------------------------------------------------------\u001b[0m",
      "\u001b[0;31mNameError\u001b[0m                                 Traceback (most recent call last)",
      "\u001b[0;32m<ipython-input-2-8ce82142490f>\u001b[0m in \u001b[0;36m<module>\u001b[0;34m()\u001b[0m\n\u001b[1;32m      4\u001b[0m     \u001b[1;32mdef\u001b[0m \u001b[0moper1\u001b[0m\u001b[1;33m(\u001b[0m\u001b[1;33m*\u001b[0m\u001b[0margs\u001b[0m\u001b[1;33m)\u001b[0m\u001b[1;33m:\u001b[0m\u001b[1;33m\u001b[0m\u001b[0m\n\u001b[1;32m      5\u001b[0m         \u001b[1;32mprint\u001b[0m \u001b[0margs\u001b[0m\u001b[1;33m\u001b[0m\u001b[0m\n\u001b[0;32m----> 6\u001b[0;31m \u001b[0moper1\u001b[0m\u001b[1;33m(\u001b[0m\u001b[1;33m)\u001b[0m\u001b[1;33m\u001b[0m\u001b[0m\n\u001b[0m",
      "\u001b[0;31mNameError\u001b[0m: name 'oper1' is not defined"
     ]
    }
   ],
   "source": [
    "class ClassName:\n",
    "    a=10\n",
    "    b=20\n",
    "    def oper1(*args):\n",
    "        print args\n",
    "oper1()"
   ]
  },
  {
   "cell_type": "code",
   "execution_count": 3,
   "metadata": {
    "collapsed": false
   },
   "outputs": [
    {
     "ename": "TypeError",
     "evalue": "unbound method oper1() must be called with ClassName instance as first argument (got int instance instead)",
     "output_type": "error",
     "traceback": [
      "\u001b[0;31m---------------------------------------------------------------------------\u001b[0m",
      "\u001b[0;31mTypeError\u001b[0m                                 Traceback (most recent call last)",
      "\u001b[0;32m<ipython-input-3-9c66cad588c8>\u001b[0m in \u001b[0;36m<module>\u001b[0;34m()\u001b[0m\n\u001b[0;32m----> 1\u001b[0;31m \u001b[0mClassName\u001b[0m\u001b[1;33m.\u001b[0m\u001b[0moper1\u001b[0m\u001b[1;33m(\u001b[0m\u001b[1;36m10\u001b[0m\u001b[1;33m,\u001b[0m\u001b[1;36m20\u001b[0m\u001b[1;33m,\u001b[0m\u001b[1;36m3\u001b[0m\u001b[1;33m)\u001b[0m\u001b[1;33m\u001b[0m\u001b[0m\n\u001b[0m",
      "\u001b[0;31mTypeError\u001b[0m: unbound method oper1() must be called with ClassName instance as first argument (got int instance instead)"
     ]
    }
   ],
   "source": [
    "ClassName.oper1(10,20,3)"
   ]
  },
  {
   "cell_type": "code",
   "execution_count": 6,
   "metadata": {
    "collapsed": false
   },
   "outputs": [
    {
     "name": "stdout",
     "output_type": "stream",
     "text": [
      "<__main__.ClassName instance at 0x0000000003D98848>\n",
      "(<__main__.ClassName instance at 0x0000000003D98848>, 10, 20, 30)\n"
     ]
    }
   ],
   "source": [
    "class ClassName:\n",
    "    a=10\n",
    "    b=20\n",
    "    def oper1(*args):\n",
    "        print args\n",
    "o1=ClassName()\n",
    "print o1\n",
    "ClassName.oper1(o1,10,20,30)"
   ]
  },
  {
   "cell_type": "code",
   "execution_count": 7,
   "metadata": {
    "collapsed": false
   },
   "outputs": [
    {
     "name": "stdout",
     "output_type": "stream",
     "text": [
      "(<__main__.ClassName instance at 0x0000000003D98848>,)\n"
     ]
    }
   ],
   "source": [
    "o1.oper1()"
   ]
  },
  {
   "cell_type": "code",
   "execution_count": 8,
   "metadata": {
    "collapsed": false
   },
   "outputs": [
    {
     "name": "stdout",
     "output_type": "stream",
     "text": [
      "(<__main__.c1 instance at 0x0000000003D98D88>,)\n"
     ]
    }
   ],
   "source": [
    "class c1:\n",
    "    def oper1(*args):\n",
    "        print args\n",
    "o1=c1()\n",
    "o1.oper1()"
   ]
  },
  {
   "cell_type": "code",
   "execution_count": 9,
   "metadata": {
    "collapsed": false
   },
   "outputs": [
    {
     "name": "stdout",
     "output_type": "stream",
     "text": [
      "(<__main__.c1 instance at 0x0000000003D98D48>, 10, 20, 30)\n"
     ]
    }
   ],
   "source": [
    "class c1:\n",
    "    def oper1(*args):\n",
    "        print args\n",
    "o1=c1()\n",
    "o1.oper1(10,20,30)"
   ]
  },
  {
   "cell_type": "code",
   "execution_count": 14,
   "metadata": {
    "collapsed": false
   },
   "outputs": [
    {
     "name": "stdout",
     "output_type": "stream",
     "text": [
      "(<__main__.Emp instance at 0x0000000003D1E948>, 'Venkates', 5, 'M', 60)\n",
      "(<__main__.Emp instance at 0x0000000003D1ECC8>, 'Venkates', 5, 'M', 60)\n"
     ]
    }
   ],
   "source": [
    "class Emp:\n",
    "    def setdata(*args):\n",
    "        print args\n",
    "    def reg(*args):\n",
    "        pass\n",
    "venkatesh = Emp()\n",
    "venkatesh.setdata(\"Venkates\",5,'M',60)\n",
    "samba = Emp()\n",
    "samba.setdata(\"Venkates\",5,'M',60)\n",
    "        "
   ]
  },
  {
   "cell_type": "code",
   "execution_count": 15,
   "metadata": {
    "collapsed": false
   },
   "outputs": [
    {
     "name": "stdout",
     "output_type": "stream",
     "text": [
      "('Venkates', 5, 'M', 60)\n",
      "('Venkates', 5, 'M', 60)\n"
     ]
    },
    {
     "ename": "NameError",
     "evalue": "global name 'setdata' is not defined",
     "output_type": "error",
     "traceback": [
      "\u001b[0;31m---------------------------------------------------------------------------\u001b[0m",
      "\u001b[0;31mNameError\u001b[0m                                 Traceback (most recent call last)",
      "\u001b[0;32m<ipython-input-15-997485cbdc58>\u001b[0m in \u001b[0;36m<module>\u001b[0;34m()\u001b[0m\n\u001b[1;32m     11\u001b[0m \u001b[0msamba\u001b[0m \u001b[1;33m=\u001b[0m \u001b[0mEmp\u001b[0m\u001b[1;33m(\u001b[0m\u001b[1;33m)\u001b[0m\u001b[1;33m\u001b[0m\u001b[0m\n\u001b[1;32m     12\u001b[0m \u001b[0msamba\u001b[0m\u001b[1;33m.\u001b[0m\u001b[0msetdata\u001b[0m\u001b[1;33m(\u001b[0m\u001b[1;34m\"Venkates\"\u001b[0m\u001b[1;33m,\u001b[0m\u001b[1;36m5\u001b[0m\u001b[1;33m,\u001b[0m\u001b[1;34m'M'\u001b[0m\u001b[1;33m,\u001b[0m\u001b[1;36m60\u001b[0m\u001b[1;33m)\u001b[0m\u001b[1;33m\u001b[0m\u001b[0m\n\u001b[0;32m---> 13\u001b[0;31m \u001b[0msamba\u001b[0m\u001b[1;33m.\u001b[0m\u001b[0moper1\u001b[0m\u001b[1;33m(\u001b[0m\u001b[1;33m)\u001b[0m\u001b[1;33m\u001b[0m\u001b[0m\n\u001b[0m",
      "\u001b[0;32m<ipython-input-15-997485cbdc58>\u001b[0m in \u001b[0;36moper1\u001b[0;34m(self)\u001b[0m\n\u001b[1;32m      3\u001b[0m         \u001b[1;32mprint\u001b[0m \u001b[0margs\u001b[0m\u001b[1;33m\u001b[0m\u001b[0m\n\u001b[1;32m      4\u001b[0m     \u001b[1;32mdef\u001b[0m \u001b[0moper1\u001b[0m\u001b[1;33m(\u001b[0m\u001b[0mself\u001b[0m\u001b[1;33m)\u001b[0m\u001b[1;33m:\u001b[0m\u001b[1;33m\u001b[0m\u001b[0m\n\u001b[0;32m----> 5\u001b[0;31m         \u001b[0msetdata\u001b[0m\u001b[1;33m(\u001b[0m\u001b[1;33m)\u001b[0m\u001b[1;33m\u001b[0m\u001b[0m\n\u001b[0m\u001b[1;32m      6\u001b[0m \u001b[1;33m\u001b[0m\u001b[0m\n\u001b[1;32m      7\u001b[0m     \u001b[1;32mdef\u001b[0m \u001b[0mreg\u001b[0m\u001b[1;33m(\u001b[0m\u001b[1;33m*\u001b[0m\u001b[0margs\u001b[0m\u001b[1;33m)\u001b[0m\u001b[1;33m:\u001b[0m\u001b[1;33m\u001b[0m\u001b[0m\n",
      "\u001b[0;31mNameError\u001b[0m: global name 'setdata' is not defined"
     ]
    }
   ],
   "source": [
    "class Emp:\n",
    "    def setdata(self, *args):\n",
    "        print args\n",
    "    def oper1(self):\n",
    "        setdata()\n",
    "        \n",
    "    def reg(*args):\n",
    "        pass\n",
    "venkatesh = Emp()\n",
    "venkatesh.setdata(\"Venkates\",5,'M',60)\n",
    "samba = Emp()\n",
    "samba.setdata(\"Venkates\",5,'M',60)\n",
    "samba.oper1()"
   ]
  },
  {
   "cell_type": "code",
   "execution_count": 17,
   "metadata": {
    "collapsed": false
   },
   "outputs": [
    {
     "name": "stdout",
     "output_type": "stream",
     "text": [
      "asdsf\n"
     ]
    }
   ],
   "source": [
    "def f1():\n",
    "    print \"asdsf\"\n",
    "def f2():\n",
    "    f1()\n",
    "f2()"
   ]
  },
  {
   "cell_type": "code",
   "execution_count": 18,
   "metadata": {
    "collapsed": false
   },
   "outputs": [
    {
     "name": "stdout",
     "output_type": "stream",
     "text": [
      "<__main__.Emp instance at 0x0000000003D1EE88>\n",
      "this i sconstructor\n"
     ]
    }
   ],
   "source": [
    "class Emp:\n",
    "    def __init__(self):\n",
    "        print self\n",
    "        print \"this i sconstructor\"\n",
    "venkatesh = Emp()"
   ]
  },
  {
   "cell_type": "code",
   "execution_count": 22,
   "metadata": {
    "collapsed": false
   },
   "outputs": [
    {
     "name": "stdout",
     "output_type": "stream",
     "text": [
      "(1, 'emp1', 5.6)\n",
      "(2, 'emp2', 5.6)\n",
      "(3, 'emp3', 5.6)\n",
      "40\n"
     ]
    }
   ],
   "source": [
    "class Emp:\n",
    "    def __init__(self,name,id,height):\n",
    "        self.emp_name=name\n",
    "        self.emp_id=id\n",
    "        self.emp_height=height\n",
    "    def grep(self,a):\n",
    "        self.a1=a\n",
    "        return self.emp_id,self.emp_name,self.emp_height\n",
    "    def test(self):\n",
    "        return self.a1\n",
    "    \n",
    "emp1 = Emp(\"emp1\",1,5.6)\n",
    "print emp1.grep(20)\n",
    "emp2 = Emp(\"emp2\",2,5.6)\n",
    "print emp2.grep(30)\n",
    "emp3 = Emp(\"emp3\",3,5.6)\n",
    "print emp3.grep(40)\n",
    "print emp3.test()"
   ]
  },
  {
   "cell_type": "code",
   "execution_count": 24,
   "metadata": {
    "collapsed": false
   },
   "outputs": [
    {
     "name": "stdout",
     "output_type": "stream",
     "text": [
      "(1, 'emp1', 5.6)\n",
      "(2, 'emp2', 5.6)\n",
      "(3, 'emp3', 5.6)\n",
      "40\n"
     ]
    },
    {
     "ename": "AttributeError",
     "evalue": "Emp instance has no attribute 'a1'",
     "output_type": "error",
     "traceback": [
      "\u001b[0;31m---------------------------------------------------------------------------\u001b[0m",
      "\u001b[0;31mAttributeError\u001b[0m                            Traceback (most recent call last)",
      "\u001b[0;32m<ipython-input-24-3af39bb73b0c>\u001b[0m in \u001b[0;36m<module>\u001b[0;34m()\u001b[0m\n\u001b[1;32m     18\u001b[0m \u001b[1;32mprint\u001b[0m \u001b[0memp3\u001b[0m\u001b[1;33m.\u001b[0m\u001b[0mtest\u001b[0m\u001b[1;33m(\u001b[0m\u001b[1;33m)\u001b[0m\u001b[1;33m\u001b[0m\u001b[0m\n\u001b[1;32m     19\u001b[0m \u001b[0memp4\u001b[0m \u001b[1;33m=\u001b[0m \u001b[0mEmp\u001b[0m\u001b[1;33m(\u001b[0m\u001b[1;34m\"emp4\"\u001b[0m\u001b[1;33m,\u001b[0m\u001b[1;36m4\u001b[0m\u001b[1;33m,\u001b[0m\u001b[1;36m5.6\u001b[0m\u001b[1;33m)\u001b[0m\u001b[1;33m\u001b[0m\u001b[0m\n\u001b[0;32m---> 20\u001b[0;31m \u001b[1;32mprint\u001b[0m \u001b[0memp4\u001b[0m\u001b[1;33m.\u001b[0m\u001b[0mtest\u001b[0m\u001b[1;33m(\u001b[0m\u001b[1;33m)\u001b[0m\u001b[1;33m\u001b[0m\u001b[0m\n\u001b[0m",
      "\u001b[0;32m<ipython-input-24-3af39bb73b0c>\u001b[0m in \u001b[0;36mtest\u001b[0;34m(self)\u001b[0m\n\u001b[1;32m      8\u001b[0m         \u001b[1;32mreturn\u001b[0m \u001b[0mself\u001b[0m\u001b[1;33m.\u001b[0m\u001b[0memp_id\u001b[0m\u001b[1;33m,\u001b[0m\u001b[0mself\u001b[0m\u001b[1;33m.\u001b[0m\u001b[0memp_name\u001b[0m\u001b[1;33m,\u001b[0m\u001b[0mself\u001b[0m\u001b[1;33m.\u001b[0m\u001b[0memp_height\u001b[0m\u001b[1;33m\u001b[0m\u001b[0m\n\u001b[1;32m      9\u001b[0m     \u001b[1;32mdef\u001b[0m \u001b[0mtest\u001b[0m\u001b[1;33m(\u001b[0m\u001b[0mself\u001b[0m\u001b[1;33m)\u001b[0m\u001b[1;33m:\u001b[0m\u001b[1;33m\u001b[0m\u001b[0m\n\u001b[0;32m---> 10\u001b[0;31m         \u001b[1;32mreturn\u001b[0m \u001b[0mself\u001b[0m\u001b[1;33m.\u001b[0m\u001b[0ma1\u001b[0m\u001b[1;33m\u001b[0m\u001b[0m\n\u001b[0m\u001b[1;32m     11\u001b[0m \u001b[1;33m\u001b[0m\u001b[0m\n\u001b[1;32m     12\u001b[0m \u001b[0memp1\u001b[0m \u001b[1;33m=\u001b[0m \u001b[0mEmp\u001b[0m\u001b[1;33m(\u001b[0m\u001b[1;34m\"emp1\"\u001b[0m\u001b[1;33m,\u001b[0m\u001b[1;36m1\u001b[0m\u001b[1;33m,\u001b[0m\u001b[1;36m5.6\u001b[0m\u001b[1;33m)\u001b[0m\u001b[1;33m\u001b[0m\u001b[0m\n",
      "\u001b[0;31mAttributeError\u001b[0m: Emp instance has no attribute 'a1'"
     ]
    }
   ],
   "source": [
    "class Emp:\n",
    "    def __init__(self,name,id,height):\n",
    "        self.emp_name=name\n",
    "        self.emp_id=id\n",
    "        self.emp_height=height\n",
    "    def grep(self,a):\n",
    "        self.a1=a\n",
    "        return self.emp_id,self.emp_name,self.emp_height\n",
    "    def test(self):\n",
    "        return self.a1\n",
    "    \n",
    "emp1 = Emp(\"emp1\",1,5.6)\n",
    "print emp1.grep(20)\n",
    "emp2 = Emp(\"emp2\",2,5.6)\n",
    "print emp2.grep(30)\n",
    "emp3 = Emp(\"emp3\",3,5.6)\n",
    "print emp3.grep(40)\n",
    "print emp3.test()\n",
    "emp4 = Emp(\"emp4\",4,5.6)\n",
    "print emp4.test()"
   ]
  },
  {
   "cell_type": "code",
   "execution_count": 25,
   "metadata": {
    "collapsed": false
   },
   "outputs": [
    {
     "name": "stdout",
     "output_type": "stream",
     "text": [
      "(1, 'emp1', 5.6)\n",
      "(2, 'emp2', 5.6)\n",
      "(3, 'emp3', 5.6)\n",
      "50\n",
      "50\n"
     ]
    }
   ],
   "source": [
    "class Emp:\n",
    "    def __init__(self,name,id,height):\n",
    "        self.emp_name=name\n",
    "        self.emp_id=id\n",
    "        self.emp_height=height\n",
    "    def grep(self,a):\n",
    "        self.a1=a\n",
    "        return self.emp_id,self.emp_name,self.emp_height\n",
    "    def test(self):\n",
    "        self.grep(50)\n",
    "        return self.a1\n",
    "    \n",
    "emp1 = Emp(\"emp1\",1,5.6)\n",
    "print emp1.grep(20)\n",
    "emp2 = Emp(\"emp2\",2,5.6)\n",
    "print emp2.grep(30)\n",
    "emp3 = Emp(\"emp3\",3,5.6)\n",
    "print emp3.grep(40)\n",
    "print emp3.test()\n",
    "emp4 = Emp(\"emp4\",4,5.6)\n",
    "print emp4.test()"
   ]
  },
  {
   "cell_type": "code",
   "execution_count": 26,
   "metadata": {
    "collapsed": false
   },
   "outputs": [
    {
     "name": "stdout",
     "output_type": "stream",
     "text": [
      "oper1 in c1\n",
      "oper2 in c2\n"
     ]
    }
   ],
   "source": [
    "class c1:\n",
    "    def oper1(self):\n",
    "        print \"oper1 in c1\"\n",
    "class c2:\n",
    "    def oper2(self):\n",
    "        print \"oper2 in c2\"\n",
    "class c3:\n",
    "    def operations(self):\n",
    "        o1=c1()\n",
    "        o2=c2()\n",
    "        o1.oper1()\n",
    "        o2.oper2()\n",
    "o3=c3()\n",
    "o3.operations()"
   ]
  },
  {
   "cell_type": "code",
   "execution_count": 27,
   "metadata": {
    "collapsed": false
   },
   "outputs": [
    {
     "ename": "AttributeError",
     "evalue": "c3 instance has no attribute 'oper1'",
     "output_type": "error",
     "traceback": [
      "\u001b[0;31m---------------------------------------------------------------------------\u001b[0m",
      "\u001b[0;31mAttributeError\u001b[0m                            Traceback (most recent call last)",
      "\u001b[0;32m<ipython-input-27-99e1b8a7ae83>\u001b[0m in \u001b[0;36m<module>\u001b[0;34m()\u001b[0m\n\u001b[1;32m     10\u001b[0m         \u001b[0mself\u001b[0m\u001b[1;33m.\u001b[0m\u001b[0moper2\u001b[0m\u001b[1;33m(\u001b[0m\u001b[1;33m)\u001b[0m\u001b[1;33m\u001b[0m\u001b[0m\n\u001b[1;32m     11\u001b[0m \u001b[0mo3\u001b[0m\u001b[1;33m=\u001b[0m\u001b[0mc3\u001b[0m\u001b[1;33m(\u001b[0m\u001b[1;33m)\u001b[0m\u001b[1;33m\u001b[0m\u001b[0m\n\u001b[0;32m---> 12\u001b[0;31m \u001b[0mo3\u001b[0m\u001b[1;33m.\u001b[0m\u001b[0moperations\u001b[0m\u001b[1;33m(\u001b[0m\u001b[1;33m)\u001b[0m\u001b[1;33m\u001b[0m\u001b[0m\n\u001b[0m",
      "\u001b[0;32m<ipython-input-27-99e1b8a7ae83>\u001b[0m in \u001b[0;36moperations\u001b[0;34m(self)\u001b[0m\n\u001b[1;32m      7\u001b[0m \u001b[1;32mclass\u001b[0m \u001b[0mc3\u001b[0m\u001b[1;33m:\u001b[0m\u001b[1;33m\u001b[0m\u001b[0m\n\u001b[1;32m      8\u001b[0m     \u001b[1;32mdef\u001b[0m \u001b[0moperations\u001b[0m\u001b[1;33m(\u001b[0m\u001b[0mself\u001b[0m\u001b[1;33m)\u001b[0m\u001b[1;33m:\u001b[0m\u001b[1;33m\u001b[0m\u001b[0m\n\u001b[0;32m----> 9\u001b[0;31m         \u001b[0mself\u001b[0m\u001b[1;33m.\u001b[0m\u001b[0moper1\u001b[0m\u001b[1;33m(\u001b[0m\u001b[1;33m)\u001b[0m\u001b[1;33m\u001b[0m\u001b[0m\n\u001b[0m\u001b[1;32m     10\u001b[0m         \u001b[0mself\u001b[0m\u001b[1;33m.\u001b[0m\u001b[0moper2\u001b[0m\u001b[1;33m(\u001b[0m\u001b[1;33m)\u001b[0m\u001b[1;33m\u001b[0m\u001b[0m\n\u001b[1;32m     11\u001b[0m \u001b[0mo3\u001b[0m\u001b[1;33m=\u001b[0m\u001b[0mc3\u001b[0m\u001b[1;33m(\u001b[0m\u001b[1;33m)\u001b[0m\u001b[1;33m\u001b[0m\u001b[0m\n",
      "\u001b[0;31mAttributeError\u001b[0m: c3 instance has no attribute 'oper1'"
     ]
    }
   ],
   "source": [
    "class c1:\n",
    "    def oper1(self):\n",
    "        print \"oper1 in c1\"\n",
    "class c2:\n",
    "    def oper2(self):\n",
    "        print \"oper2 in c2\"\n",
    "class c3:\n",
    "    def operations(self):\n",
    "        self.oper1()\n",
    "        self.oper2()\n",
    "o3=c3()\n",
    "o3.operations()"
   ]
  },
  {
   "cell_type": "code",
   "execution_count": 28,
   "metadata": {
    "collapsed": false
   },
   "outputs": [
    {
     "name": "stdout",
     "output_type": "stream",
     "text": [
      "oper1 in c1\n",
      "oper2 in c2\n"
     ]
    }
   ],
   "source": [
    "class c1:\n",
    "    def oper1(self):\n",
    "        print \"oper1 in c1\"\n",
    "class c2:\n",
    "    def oper2(self):\n",
    "        print \"oper2 in c2\"\n",
    "class c3(c1,c2):\n",
    "    def operations(self):\n",
    "        self.oper1()\n",
    "        self.oper2()\n",
    "o3=c3()\n",
    "o3.operations()"
   ]
  },
  {
   "cell_type": "code",
   "execution_count": 29,
   "metadata": {
    "collapsed": false
   },
   "outputs": [
    {
     "name": "stdout",
     "output_type": "stream",
     "text": [
      "oper1 in c3\n",
      "oper2 in c2\n"
     ]
    }
   ],
   "source": [
    "class c1:\n",
    "    def oper1(self):\n",
    "        print \"oper1 in c1\"\n",
    "class c2:\n",
    "    def oper2(self):\n",
    "        print \"oper2 in c2\"\n",
    "class c3(c1,c2):\n",
    "    def operations(self):\n",
    "        self.oper1()\n",
    "        self.oper2()\n",
    "    def oper1(self):\n",
    "        print \"oper1 in c3\"\n",
    "        \n",
    "o3=c3()\n",
    "o3.operations()"
   ]
  },
  {
   "cell_type": "code",
   "execution_count": 30,
   "metadata": {
    "collapsed": false
   },
   "outputs": [
    {
     "name": "stdout",
     "output_type": "stream",
     "text": [
      "oper1 in c1\n",
      "oper1 in c3\n",
      "oper2 in c2\n"
     ]
    }
   ],
   "source": [
    "class c1:\n",
    "    def oper1(self):\n",
    "        print \"oper1 in c1\"\n",
    "class c2:\n",
    "    def oper2(self):\n",
    "        print \"oper2 in c2\"\n",
    "class c3(c1,c2):\n",
    "    def operations(self):\n",
    "        self.oper1()\n",
    "        self.oper2()\n",
    "    def oper1(self):\n",
    "        c1.oper1(self)\n",
    "        print \"oper1 in c3\"\n",
    "        \n",
    "o3=c3()\n",
    "o3.operations()"
   ]
  },
  {
   "cell_type": "code",
   "execution_count": 33,
   "metadata": {
    "collapsed": false
   },
   "outputs": [
    {
     "name": "stdout",
     "output_type": "stream",
     "text": [
      "oper2 in c2\n",
      "oper1 in c3\n",
      "oper2 in c2\n"
     ]
    }
   ],
   "source": [
    "class c1(object):\n",
    "    def oper1(self):\n",
    "        print \"oper1 in c1\"\n",
    "class c2(object):\n",
    "    def oper2(self):\n",
    "        print \"oper2 in c2\"\n",
    "class c3(c1,c2):\n",
    "    def operations(self):\n",
    "        self.oper1()\n",
    "        self.oper2()\n",
    "    def oper1(self):\n",
    "        super(c3,self).oper2()\n",
    "        print \"oper1 in c3\"\n",
    "        \n",
    "o3=c3()\n",
    "o3.operations()"
   ]
  },
  {
   "cell_type": "code",
   "execution_count": null,
   "metadata": {
    "collapsed": true
   },
   "outputs": [],
   "source": [
    "class c1(object):\n",
    "    def oper1(self):\n",
    "        print \"oper1 in c1\"\n",
    "class c2(object):\n",
    "    def oper2(self):\n",
    "        print \"oper2 in c2\"\n",
    "class c3(c1,c2):\n",
    "    def operations(self):\n",
    "        self.oper1()\n",
    "        self.oper2()\n",
    "    def oper1(self):\n",
    "        super(c3,self).oper2()\n",
    "        print \"oper1 in c3\"\n",
    "        \n",
    "o3=c3()\n",
    "o3.operations()"
   ]
  }
 ],
 "metadata": {
  "kernelspec": {
   "display_name": "Python [default]",
   "language": "python",
   "name": "python2"
  },
  "language_info": {
   "codemirror_mode": {
    "name": "ipython",
    "version": 2
   },
   "file_extension": ".py",
   "mimetype": "text/x-python",
   "name": "python",
   "nbconvert_exporter": "python",
   "pygments_lexer": "ipython2",
   "version": "2.7.12"
  }
 },
 "nbformat": 4,
 "nbformat_minor": 1
}
