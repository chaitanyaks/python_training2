{
 "cells": [
  {
   "cell_type": "code",
   "execution_count": 1,
   "metadata": {
    "collapsed": false
   },
   "outputs": [
    {
     "name": "stdout",
     "output_type": "stream",
     "text": [
      "0\n"
     ]
    }
   ],
   "source": [
    "def fun():\n",
    "    for i in range(10):\n",
    "        return i\n",
    "f1=fun()\n",
    "print f1"
   ]
  },
  {
   "cell_type": "code",
   "execution_count": 3,
   "metadata": {
    "collapsed": false
   },
   "outputs": [
    {
     "name": "stdout",
     "output_type": "stream",
     "text": [
      "<generator object fun at 0x000000000222A5E8>\n",
      "0\n",
      "1\n",
      "2\n",
      "3\n",
      "4\n",
      "5\n",
      "6\n",
      "7\n",
      "8\n",
      "9\n"
     ]
    }
   ],
   "source": [
    "def fun():\n",
    "    for i in range(10):\n",
    "        yield i\n",
    "f1=fun()\n",
    "print f1\n",
    "for i in f1:\n",
    "    print i"
   ]
  },
  {
   "cell_type": "code",
   "execution_count": 4,
   "metadata": {
    "collapsed": false
   },
   "outputs": [
    {
     "name": "stdout",
     "output_type": "stream",
     "text": [
      "statement1\n",
      "10\n"
     ]
    }
   ],
   "source": [
    "def fun():\n",
    "    print \"statement1\"\n",
    "    yield 10\n",
    "    print \"statement2\"\n",
    "    yield 20\n",
    "    print \"statement3\"\n",
    "    yield 30\n",
    "f1=fun()\n",
    "print f1.next()"
   ]
  },
  {
   "cell_type": "code",
   "execution_count": 5,
   "metadata": {
    "collapsed": false
   },
   "outputs": [
    {
     "name": "stdout",
     "output_type": "stream",
     "text": [
      "statement2\n"
     ]
    },
    {
     "data": {
      "text/plain": [
       "20"
      ]
     },
     "execution_count": 5,
     "metadata": {},
     "output_type": "execute_result"
    }
   ],
   "source": [
    "f1.next()"
   ]
  },
  {
   "cell_type": "code",
   "execution_count": 8,
   "metadata": {
    "collapsed": false
   },
   "outputs": [
    {
     "name": "stdout",
     "output_type": "stream",
     "text": [
      "statement1\n",
      "10\n"
     ]
    }
   ],
   "source": [
    "def fun():\n",
    "    print \"statement1\"\n",
    "    return  10\n",
    "    \n",
    "f1=fun()\n",
    "print f1"
   ]
  },
  {
   "cell_type": "code",
   "execution_count": 9,
   "metadata": {
    "collapsed": true
   },
   "outputs": [],
   "source": [
    "# closure\n",
    "def outer(fun):\n",
    "    def inner(args):\n",
    "        return \"Extra: {0}\".format(f(args))\n",
    "    return inner\n"
   ]
  },
  {
   "cell_type": "code",
   "execution_count": 10,
   "metadata": {
    "collapsed": false
   },
   "outputs": [
    {
     "name": "stdout",
     "output_type": "stream",
     "text": [
      "<function fun at 0x000000000220ECF8>\n",
      "return value\n"
     ]
    }
   ],
   "source": [
    "def fun():\n",
    "    return \"return value\"\n",
    "f1=fun\n",
    "f2=fun()\n",
    "print f1\n",
    "print f2"
   ]
  },
  {
   "cell_type": "code",
   "execution_count": 11,
   "metadata": {
    "collapsed": false
   },
   "outputs": [
    {
     "name": "stdout",
     "output_type": "stream",
     "text": [
      "return value\n"
     ]
    }
   ],
   "source": [
    "print f1()"
   ]
  },
  {
   "cell_type": "code",
   "execution_count": 12,
   "metadata": {
    "collapsed": false
   },
   "outputs": [
    {
     "ename": "NameError",
     "evalue": "name 'inner' is not defined",
     "output_type": "error",
     "traceback": [
      "\u001b[0;31m---------------------------------------------------------------------------\u001b[0m",
      "\u001b[0;31mNameError\u001b[0m                                 Traceback (most recent call last)",
      "\u001b[0;32m<ipython-input-12-d03716d31f3c>\u001b[0m in \u001b[0;36m<module>\u001b[0;34m()\u001b[0m\n\u001b[1;32m      4\u001b[0m         \u001b[1;32mreturn\u001b[0m \u001b[1;34m\"Extra: {0}\"\u001b[0m\u001b[1;33m.\u001b[0m\u001b[0mformat\u001b[0m\u001b[1;33m(\u001b[0m\u001b[0mf\u001b[0m\u001b[1;33m(\u001b[0m\u001b[0margs\u001b[0m\u001b[1;33m)\u001b[0m\u001b[1;33m)\u001b[0m\u001b[1;33m\u001b[0m\u001b[0m\n\u001b[1;32m      5\u001b[0m     \u001b[1;32mreturn\u001b[0m \u001b[0minner\u001b[0m\u001b[1;33m\u001b[0m\u001b[0m\n\u001b[0;32m----> 6\u001b[0;31m \u001b[1;32mprint\u001b[0m \u001b[0minner\u001b[0m\u001b[1;33m(\u001b[0m\u001b[1;33m)\u001b[0m\u001b[1;33m\u001b[0m\u001b[0m\n\u001b[0m",
      "\u001b[0;31mNameError\u001b[0m: name 'inner' is not defined"
     ]
    }
   ],
   "source": [
    "# closure\n",
    "def outer(fun):\n",
    "    def inner(args):\n",
    "        return \"Extra: {0}\".format(f(args))\n",
    "    return inner\n",
    "print inner()"
   ]
  },
  {
   "cell_type": "code",
   "execution_count": 13,
   "metadata": {
    "collapsed": false
   },
   "outputs": [
    {
     "ename": "AttributeError",
     "evalue": "'function' object has no attribute 'inner'",
     "output_type": "error",
     "traceback": [
      "\u001b[0;31m---------------------------------------------------------------------------\u001b[0m",
      "\u001b[0;31mAttributeError\u001b[0m                            Traceback (most recent call last)",
      "\u001b[0;32m<ipython-input-13-6a3adabf9275>\u001b[0m in \u001b[0;36m<module>\u001b[0;34m()\u001b[0m\n\u001b[0;32m----> 1\u001b[0;31m \u001b[0mouter\u001b[0m\u001b[1;33m.\u001b[0m\u001b[0minner\u001b[0m\u001b[1;33m(\u001b[0m\u001b[1;33m)\u001b[0m\u001b[1;33m\u001b[0m\u001b[0m\n\u001b[0m",
      "\u001b[0;31mAttributeError\u001b[0m: 'function' object has no attribute 'inner'"
     ]
    }
   ],
   "source": [
    "outer.inner()"
   ]
  },
  {
   "cell_type": "code",
   "execution_count": 17,
   "metadata": {
    "collapsed": false
   },
   "outputs": [
    {
     "name": "stdout",
     "output_type": "stream",
     "text": [
      "after calling outer\n",
      "inner function\n",
      "10\n",
      "Extra: this is fun1\n"
     ]
    }
   ],
   "source": [
    "# closure\n",
    "def fun1(a):\n",
    "    print a\n",
    "    return \"this is fun1\"\n",
    "def outer(fun):\n",
    "    def inner(args):\n",
    "        print \"inner function\"\n",
    "        return \"Extra: {0}\".format(fun(args))\n",
    "    return inner\n",
    "f1=outer(fun1)\n",
    "print \"after calling outer\"\n",
    "print f1(10)\n"
   ]
  },
  {
   "cell_type": "code",
   "execution_count": 18,
   "metadata": {
    "collapsed": false
   },
   "outputs": [
    {
     "ename": "NameError",
     "evalue": "name 's' is not defined",
     "output_type": "error",
     "traceback": [
      "\u001b[0;31m---------------------------------------------------------------------------\u001b[0m",
      "\u001b[0;31mNameError\u001b[0m                                 Traceback (most recent call last)",
      "\u001b[0;32m<ipython-input-18-2376b99924e6>\u001b[0m in \u001b[0;36m<module>\u001b[0;34m()\u001b[0m\n\u001b[1;32m      2\u001b[0m     \u001b[0ms\u001b[0m\u001b[1;33m=\u001b[0m\u001b[1;36m123\u001b[0m\u001b[1;33m\u001b[0m\u001b[0m\n\u001b[1;32m      3\u001b[0m \u001b[0mfun\u001b[0m\u001b[1;33m(\u001b[0m\u001b[1;33m)\u001b[0m\u001b[1;33m\u001b[0m\u001b[0m\n\u001b[0;32m----> 4\u001b[0;31m \u001b[1;32mprint\u001b[0m \u001b[0ms\u001b[0m\u001b[1;33m\u001b[0m\u001b[0m\n\u001b[0m",
      "\u001b[0;31mNameError\u001b[0m: name 's' is not defined"
     ]
    }
   ],
   "source": [
    "def fun():\n",
    "    s=123\n",
    "fun()\n",
    "print s"
   ]
  },
  {
   "cell_type": "code",
   "execution_count": 19,
   "metadata": {
    "collapsed": false
   },
   "outputs": [
    {
     "name": "stdout",
     "output_type": "stream",
     "text": [
      "sfdsf\n"
     ]
    }
   ],
   "source": [
    "def fun():\n",
    "    print \"sfdsf\"\n",
    "f1=fun\n",
    "f1()"
   ]
  },
  {
   "cell_type": "code",
   "execution_count": 20,
   "metadata": {
    "collapsed": false
   },
   "outputs": [
    {
     "name": "stdout",
     "output_type": "stream",
     "text": [
      "sdafdsf\n"
     ]
    }
   ],
   "source": [
    "def outer():\n",
    "    return \"sdafdsf\"\n",
    "f=outer()\n",
    "print f"
   ]
  },
  {
   "cell_type": "code",
   "execution_count": 21,
   "metadata": {
    "collapsed": false
   },
   "outputs": [
    {
     "name": "stdout",
     "output_type": "stream",
     "text": [
      "100\n"
     ]
    }
   ],
   "source": [
    "def outer():\n",
    "    a=100\n",
    "    return a\n",
    "f=outer()\n",
    "print f"
   ]
  },
  {
   "cell_type": "code",
   "execution_count": 22,
   "metadata": {
    "collapsed": false
   },
   "outputs": [
    {
     "name": "stdout",
     "output_type": "stream",
     "text": [
      "outer\n"
     ]
    }
   ],
   "source": [
    "def outer():\n",
    "    print \"outer\"\n",
    "    def inner():\n",
    "        print \"inner\"\n",
    "    return inner\n",
    "f=outer()"
   ]
  },
  {
   "cell_type": "code",
   "execution_count": 23,
   "metadata": {
    "collapsed": false
   },
   "outputs": [
    {
     "data": {
      "text/plain": [
       "function"
      ]
     },
     "execution_count": 23,
     "metadata": {},
     "output_type": "execute_result"
    }
   ],
   "source": [
    "type(f)"
   ]
  },
  {
   "cell_type": "code",
   "execution_count": 24,
   "metadata": {
    "collapsed": false
   },
   "outputs": [
    {
     "name": "stdout",
     "output_type": "stream",
     "text": [
      "inner\n"
     ]
    }
   ],
   "source": [
    "f()"
   ]
  },
  {
   "cell_type": "code",
   "execution_count": 25,
   "metadata": {
    "collapsed": false
   },
   "outputs": [
    {
     "name": "stdout",
     "output_type": "stream",
     "text": [
      "outer\n"
     ]
    }
   ],
   "source": [
    "def outer():\n",
    "    print \"outer\"\n",
    "    def inner():\n",
    "        print \"inner\"\n",
    "    def inner1():\n",
    "        print \"inner1\"\n",
    "    return inner, inner1\n",
    "f=outer()"
   ]
  },
  {
   "cell_type": "code",
   "execution_count": 26,
   "metadata": {
    "collapsed": false
   },
   "outputs": [
    {
     "name": "stdout",
     "output_type": "stream",
     "text": [
      "inner\n"
     ]
    }
   ],
   "source": [
    "f[0]()"
   ]
  },
  {
   "cell_type": "code",
   "execution_count": 27,
   "metadata": {
    "collapsed": false
   },
   "outputs": [
    {
     "name": "stdout",
     "output_type": "stream",
     "text": [
      "inner1\n"
     ]
    }
   ],
   "source": [
    "f[1]()"
   ]
  },
  {
   "cell_type": "code",
   "execution_count": 28,
   "metadata": {
    "collapsed": true
   },
   "outputs": [],
   "source": [
    "def outer():\n",
    "    def inner():\n",
    "        return \"inner\"\n",
    "    def inner1():\n",
    "        return \"inner1\"\n",
    "    return inner, inner1,\"outer\"\n",
    "f=outer()"
   ]
  },
  {
   "cell_type": "code",
   "execution_count": 29,
   "metadata": {
    "collapsed": false
   },
   "outputs": [
    {
     "name": "stdout",
     "output_type": "stream",
     "text": [
      "inner\n"
     ]
    }
   ],
   "source": [
    "print f[0]()"
   ]
  },
  {
   "cell_type": "code",
   "execution_count": 30,
   "metadata": {
    "collapsed": false
   },
   "outputs": [
    {
     "name": "stdout",
     "output_type": "stream",
     "text": [
      "inner1\n"
     ]
    }
   ],
   "source": [
    "print f[1]()"
   ]
  },
  {
   "cell_type": "code",
   "execution_count": 31,
   "metadata": {
    "collapsed": false
   },
   "outputs": [
    {
     "name": "stdout",
     "output_type": "stream",
     "text": [
      "outer\n"
     ]
    }
   ],
   "source": [
    "print f[2]"
   ]
  },
  {
   "cell_type": "code",
   "execution_count": 33,
   "metadata": {
    "collapsed": false
   },
   "outputs": [
    {
     "name": "stdout",
     "output_type": "stream",
     "text": [
      "enter a value:10\n",
      "enter v value:20\n",
      "0.5\n",
      "enter a value:12\n",
      "enter v value:dsfsd\n",
      "could not convert string to float: dsfsd\n"
     ]
    }
   ],
   "source": [
    "def fun():\n",
    "    try:\n",
    "        a=raw_input(\"enter a value:\")\n",
    "        b=raw_input(\"enter v value:\")\n",
    "        res=float(a)/float(b)\n",
    "        return res\n",
    "    except Exception as err:\n",
    "        return err\n",
    "def fun1():\n",
    "    try:\n",
    "        a=raw_input(\"enter a value:\")\n",
    "        b=raw_input(\"enter v value:\")\n",
    "        res=float(a)+float(b)\n",
    "        return res\n",
    "    except Exception as err:\n",
    "        return err\n",
    "print fun()\n",
    "print fun1()"
   ]
  },
  {
   "cell_type": "code",
   "execution_count": 34,
   "metadata": {
    "collapsed": false
   },
   "outputs": [
    {
     "ename": "NameError",
     "evalue": "name 'handle_exception' is not defined",
     "output_type": "error",
     "traceback": [
      "\u001b[0;31m---------------------------------------------------------------------------\u001b[0m",
      "\u001b[0;31mNameError\u001b[0m                                 Traceback (most recent call last)",
      "\u001b[0;32m<ipython-input-34-c5eb23848479>\u001b[0m in \u001b[0;36m<module>\u001b[0;34m()\u001b[0m\n\u001b[0;32m----> 1\u001b[0;31m \u001b[1;33m@\u001b[0m\u001b[0mhandle_exception\u001b[0m\u001b[1;33m\u001b[0m\u001b[0m\n\u001b[0m\u001b[1;32m      2\u001b[0m \u001b[1;32mdef\u001b[0m \u001b[0mfun\u001b[0m\u001b[1;33m(\u001b[0m\u001b[1;33m)\u001b[0m\u001b[1;33m:\u001b[0m\u001b[1;33m\u001b[0m\u001b[0m\n\u001b[1;32m      3\u001b[0m         \u001b[0ma\u001b[0m\u001b[1;33m=\u001b[0m\u001b[0mraw_input\u001b[0m\u001b[1;33m(\u001b[0m\u001b[1;34m\"enter a value:\"\u001b[0m\u001b[1;33m)\u001b[0m\u001b[1;33m\u001b[0m\u001b[0m\n\u001b[1;32m      4\u001b[0m         \u001b[0mb\u001b[0m\u001b[1;33m=\u001b[0m\u001b[0mraw_input\u001b[0m\u001b[1;33m(\u001b[0m\u001b[1;34m\"enter v value:\"\u001b[0m\u001b[1;33m)\u001b[0m\u001b[1;33m\u001b[0m\u001b[0m\n\u001b[1;32m      5\u001b[0m         \u001b[0mres\u001b[0m\u001b[1;33m=\u001b[0m\u001b[0mfloat\u001b[0m\u001b[1;33m(\u001b[0m\u001b[0ma\u001b[0m\u001b[1;33m)\u001b[0m\u001b[1;33m/\u001b[0m\u001b[0mfloat\u001b[0m\u001b[1;33m(\u001b[0m\u001b[0mb\u001b[0m\u001b[1;33m)\u001b[0m\u001b[1;33m\u001b[0m\u001b[0m\n",
      "\u001b[0;31mNameError\u001b[0m: name 'handle_exception' is not defined"
     ]
    }
   ],
   "source": [
    "@handle_exception\n",
    "def fun():\n",
    "        a=raw_input(\"enter a value:\")\n",
    "        b=raw_input(\"enter v value:\")\n",
    "        res=float(a)/float(b)\n",
    "        return res\n",
    "    \n",
    "@handle_exception\n",
    "def fun1():\n",
    "        a=raw_input(\"enter a value:\")\n",
    "        b=raw_input(\"enter v value:\")\n",
    "        res=float(a)+float(b)\n",
    "        return res\n",
    "    \n",
    "print fun()\n",
    "print fun1()"
   ]
  },
  {
   "cell_type": "code",
   "execution_count": 35,
   "metadata": {
    "collapsed": false
   },
   "outputs": [
    {
     "name": "stdout",
     "output_type": "stream",
     "text": [
      "Hello python\n"
     ]
    }
   ],
   "source": [
    "def get_greet(name):\n",
    "    return \"Hello {0}\".format(name)\n",
    "print get_greet(\"python\")"
   ]
  },
  {
   "cell_type": "code",
   "execution_count": 36,
   "metadata": {
    "collapsed": false
   },
   "outputs": [
    {
     "name": "stdout",
     "output_type": "stream",
     "text": [
      "Hello python\n"
     ]
    }
   ],
   "source": [
    "def p_get_text(fun):\n",
    "    def iner(arg):\n",
    "        return \"<p>\"+fun(arg)+\"</p\"\n",
    "def get_greet(name):\n",
    "    return \"Hello {0}\".format(name)\n",
    "print get_greet(\"python\")"
   ]
  },
  {
   "cell_type": "code",
   "execution_count": 39,
   "metadata": {
    "collapsed": false
   },
   "outputs": [
    {
     "name": "stdout",
     "output_type": "stream",
     "text": [
      "<p>Hello python</p\n"
     ]
    }
   ],
   "source": [
    "def p_get_text(fun):\n",
    "    def iner(arg):\n",
    "        return \"<p>\"+fun(arg)+\"</p\"\n",
    "    return iner\n",
    "def get_greet(name):\n",
    "    return \"Hello {0}\".format(name)\n",
    "out = p_get_text(get_greet)\n",
    "print out(\"python\")"
   ]
  },
  {
   "cell_type": "code",
   "execution_count": 41,
   "metadata": {
    "collapsed": false
   },
   "outputs": [
    {
     "name": "stdout",
     "output_type": "stream",
     "text": [
      "<p>Hello python</p\n"
     ]
    }
   ],
   "source": [
    "def p_get_text(fun):\n",
    "    def iner(arg):\n",
    "        return \"<p>\"+fun(arg)+\"</p\"\n",
    "    return iner\n",
    "@p_get_text\n",
    "def get_greet(name):\n",
    "    return \"Hello {0}\".format(name)\n",
    "\n",
    "print get_greet(\"python\")"
   ]
  },
  {
   "cell_type": "code",
   "execution_count": null,
   "metadata": {
    "collapsed": true
   },
   "outputs": [],
   "source": [
    "def handle_exception(fun):\n",
    "    def inner(args):\n",
    "        try:\n",
    "            \n",
    "            return fun(args)\n",
    "        except Exception as err:\n",
    "            return err\n",
    "    return inner\n",
    "@handle_exception\n",
    "def fun(a):\n",
    "        a=raw_input(\"enter a value:\")\n",
    "        b=raw_input(\"enter v value:\")\n",
    "        res=float(a)/float(b)\n",
    "        return res\n",
    "@handle_exception \n",
    "def fun1(a):\n",
    "        a=raw_input(\"enter a value:\")\n",
    "        b=raw_input(\"enter v value:\")\n",
    "        res=float(a)+float(b)\n",
    "        return res\n",
    "    \n",
    "print fun(10)\n",
    "print fun1(20)"
   ]
  },
  {
   "cell_type": "code",
   "execution_count": null,
   "metadata": {
    "collapsed": true
   },
   "outputs": [],
   "source": [
    "def fun():\n",
    "    try:\n",
    "        a=raw_input(\"enter a value:\")\n",
    "        b=raw_input(\"enter v value:\")\n",
    "        res=float(a)/float(b)\n",
    "        return res\n",
    "    except Exception as err:\n",
    "        return err\n",
    "def fun1():\n",
    "    try:\n",
    "        a=raw_input(\"enter a value:\")\n",
    "        b=raw_input(\"enter v value:\")\n",
    "        res=float(a)+float(b)\n",
    "        return res\n",
    "    except Exception as err:\n",
    "        return err\n",
    "print fun()\n",
    "print fun1()"
   ]
  },
  {
   "cell_type": "code",
   "execution_count": 49,
   "metadata": {
    "collapsed": false
   },
   "outputs": [
    {
     "name": "stdout",
     "output_type": "stream",
     "text": [
      "instance\n",
      "30\n",
      "self= <__main__.c1 instance at 0x0000000003DF8448>\n",
      "cls: __main__.c1\n",
      "class method\n",
      "None\n"
     ]
    }
   ],
   "source": [
    "# class methods, instance methods, static methods\n",
    "class c1:\n",
    "    @classmethod\n",
    "    def clm(cls):\n",
    "        print \"cls:\",cls\n",
    "        print \"class method\"\n",
    "        \n",
    "    def instance(self):\n",
    "        print \"instance\"\n",
    "        self.static(10,20)\n",
    "        print \"self=\",self\n",
    "        self.clm()\n",
    "        \n",
    "    @staticmethod\n",
    "    def static(a,b):\n",
    "        print a+b\n",
    "o1=c1()\n",
    "print o1.instance()"
   ]
  },
  {
   "cell_type": "code",
   "execution_count": 50,
   "metadata": {
    "collapsed": false
   },
   "outputs": [
    {
     "name": "stdout",
     "output_type": "stream",
     "text": [
      "['ID = 253']\n"
     ]
    }
   ],
   "source": [
    "import re\n",
    "class Volume:\n",
    "    def create_volume(self,name,pool,size,**kwargs):\n",
    "        resp = \"createed volume successfully! \\n ID = 253\"\n",
    "        return self.parse_str(resp)\n",
    "    \n",
    "    def parse_str(self,resp):\n",
    "        return re.findall(\"ID.*\",resp)\n",
    "v1=Volume()\n",
    "print v1.create_volume(\"n1\",\"pool1\",\"12M\")\n",
    "        "
   ]
  },
  {
   "cell_type": "code",
   "execution_count": 54,
   "metadata": {
    "collapsed": false
   },
   "outputs": [
    {
     "name": "stdout",
     "output_type": "stream",
     "text": [
      "__main__.Volume\n",
      "this is class method\n",
      "__main__.Volume\n",
      "this is class method\n",
      "['ID = 253']\n",
      "['ID=233445']\n",
      "['ID=233445']\n"
     ]
    }
   ],
   "source": [
    "import re\n",
    "class Volume:\n",
    "    @classmethod\n",
    "    def clm(cls):\n",
    "        print cls\n",
    "        return \"this is class method\"\n",
    "    def create_volume(self,name,pool,size,**kwargs):\n",
    "        resp = \"createed volume successfully! \\n ID = 253\"\n",
    "        return self.parse_str(resp)\n",
    "    @staticmethod\n",
    "    def parse_str(resp):\n",
    "        \n",
    "        return re.findall(\"ID.*\",resp)\n",
    "v1=Volume()\n",
    "print v1.clm()\n",
    "print Volume.clm()\n",
    "print v1.create_volume(\"n1\",\"pool1\",\"12M\")\n",
    "print Volume.parse_str(\"Volume created sucessfully! \\n ID=233445\")\n",
    "print v1.parse_str(\"Volume created sucessfully! \\n ID=233445\")\n",
    "        "
   ]
  },
  {
   "cell_type": "code",
   "execution_count": 55,
   "metadata": {
    "collapsed": true
   },
   "outputs": [],
   "source": [
    "l=[10,20,30,20,30,40]"
   ]
  },
  {
   "cell_type": "code",
   "execution_count": 56,
   "metadata": {
    "collapsed": false
   },
   "outputs": [
    {
     "data": {
      "text/plain": [
       "30"
      ]
     },
     "execution_count": 56,
     "metadata": {},
     "output_type": "execute_result"
    }
   ],
   "source": [
    "l.pop()"
   ]
  },
  {
   "cell_type": "code",
   "execution_count": 57,
   "metadata": {
    "collapsed": true
   },
   "outputs": [],
   "source": [
    "l.remove(20)"
   ]
  },
  {
   "cell_type": "code",
   "execution_count": 58,
   "metadata": {
    "collapsed": false
   },
   "outputs": [
    {
     "data": {
      "text/plain": [
       "[10]"
      ]
     },
     "execution_count": 58,
     "metadata": {},
     "output_type": "execute_result"
    }
   ],
   "source": [
    "l"
   ]
  },
  {
   "cell_type": "code",
   "execution_count": 59,
   "metadata": {
    "collapsed": true
   },
   "outputs": [],
   "source": [
    "l=[10,20,30,20,30,40]\n",
    "del l[:3]"
   ]
  },
  {
   "cell_type": "code",
   "execution_count": 60,
   "metadata": {
    "collapsed": false
   },
   "outputs": [
    {
     "data": {
      "text/plain": [
       "[20, 30, 40]"
      ]
     },
     "execution_count": 60,
     "metadata": {},
     "output_type": "execute_result"
    }
   ],
   "source": [
    "l"
   ]
  },
  {
   "cell_type": "code",
   "execution_count": null,
   "metadata": {
    "collapsed": true
   },
   "outputs": [],
   "source": [
    "d1={\"k1\":\"v1\",\"k2\"}"
   ]
  }
 ],
 "metadata": {
  "kernelspec": {
   "display_name": "Python [default]",
   "language": "python",
   "name": "python2"
  },
  "language_info": {
   "codemirror_mode": {
    "name": "ipython",
    "version": 2
   },
   "file_extension": ".py",
   "mimetype": "text/x-python",
   "name": "python",
   "nbconvert_exporter": "python",
   "pygments_lexer": "ipython2",
   "version": "2.7.12"
  }
 },
 "nbformat": 4,
 "nbformat_minor": 1
}
