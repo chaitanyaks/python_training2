{
 "cells": [
  {
   "cell_type": "code",
   "execution_count": 1,
   "metadata": {
    "collapsed": false
   },
   "outputs": [
    {
     "data": {
      "text/plain": [
       "'\\n76.  write a class program to demonstrate method overloading in python using below scenario.\\n \\tWrite a class and constructor to create an instances like below\\n\\ta. p1 = person(id=1,name=\\xe2\\x80\\x9dashok\\xe2\\x80\\x9d,age=23,sal=56787)\\n            b. p2 = person(id=2,age=24,adhar=23456)\\n\\tc. p3 = person(id=4,pan=\\xe2\\x80\\x9dbrcp3456\\xe2\\x80\\x9d,sal=23,age=45)\\n'"
      ]
     },
     "execution_count": 1,
     "metadata": {},
     "output_type": "execute_result"
    }
   ],
   "source": [
    "\"\"\"\n",
    "76.  write a class program to demonstrate method overloading in python using below scenario.\n",
    " \tWrite a class and constructor to create an instances like below\n",
    "\ta. p1 = person(id=1,name=”ashok”,age=23,sal=56787)\n",
    "            b. p2 = person(id=2,age=24,adhar=23456)\n",
    "\tc. p3 = person(id=4,pan=”brcp3456”,sal=23,age=45)\n",
    "\"\"\""
   ]
  },
  {
   "cell_type": "code",
   "execution_count": 3,
   "metadata": {
    "collapsed": false
   },
   "outputs": [],
   "source": [
    "class person:\n",
    "    def __init__(self,**kwargs):\n",
    "        self.data = kwargs\n",
    "    def get_info(self):\n",
    "        return self.data\n",
    "p1 = person(id=1,name='ashok',age=23,sal=56787)\n",
    "p2 = person(id=2,age=24,adhar=23456)\n",
    "p3 = person(id=4,pan='brcp3456',sal=23,age=45)"
   ]
  },
  {
   "cell_type": "code",
   "execution_count": 5,
   "metadata": {
    "collapsed": false
   },
   "outputs": [
    {
     "data": {
      "text/plain": [
       "{'age': 23, 'id': 1, 'name': 'ashok', 'sal': 56787}"
      ]
     },
     "execution_count": 5,
     "metadata": {},
     "output_type": "execute_result"
    }
   ],
   "source": [
    "p1.get_info()"
   ]
  },
  {
   "cell_type": "code",
   "execution_count": 6,
   "metadata": {
    "collapsed": true
   },
   "outputs": [],
   "source": [
    "import pandas as pd"
   ]
  },
  {
   "cell_type": "code",
   "execution_count": 7,
   "metadata": {
    "collapsed": true
   },
   "outputs": [],
   "source": [
    "pd.read_csv?"
   ]
  },
  {
   "cell_type": "code",
   "execution_count": 14,
   "metadata": {
    "collapsed": false
   },
   "outputs": [],
   "source": [
    "class person:\n",
    "    def __init__(self, id1=0, name=\"\", age=0, sal=0.0, pan=\"\", adhar=\"\"):\n",
    "        '''\n",
    "        keys for the kwargs are: id, name, age, sal, adhar, pan\n",
    "        \n",
    "        '''\n",
    "        self.id1 = id1\n",
    "        self.name = name\n",
    "        self.age=age\n",
    "        self.sal=sal\n",
    "        self.pan=pan\n",
    "        self.adhar=adhar\n",
    "    def get_info(self):\n",
    "        return self.name, self.id1, self.age, self.sal, self.pan, self.adhar\n",
    "p1 = person(id1=1,name='ashok',age=23,sal=56787)\n",
    "p2 = person(id1=2,age=24,adhar=23456)\n",
    "p3 = person(id1=4,pan='brcp3456',sal=23,age=45)"
   ]
  },
  {
   "cell_type": "code",
   "execution_count": 15,
   "metadata": {
    "collapsed": false
   },
   "outputs": [
    {
     "name": "stdout",
     "output_type": "stream",
     "text": [
      "('ashok', 1, 23, 56787, '', '')\n",
      "('', 2, 24, 0.0, '', 23456)\n",
      "('', 4, 45, 23, 'brcp3456', '')\n"
     ]
    }
   ],
   "source": [
    "print p1.get_info()\n",
    "print p2.get_info()\n",
    "print p3.get_info()"
   ]
  },
  {
   "cell_type": "code",
   "execution_count": 16,
   "metadata": {
    "collapsed": false
   },
   "outputs": [
    {
     "name": "stdout",
     "output_type": "stream",
     "text": [
      "1\n",
      "2\n",
      "3\n",
      "4\n"
     ]
    }
   ],
   "source": [
    "for i in \"1234\":\n",
    "    print i"
   ]
  },
  {
   "cell_type": "code",
   "execution_count": 17,
   "metadata": {
    "collapsed": false
   },
   "outputs": [
    {
     "ename": "TypeError",
     "evalue": "'int' object is not iterable",
     "output_type": "error",
     "traceback": [
      "\u001b[0;31m---------------------------------------------------------------------------\u001b[0m",
      "\u001b[0;31mTypeError\u001b[0m                                 Traceback (most recent call last)",
      "\u001b[0;32m<ipython-input-17-2a20a864c235>\u001b[0m in \u001b[0;36m<module>\u001b[0;34m()\u001b[0m\n\u001b[0;32m----> 1\u001b[0;31m \u001b[1;32mfor\u001b[0m \u001b[0mi\u001b[0m \u001b[1;32min\u001b[0m \u001b[1;36m1234\u001b[0m\u001b[1;33m:\u001b[0m\u001b[1;33m\u001b[0m\u001b[0m\n\u001b[0m\u001b[1;32m      2\u001b[0m     \u001b[1;32mprint\u001b[0m \u001b[0mi\u001b[0m\u001b[1;33m\u001b[0m\u001b[0m\n",
      "\u001b[0;31mTypeError\u001b[0m: 'int' object is not iterable"
     ]
    }
   ],
   "source": [
    "for i in 1234:\n",
    "    print i"
   ]
  },
  {
   "cell_type": "code",
   "execution_count": 18,
   "metadata": {
    "collapsed": false
   },
   "outputs": [
    {
     "ename": "TypeError",
     "evalue": "iteration over non-sequence",
     "output_type": "error",
     "traceback": [
      "\u001b[0;31m---------------------------------------------------------------------------\u001b[0m",
      "\u001b[0;31mTypeError\u001b[0m                                 Traceback (most recent call last)",
      "\u001b[0;32m<ipython-input-18-13e6d1ed2dc8>\u001b[0m in \u001b[0;36m<module>\u001b[0;34m()\u001b[0m\n\u001b[0;32m----> 1\u001b[0;31m \u001b[1;32mfor\u001b[0m \u001b[0mi\u001b[0m \u001b[1;32min\u001b[0m \u001b[0mp1\u001b[0m\u001b[1;33m:\u001b[0m\u001b[1;33m\u001b[0m\u001b[0m\n\u001b[0m\u001b[1;32m      2\u001b[0m     \u001b[1;32mprint\u001b[0m \u001b[0mi\u001b[0m\u001b[1;33m\u001b[0m\u001b[0m\n",
      "\u001b[0;31mTypeError\u001b[0m: iteration over non-sequence"
     ]
    }
   ],
   "source": [
    "for i in p1:\n",
    "    print i"
   ]
  },
  {
   "cell_type": "code",
   "execution_count": 20,
   "metadata": {
    "collapsed": false
   },
   "outputs": [
    {
     "ename": "AttributeError",
     "evalue": "person instance has no attribute 'age'",
     "output_type": "error",
     "traceback": [
      "\u001b[0;31m---------------------------------------------------------------------------\u001b[0m",
      "\u001b[0;31mAttributeError\u001b[0m                            Traceback (most recent call last)",
      "\u001b[0;32m<ipython-input-20-dc144265aa23>\u001b[0m in \u001b[0;36m<module>\u001b[0;34m()\u001b[0m\n\u001b[1;32m      9\u001b[0m \u001b[0mp2\u001b[0m \u001b[1;33m=\u001b[0m \u001b[0mperson\u001b[0m\u001b[1;33m(\u001b[0m\u001b[0mid\u001b[0m\u001b[1;33m=\u001b[0m\u001b[1;36m2\u001b[0m\u001b[1;33m,\u001b[0m\u001b[0mage\u001b[0m\u001b[1;33m=\u001b[0m\u001b[1;36m24\u001b[0m\u001b[1;33m,\u001b[0m\u001b[0madhar\u001b[0m\u001b[1;33m=\u001b[0m\u001b[1;36m23456\u001b[0m\u001b[1;33m)\u001b[0m\u001b[1;33m\u001b[0m\u001b[0m\n\u001b[1;32m     10\u001b[0m \u001b[0mp3\u001b[0m \u001b[1;33m=\u001b[0m \u001b[0mperson\u001b[0m\u001b[1;33m(\u001b[0m\u001b[0mid\u001b[0m\u001b[1;33m=\u001b[0m\u001b[1;36m4\u001b[0m\u001b[1;33m,\u001b[0m\u001b[0mpan\u001b[0m\u001b[1;33m=\u001b[0m\u001b[1;34m'brcp3456'\u001b[0m\u001b[1;33m,\u001b[0m\u001b[0msal\u001b[0m\u001b[1;33m=\u001b[0m\u001b[1;36m23\u001b[0m\u001b[1;33m,\u001b[0m\u001b[0mage\u001b[0m\u001b[1;33m=\u001b[0m\u001b[1;36m45\u001b[0m\u001b[1;33m)\u001b[0m\u001b[1;33m\u001b[0m\u001b[0m\n\u001b[0;32m---> 11\u001b[0;31m \u001b[1;32mfor\u001b[0m \u001b[0mi\u001b[0m \u001b[1;32min\u001b[0m \u001b[0mp1\u001b[0m\u001b[1;33m:\u001b[0m\u001b[1;33m\u001b[0m\u001b[0m\n\u001b[0m\u001b[1;32m     12\u001b[0m     \u001b[1;32mprint\u001b[0m \u001b[0mi\u001b[0m\u001b[1;33m\u001b[0m\u001b[0m\n",
      "\u001b[0;32m<ipython-input-20-dc144265aa23>\u001b[0m in \u001b[0;36m__iter__\u001b[0;34m(self)\u001b[0m\n\u001b[1;32m      5\u001b[0m         \u001b[1;32mreturn\u001b[0m \u001b[0mself\u001b[0m\u001b[1;33m.\u001b[0m\u001b[0mdata\u001b[0m\u001b[1;33m\u001b[0m\u001b[0m\n\u001b[1;32m      6\u001b[0m     \u001b[1;32mdef\u001b[0m \u001b[0m__iter__\u001b[0m\u001b[1;33m(\u001b[0m\u001b[0mself\u001b[0m\u001b[1;33m)\u001b[0m\u001b[1;33m:\u001b[0m\u001b[1;33m\u001b[0m\u001b[0m\n\u001b[0;32m----> 7\u001b[0;31m         \u001b[1;32mreturn\u001b[0m \u001b[0mself\u001b[0m\u001b[1;33m.\u001b[0m\u001b[0mage\u001b[0m\u001b[1;33m\u001b[0m\u001b[0m\n\u001b[0m\u001b[1;32m      8\u001b[0m \u001b[0mp1\u001b[0m \u001b[1;33m=\u001b[0m \u001b[0mperson\u001b[0m\u001b[1;33m(\u001b[0m\u001b[0mid\u001b[0m\u001b[1;33m=\u001b[0m\u001b[1;36m1\u001b[0m\u001b[1;33m,\u001b[0m\u001b[0mname\u001b[0m\u001b[1;33m=\u001b[0m\u001b[1;34m'ashok'\u001b[0m\u001b[1;33m,\u001b[0m\u001b[0mage\u001b[0m\u001b[1;33m=\u001b[0m\u001b[1;36m23\u001b[0m\u001b[1;33m,\u001b[0m\u001b[0msal\u001b[0m\u001b[1;33m=\u001b[0m\u001b[1;36m56787\u001b[0m\u001b[1;33m)\u001b[0m\u001b[1;33m\u001b[0m\u001b[0m\n\u001b[1;32m      9\u001b[0m \u001b[0mp2\u001b[0m \u001b[1;33m=\u001b[0m \u001b[0mperson\u001b[0m\u001b[1;33m(\u001b[0m\u001b[0mid\u001b[0m\u001b[1;33m=\u001b[0m\u001b[1;36m2\u001b[0m\u001b[1;33m,\u001b[0m\u001b[0mage\u001b[0m\u001b[1;33m=\u001b[0m\u001b[1;36m24\u001b[0m\u001b[1;33m,\u001b[0m\u001b[0madhar\u001b[0m\u001b[1;33m=\u001b[0m\u001b[1;36m23456\u001b[0m\u001b[1;33m)\u001b[0m\u001b[1;33m\u001b[0m\u001b[0m\n",
      "\u001b[0;31mAttributeError\u001b[0m: person instance has no attribute 'age'"
     ]
    }
   ],
   "source": [
    "class person:\n",
    "    def __init__(self,**kwargs):\n",
    "        self.data = kwargs\n",
    "    def get_info(self):\n",
    "        return self.data\n",
    "    def __iter__(self):\n",
    "        return self.age\n",
    "p1 = person(id=1,name='ashok',age=23,sal=56787)\n",
    "p2 = person(id=2,age=24,adhar=23456)\n",
    "p3 = person(id=4,pan='brcp3456',sal=23,age=45)\n",
    "for i in p1:\n",
    "    print i"
   ]
  },
  {
   "cell_type": "code",
   "execution_count": 30,
   "metadata": {
    "collapsed": false
   },
   "outputs": [
    {
     "name": "stdout",
     "output_type": "stream",
     "text": [
      "23\n",
      "ashok\n",
      "56787\n"
     ]
    }
   ],
   "source": [
    "class person:\n",
    "    def __init__(self, id1=0, name=\"\", age=0, sal=0.0, pan=\"\", adhar=\"\"):\n",
    "        '''\n",
    "        keys for the kwargs are: id, name, age, sal, adhar, pan\n",
    "        \n",
    "        '''\n",
    "        self.id1 = id1\n",
    "        self.name = name\n",
    "        self.age=age\n",
    "        self.sal=sal\n",
    "        self.pan=pan\n",
    "        self.adhar=adhar\n",
    "    def get_info(self):\n",
    "        return self.name, self.id1, self.age, self.sal, self.pan, self.adhar\n",
    "    def __iter__(self):\n",
    "        yield self.age\n",
    "        yield self.name\n",
    "        yield self.sal\n",
    "        \n",
    "p1 = person(id1=1,name='ashok',age=23,sal=56787)\n",
    "p2 = person(id1=2,age=24,adhar=23456)\n",
    "p3 = person(id1=4,pan='brcp3456',sal=23,age=45)\n",
    "for i in p1:\n",
    "    print i"
   ]
  },
  {
   "cell_type": "code",
   "execution_count": 31,
   "metadata": {
    "collapsed": true
   },
   "outputs": [],
   "source": [
    "def fun():\n",
    "    return 10\n",
    "    return 20"
   ]
  },
  {
   "cell_type": "code",
   "execution_count": 32,
   "metadata": {
    "collapsed": false
   },
   "outputs": [
    {
     "name": "stdout",
     "output_type": "stream",
     "text": [
      "10\n"
     ]
    }
   ],
   "source": [
    "a=fun()\n",
    "print a"
   ]
  },
  {
   "cell_type": "code",
   "execution_count": 33,
   "metadata": {
    "collapsed": false
   },
   "outputs": [
    {
     "name": "stdout",
     "output_type": "stream",
     "text": [
      "10\n"
     ]
    }
   ],
   "source": [
    "a=fun()\n",
    "print a"
   ]
  },
  {
   "cell_type": "code",
   "execution_count": 34,
   "metadata": {
    "collapsed": false
   },
   "outputs": [
    {
     "name": "stdout",
     "output_type": "stream",
     "text": [
      "function st1\n",
      "10\n"
     ]
    }
   ],
   "source": [
    "def fun():\n",
    "    print \"function st1\"\n",
    "    return 10\n",
    "    print \"function st2\" \n",
    "    return 20\n",
    "    print \"fun st3\"\n",
    "a=fun()\n",
    "print a"
   ]
  },
  {
   "cell_type": "code",
   "execution_count": 37,
   "metadata": {
    "collapsed": false
   },
   "outputs": [],
   "source": [
    "a=fun()"
   ]
  },
  {
   "cell_type": "code",
   "execution_count": 38,
   "metadata": {
    "collapsed": true
   },
   "outputs": [],
   "source": [
    "def fun():\n",
    "    print \"function st1\"\n",
    "    yield 10\n",
    "    print \"function st2\" \n",
    "    yield 20\n",
    "    print \"fun st3\"\n",
    "a=fun()"
   ]
  },
  {
   "cell_type": "code",
   "execution_count": 39,
   "metadata": {
    "collapsed": false
   },
   "outputs": [
    {
     "name": "stdout",
     "output_type": "stream",
     "text": [
      "function st1\n"
     ]
    },
    {
     "data": {
      "text/plain": [
       "10"
      ]
     },
     "execution_count": 39,
     "metadata": {},
     "output_type": "execute_result"
    }
   ],
   "source": [
    "a.next()"
   ]
  },
  {
   "cell_type": "code",
   "execution_count": 40,
   "metadata": {
    "collapsed": false
   },
   "outputs": [
    {
     "name": "stdout",
     "output_type": "stream",
     "text": [
      "function st2\n"
     ]
    },
    {
     "data": {
      "text/plain": [
       "20"
      ]
     },
     "execution_count": 40,
     "metadata": {},
     "output_type": "execute_result"
    }
   ],
   "source": [
    "a.next()"
   ]
  },
  {
   "cell_type": "code",
   "execution_count": 41,
   "metadata": {
    "collapsed": false
   },
   "outputs": [
    {
     "name": "stdout",
     "output_type": "stream",
     "text": [
      "fun st3\n"
     ]
    },
    {
     "ename": "StopIteration",
     "evalue": "",
     "output_type": "error",
     "traceback": [
      "\u001b[0;31m---------------------------------------------------------------------------\u001b[0m",
      "\u001b[0;31mStopIteration\u001b[0m                             Traceback (most recent call last)",
      "\u001b[0;32m<ipython-input-41-aa817a57a973>\u001b[0m in \u001b[0;36m<module>\u001b[0;34m()\u001b[0m\n\u001b[0;32m----> 1\u001b[0;31m \u001b[0ma\u001b[0m\u001b[1;33m.\u001b[0m\u001b[0mnext\u001b[0m\u001b[1;33m(\u001b[0m\u001b[1;33m)\u001b[0m\u001b[1;33m\u001b[0m\u001b[0m\n\u001b[0m",
      "\u001b[0;31mStopIteration\u001b[0m: "
     ]
    }
   ],
   "source": [
    "a.next()"
   ]
  },
  {
   "cell_type": "code",
   "execution_count": 47,
   "metadata": {
    "collapsed": false
   },
   "outputs": [
    {
     "name": "stdout",
     "output_type": "stream",
     "text": [
      "23\n",
      "ashok\n",
      "56787\n",
      "{'name': 'ashok', 'id': 3}\n"
     ]
    }
   ],
   "source": [
    "class person:\n",
    "    def __init__(self, id1=0, name=\"\", age=0, sal=0.0, pan=\"\", adhar=\"\"):\n",
    "        '''\n",
    "        keys for the kwargs are: id, name, age, sal, adhar, pan\n",
    "        \n",
    "        '''\n",
    "        self.id1 = id1\n",
    "        self.name = name\n",
    "        self.age=age\n",
    "        self.sal=sal\n",
    "        self.pan=pan\n",
    "        self.adhar=adhar\n",
    "    def get_info(self):\n",
    "        return self.name, self.id1, self.age, self.sal, self.pan, self.adhar\n",
    "    def __iter__(self):\n",
    "        yield self.age\n",
    "        yield self.name\n",
    "        yield self.sal\n",
    "    def __add__(self1,self2):\n",
    "        res = {}\n",
    "        res.update({'name':self1.name+self2.name})\n",
    "        res.update({'id':self1.id1+self2.id1})\n",
    "        return res\n",
    "        \n",
    "p1 = person(id1=1,name='ashok',age=23,sal=56787)\n",
    "p2 = person(id1=2,age=24,adhar=23456)\n",
    "p3 = person(id1=4,pan='brcp3456',sal=23,age=45)\n",
    "for i in p1:\n",
    "    print i\n",
    "print p1+p2"
   ]
  },
  {
   "cell_type": "code",
   "execution_count": null,
   "metadata": {
    "collapsed": true
   },
   "outputs": [],
   "source": [
    "class DB:\n",
    "    def conect(self):\n",
    "        pass\n",
    "    def insert(self):\n",
    "        pass\n",
    "class Model(DB):\n",
    "    def create(self):\n",
    "        \n",
    "class person(Model):\n",
    "    \n",
    "        "
   ]
  },
  {
   "cell_type": "code",
   "execution_count": 49,
   "metadata": {
    "collapsed": false
   },
   "outputs": [],
   "source": [
    "data = open('assignments.txt','r').read()"
   ]
  },
  {
   "cell_type": "code",
   "execution_count": 50,
   "metadata": {
    "collapsed": false
   },
   "outputs": [
    {
     "data": {
      "text/plain": [
       "'\\xef\\xbb\\xbf1. write a program to findout \\n2. write a program to chek given substring is there in actual string or not? (search should be case insensitive)\\n3. take a number from the user and check whether even or odd\\n4. take a number from the user and check whether it is prime?\\n5. take a string from the user and check contains only digits or not?\\n6. take a string from the user and check contains only  alphabets or not?\\n7. take a string from the user and check contains only  special chars or not?\\n8. take a string from the user and check contains only  capiatl letters or not?\\n9. take a string from the user and check contains only  small letters or not?\\n10. Show the below menu to the user until and until user select quit and display corresponding os message\\n\\n\\'\\'\\'\\nMenu:\\n1. windows\\n2. Linux\\n3. Mac\\n4. quit\\n\\'\\'\\'\\n\\n11. take a string from the user and check contains atleast one digit or not?\\n12. take a string from the user and check contains atleast one alphabets or not?\\n13. take a string from the user and check contains atleast one chars or not?\\n14. take a string from the user and check contains atleast one capital letter or not?\\n15. take a string from the user and check contains atleast one small letter or not?\\n16. Take the input from the user for(Total number of people, toatl number of busses, Number of seats for bus). Based on the input\\n\\tDeside whether there is sufficient busses or not and give solution for how many extra busses required.\\n17. Print the first 100 odd numbers\\n18. Determine the factors of a number entered  by the user\\n19. Play a number guessing game (User enters a guess, you print YES or Higher or Lower)\\n20. Take two numbers from the user a,b check whether a is divisible by b or not?\\n21. Given an age, figure out whether someone\\'s a baby, toddler, child, teenager, adult or old codger.\\n22. Find the sum of all the multiples of 3 or 5 below 1000\\n\\n23. Write a program to findout big of two numbers\\n24. Write a program to findout biggest number in the given numbers.\\n25. findout third occurance of given substring\\n26. findout nth occurance of given substring\\n27. Taake some single digit numbers from the user and findout min, maximum, sum, average\\n28. WAP> 10 -> 000010\\n       100 ->  000100\\n      1000 ->  001000\\n  2345678  ->  2345678\\n29. names  =\"emp1,emp2,emp3,emp4\" iterate through the employee names.\\n30. Take actuual string, soucrce string, destination string. replce first nth occurances of soucestring with destination string of actual string\\n31. Taake numbers from the user and findout min, maximum, sum, average\\n32. l=[10,20,30,[40,50,60],70,[80,90,20]]. Convert this list as sigle dimentiona list\\n33. input: \"google\" print count of each character \\n34. Convert n dimentional list to single dimentiona list.\\n35. l=[1,2,3] just make it as a string.\\n36. l=[1,2,3,[4,5,6],7,[8,9,10]] for single dimentional list\\n37. l=[\\'a\\',\\'A\\',\\'b\\',\\'B\\',\\'d\\',\\'D\\',\\'c\\',\\'C\\'] WAP to find out case insensitive count and case insensitive search for an element.\\n38. l=[\\'a\\',\\'A\\',\\'b\\',\\'B\\',\\'d\\',\\'D\\',\\'c\\',\\'C\\']  sort the list properly\\n39. find the start position of the largest block of repeated characters in a given string\\n40. WAP to find union and intersection of lists.\\n41. input: fun(5) output: [1,2,3,4,3,2,1]\\n42.input fun(\\'abc\\') output: [[],][a],[b],[c],[a,b],[b,c],[c,a],[a,b,c]]\\n43. Remove duplicates from the list: a=[1,2,3,2,3,4,1,,3,4]\\n44. l=[\\'1\\',\\'2\\',\\'3\\'] get the sum of the list\\n45. l1=[1,2,3,4] l2=[5,6,7,8] sum of two lists\\n46. Find third max value of element in a list with soring and without sorting a list.\\n47. Input = [\"1/1\",\"1/2\",\"1/3\",\"1/4\",\"2/5\",\"2/6\",\"2/8\"] Output = [[\\'1/1-4\\'], [\\'2/5-6\\'], [\\'2/8\\']]\\n48. l=[1,2,3,5,7,8,9,10,11,12,13,20,22,23,24,25,26,27,20,21,22,4] output = [[1, 2, 3], [5], [7, 8, 9, 10, 11, 12, 13], [20], [22, 23, 24, 25, 26, 27], [20, 21, 22], [4]]\\n49. input = 1,2,3,4,5,6,8,10 output = odd,even,odd,even,odd,even,even,even\\n50. input n=3 \\n    output: \\t111\\n\\t\\t101\\n\\t\\t111\\n51. input: google\\n\\toutput: {\\'g\\':2,\\'o\\':2,\\'l\\':1,\\'e\\':1} use dictionary comprehension\\n52. keys=[\\'k1\\',\\'k2\\'], values = [\\'v1\\',\\'v2\\'] form a dictionary.\\n53. Sort the list marks = [(\"mohan\", 80), (\"satish\", 90), (\"purnesh\", 40), (\"venkat\", 30)] acording to descending order of marks\\n54. write a function to get dynamic list for floating numbers also based on strat and end and step parameters\\n55. find out all perfect numbers in given range\\n56. WAP to do all stack operations using lists\\n57. WAP to do all queue operations using lists\\n58. WAP to remove n occurances of specified element from a list\\n59. copy 1 file content in to another file(Take the source and destination file path from the user)\\n60. Show the below menu to the user:\\n     1. Add a row\\n     2. modify a row\\n     3. delete a row\\n     Go with one unique field in the file. And maintain that unique constraint in all file modifiction operations\\n     Use .CSV file for this program\\n\\n61. number of lines, words, characters\\n62. convert .txt file in .json\\n63. Take three columns disease, symptoms, advice in a file and fill the details\\n\\tAsk the user to enter symptoms. Based on this symptoms Suggest the user to what disease it may be and few advices.\\n64. Take employees info (id,name, age, adress, sal, height, weight)\\n\\ta. Take id, provide employee information for that id.\\n\\tb. find out average salary.\\n\\tc. find out which age, address taking the heighest salary \\n\\td. find out every employee BMI value\\n\\te. Finally find out the Organization overall BMI\\n65.read the file which contains the size greater than your ram size\\n66. Read ten gb movie\\n67. Collect emp information in a file Provide these operations.\\n    \\n    Menu:\\n     1. Get information information of an employee\\n     2. Modify employee information\\n     3. delete an employee information (Only status field change in the employee file)\\n     4. Add an employee.\\n68. Take Source and destination file paths from command line arguments and copy the sourcontent into destination.\\n    Make Sure that your program checking the below conditions.\\n     1.if the source file not there. Should ask the user to enter new source file or want to quit a program\\n     2.if the destination file already there in the specified path. Should warn the user want to proceed or want to enter new destination file name or want to quit\\n\\n69. Bulk file copy. \\n     Take source and destination file paths from a file and copy the source file content into destination file.\\n     Maintain configuration file and put the below fields there\\n      Source not found: Skip the copy\\n      destination found: skip/replace\\n     maintain a remarks log. What are the files skiped from copy because no source file found. What are the files skip/replaced because of destination file foun in the specified path\\n     \\n     OOPS\\n     \\n70. Write a class(DB) program to create a table, insert values, update values, delete values of the table. \\nAll database operations code write in a file(db_operations.py) and call these operations in another file( app.py).\\nIn app.py create instance of the DB class and call all the methods by passing some data.\\n\\n71. write a program to do registration.\\n     Write a methods in a class DB to open database connection and insert details in to database table. \\nWrite a Model parent class and implement a create method. Call a database insert method into the create  method. Write child class person for Model and override method create method and call the parent(Model) class create method in the child(person) \\ncreate an instance of person class and call the create method.\\n\\n72. create a user defined datatype, and provide functionalities of addition substraction and multiplication. Create three instances(obj1,obj2,obj3) and print an output of obj1+obj2+obj3, obj1-obj2-obj3, obj1*obj2*obj3  \\n\\n73. addition, substraction, multiplication operations are not supported by dictionary. Write a program to provide addition, substraction, and  multiplication operations to dictionary. Write your own definition for operations.\\n\\n74. write a class that can create only one object. IF create one more object then it should written existing object but not new. Create three instances and print id\\xe2\\x80\\x99s of the instances. All the id\\xe2\\x80\\x99s should show same address.\\n\\n75. implement class method and instance method and static method in a class with an example. Create a instance and call all the methods. Write down what is class method and instance method and static method.\\n\\n76.  write a class program to demonstrate method overloading in python using below scenario.\\n \\tWrite a class and constructor to create an instances like below\\n\\ta. p1 = person(id=1,name=\\xe2\\x80\\x9dashok\\xe2\\x80\\x9d,age=23,sal=56787)\\n            b. p2 = person(id=2,age=24,adhar=23456)\\n\\tc. p3 = person(id=4,pan=\\xe2\\x80\\x9dbrcp3456\\xe2\\x80\\x9d,sal=23,age=45)\\t\\nmake instance iterable and provide the operation sp1+p2, p1-p2. Give your own definition for the operations\\n\\n77. Remove duplicates elements of the list withoud using built in keywords and temporary list.\\n78. WAP to replace perticular number of substings with a given destination string\\n79. WAP top remove substring form the given string without using replace function\\n80  WAP to remove perticular element from a given list for all occurancers\\n81. take two lists keys, values and form a dictionary\\n82. delete more than one key value pair at a time.\\n83. find out intersection, union, difference of two list without/with using set\\n84. WAP to create, modify, delete, browse lun in xtremeio array using xtremeio api.\\n85. WAP to create, modify, delete, browse lun in any array using paramiko module.\\n86. WAP to collect all directors from vplex and reboot one director from that using VATS Frame work\\n \\n'"
      ]
     },
     "execution_count": 50,
     "metadata": {},
     "output_type": "execute_result"
    }
   ],
   "source": [
    "data"
   ]
  },
  {
   "cell_type": "code",
   "execution_count": 51,
   "metadata": {
    "collapsed": true
   },
   "outputs": [],
   "source": [
    "import sys"
   ]
  },
  {
   "cell_type": "code",
   "execution_count": 52,
   "metadata": {
    "collapsed": false
   },
   "outputs": [
    {
     "data": {
      "text/plain": [
       "2147483647"
      ]
     },
     "execution_count": 52,
     "metadata": {},
     "output_type": "execute_result"
    }
   ],
   "source": [
    "sys.maxint"
   ]
  },
  {
   "cell_type": "code",
   "execution_count": 78,
   "metadata": {
    "collapsed": false
   },
   "outputs": [
    {
     "name": "stdout",
     "output_type": "stream",
     "text": [
      "['id,name,age\\n', '0,name0,27\\n', '1,name1,38\\n', '2,name2,49\\n', '3,name3,59\\n', '4,name4,55\\n', '5,name5,44\\n', '6,name6,34\\n', '7,name7,27\\n', '8,name8,34\\n', '9,name9,54\\n']\n"
     ]
    }
   ],
   "source": [
    "columns = ['id','name','age']\n",
    "import random\n",
    "rows = []\n",
    "ages = range(23,60)\n",
    "for i in range(10):\n",
    "    row = \"{0},name{0},{1}\".format(i,random.choice(ages))\n",
    "    rows.append(row)\n",
    "rows=map(lambda x:x+\"\\n\",rows)\n",
    "rows.insert(0,\",\".join(columns)+\"\\n\")\n",
    "print rows,\n",
    "f=open(\"emp_data.csv\",'w')\n",
    "f.writelines(rows)\n",
    "f.close()\n",
    "    "
   ]
  },
  {
   "cell_type": "code",
   "execution_count": 62,
   "metadata": {
    "collapsed": true
   },
   "outputs": [],
   "source": [
    "emp_id=2\n",
    "mod_name = \"mod_name2\"\n",
    "mod_age=25\n",
    "mod_sal=32432543\n",
    "row = \"{0},{1},{2},{3}\".format(emp_id,mod_name,mod_age,mod_sal)\n",
    "total_data = open(\"emp_data.csv\",'r').readlines()\n"
   ]
  },
  {
   "cell_type": "code",
   "execution_count": 63,
   "metadata": {
    "collapsed": false
   },
   "outputs": [
    {
     "name": "stdout",
     "output_type": "stream",
     "text": [
      "['id,name,age\\n', '0,name0,33\\n', '1,name1,33\\n', '2,name2,27\\n', '3,name3,23\\n', '4,name4,43\\n', '5,name5,24\\n', '6,name6,43\\n', '7,name7,58\\n', '8,name8,38\\n', '9,name9,42\\n']\n"
     ]
    }
   ],
   "source": [
    "print total_data"
   ]
  },
  {
   "cell_type": "code",
   "execution_count": 68,
   "metadata": {
    "collapsed": false
   },
   "outputs": [
    {
     "name": "stdout",
     "output_type": "stream",
     "text": [
      "2,name2,27\n",
      "\n"
     ]
    }
   ],
   "source": [
    "for row in total_data[1:]:\n",
    "    if emp_id == int(row.split(',')[0]):\n",
    "        print row"
   ]
  },
  {
   "cell_type": "code",
   "execution_count": 69,
   "metadata": {
    "collapsed": false
   },
   "outputs": [
    {
     "name": "stdout",
     "output_type": "stream",
     "text": [
      "['id,name,age\\n', '0,name0,33\\n', '1,name1,33\\n', '2,name2,27\\n', '3,name3,23\\n', '4,name4,43\\n', '5,name5,24\\n', '6,name6,43\\n', '7,name7,58\\n', '8,name8,38\\n', '9,name9,42\\n']\n"
     ]
    }
   ],
   "source": [
    "print total_data"
   ]
  },
  {
   "cell_type": "code",
   "execution_count": 79,
   "metadata": {
    "collapsed": false
   },
   "outputs": [
    {
     "name": "stdout",
     "output_type": "stream",
     "text": [
      "row= 3,mod_name2,25,32432543\n",
      "\n",
      "['id,name,age\\n', '0,name0,27\\n', '1,name1,38\\n', '2,name2,49\\n', '3,name3,59\\n', '4,name4,55\\n', '5,name5,44\\n', '6,name6,34\\n', '7,name7,27\\n', '8,name8,34\\n', '9,name9,54\\n']\n"
     ]
    }
   ],
   "source": [
    "emp_id=3\n",
    "mod_name = \"mod_name2\"\n",
    "mod_age=25\n",
    "mod_sal=32432543\n",
    "row = \"{0},{1},{2},{3}\\n\".format(emp_id,mod_name,mod_age,mod_sal)\n",
    "total_data = open(\"emp_data.csv\",'r').readlines()\n",
    "print \"row=\",row\n",
    "print total_data\n",
    "for r in total_data[1:]:\n",
    "    if emp_id == int(r.split(',')[0]):\n",
    "        req_row =  r\n",
    "ind = total_data.index(req_row)\n",
    "\n",
    "total_data[ind] = row\n",
    "f=open('emp_data.csv','w')\n",
    "f.writelines(total_data)\n",
    "f.close()\n"
   ]
  },
  {
   "cell_type": "raw",
   "metadata": {},
   "source": []
  },
  {
   "cell_type": "code",
   "execution_count": 71,
   "metadata": {
    "collapsed": false
   },
   "outputs": [
    {
     "data": {
      "text/plain": [
       "'2,name2,27\\n'"
      ]
     },
     "execution_count": 71,
     "metadata": {},
     "output_type": "execute_result"
    }
   ],
   "source": [
    "req_row"
   ]
  },
  {
   "cell_type": "code",
   "execution_count": 72,
   "metadata": {
    "collapsed": true
   },
   "outputs": [],
   "source": [
    "ind = total_data.index(req_row)"
   ]
  },
  {
   "cell_type": "code",
   "execution_count": 73,
   "metadata": {
    "collapsed": false
   },
   "outputs": [
    {
     "data": {
      "text/plain": [
       "3"
      ]
     },
     "execution_count": 73,
     "metadata": {},
     "output_type": "execute_result"
    }
   ],
   "source": [
    "ind"
   ]
  },
  {
   "cell_type": "code",
   "execution_count": 83,
   "metadata": {
    "collapsed": false
   },
   "outputs": [],
   "source": [
    "#input fun('abc') output: [[],][a],[b],[c],[a,b],[b,c],[c,a],[a,b,c]]\n",
    "import itertools\n",
    "    "
   ]
  },
  {
   "cell_type": "raw",
   "metadata": {},
   "source": []
  },
  {
   "cell_type": "code",
   "execution_count": 85,
   "metadata": {
    "collapsed": false
   },
   "outputs": [
    {
     "name": "stdout",
     "output_type": "stream",
     "text": [
      "('a', 'v', 'c')\n",
      "('a', 'c', 'v')\n",
      "('v', 'a', 'c')\n",
      "('v', 'c', 'a')\n",
      "('c', 'a', 'v')\n",
      "('c', 'v', 'a')\n"
     ]
    }
   ],
   "source": [
    "for i in itertools.permutations(\"avc\"):\n",
    "    print i"
   ]
  },
  {
   "cell_type": "code",
   "execution_count": 88,
   "metadata": {
    "collapsed": false
   },
   "outputs": [
    {
     "data": {
      "text/plain": [
       "'123'"
      ]
     },
     "execution_count": 88,
     "metadata": {},
     "output_type": "execute_result"
    }
   ],
   "source": [
    "l=[1,2,3]\n",
    "\n",
    "\"\".join(map(str,l))"
   ]
  },
  {
   "cell_type": "code",
   "execution_count": 92,
   "metadata": {
    "collapsed": false
   },
   "outputs": [],
   "source": [
    "s=\"asjfkgjtyiyuewn\"\n",
    "sq = sorted(s)"
   ]
  },
  {
   "cell_type": "code",
   "execution_count": 93,
   "metadata": {
    "collapsed": false
   },
   "outputs": [
    {
     "data": {
      "text/plain": [
       "['a', 'e', 'f', 'g', 'i', 'j', 'j', 'k', 'n', 's', 't', 'u', 'w', 'y', 'y']"
      ]
     },
     "execution_count": 93,
     "metadata": {},
     "output_type": "execute_result"
    }
   ],
   "source": [
    "sq"
   ]
  },
  {
   "cell_type": "code",
   "execution_count": 98,
   "metadata": {
    "collapsed": false
   },
   "outputs": [
    {
     "name": "stdout",
     "output_type": "stream",
     "text": [
      "aefgijjknstuwyy\n"
     ]
    }
   ],
   "source": [
    "s=\"asjfkgjtyiyuewn\"\n",
    "s1=[]\n",
    "s1.extend(s)\n",
    "s1.sort()\n",
    "print \"\".join(s1)"
   ]
  },
  {
   "cell_type": "code",
   "execution_count": 105,
   "metadata": {
    "collapsed": false
   },
   "outputs": [],
   "source": []
  },
  {
   "cell_type": "code",
   "execution_count": 103,
   "metadata": {
    "collapsed": false
   },
   "outputs": [
    {
     "data": {
      "text/plain": [
       "<__main__.c1 instance at 0x0000000008B18508>"
      ]
     },
     "execution_count": 103,
     "metadata": {},
     "output_type": "execute_result"
    }
   ],
   "source": [
    "o1"
   ]
  },
  {
   "cell_type": "code",
   "execution_count": 101,
   "metadata": {
    "collapsed": false
   },
   "outputs": [
    {
     "name": "stdout",
     "output_type": "stream",
     "text": [
      "<__main__.c1 instance at 0x0000000008B26188>\n"
     ]
    }
   ],
   "source": [
    "print o1"
   ]
  },
  {
   "cell_type": "code",
   "execution_count": 117,
   "metadata": {
    "collapsed": false
   },
   "outputs": [],
   "source": [
    "class c1(object):\n",
    "    obj=False\n",
    "    def __init__(self,a,b):\n",
    "        self.a=a\n",
    "        self.b=b\n",
    "        self.obj=True\n",
    "    def __repr__(self):\n",
    "        return str([self.a, self.b])\n",
    "o1=c1(10,20)"
   ]
  },
  {
   "cell_type": "code",
   "execution_count": 118,
   "metadata": {
    "collapsed": false
   },
   "outputs": [
    {
     "name": "stdout",
     "output_type": "stream",
     "text": [
      "[10, 20]\n"
     ]
    }
   ],
   "source": [
    "if o1:\n",
    "    print o1"
   ]
  },
  {
   "cell_type": "code",
   "execution_count": 125,
   "metadata": {
    "collapsed": false
   },
   "outputs": [],
   "source": [
    "class emp(object):\n",
    "    def __new__(cls):\n",
    "        return None\n",
    "\n",
    "samba=emp()"
   ]
  },
  {
   "cell_type": "code",
   "execution_count": 124,
   "metadata": {
    "collapsed": false
   },
   "outputs": [
    {
     "name": "stdout",
     "output_type": "stream",
     "text": [
      "<__main__.emp instance at 0x0000000008B29988>\n"
     ]
    }
   ],
   "source": [
    "print samba"
   ]
  },
  {
   "cell_type": "code",
   "execution_count": null,
   "metadata": {
    "collapsed": true
   },
   "outputs": [],
   "source": []
  }
 ],
 "metadata": {
  "kernelspec": {
   "display_name": "Python [default]",
   "language": "python",
   "name": "python2"
  },
  "language_info": {
   "codemirror_mode": {
    "name": "ipython",
    "version": 2
   },
   "file_extension": ".py",
   "mimetype": "text/x-python",
   "name": "python",
   "nbconvert_exporter": "python",
   "pygments_lexer": "ipython2",
   "version": "2.7.12"
  }
 },
 "nbformat": 4,
 "nbformat_minor": 1
}
