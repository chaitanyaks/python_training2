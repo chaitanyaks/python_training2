{
 "cells": [
  {
   "cell_type": "code",
   "execution_count": null,
   "metadata": {
    "collapsed": true
   },
   "outputs": [],
   "source": [
    "a=[10,20,30,40,\"pyoh\"]\n",
    "for i in a:\n",
    "    if a.isdigit():\n",
    "        if int(a)%2==0:\n",
    "            print 'even'\n",
    "        else:\n",
    "            print 'odd'\n",
    "    else:\n",
    "        print 'it is string' \n"
   ]
  }
 ],
 "metadata": {
  "kernelspec": {
   "display_name": "Python [default]",
   "language": "python",
   "name": "python2"
  },
  "language_info": {
   "codemirror_mode": {
    "name": "ipython",
    "version": 2
   },
   "file_extension": ".py",
   "mimetype": "text/x-python",
   "name": "python",
   "nbconvert_exporter": "python",
   "pygments_lexer": "ipython2",
   "version": "2.7.12"
  }
 },
 "nbformat": 4,
 "nbformat_minor": 1
}
