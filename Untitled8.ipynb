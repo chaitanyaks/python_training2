{
 "cells": [
  {
   "cell_type": "code",
   "execution_count": 1,
   "metadata": {
    "collapsed": false
   },
   "outputs": [
    {
     "ename": "TypeError",
     "evalue": "unsupported operand type(s) for +: 'instance' and 'instance'",
     "output_type": "error",
     "traceback": [
      "\u001b[0;31m---------------------------------------------------------------------------\u001b[0m",
      "\u001b[0;31mTypeError\u001b[0m                                 Traceback (most recent call last)",
      "\u001b[0;32m<ipython-input-1-7de1bb220d59>\u001b[0m in \u001b[0;36m<module>\u001b[0;34m()\u001b[0m\n\u001b[1;32m      8\u001b[0m \u001b[0mo2\u001b[0m\u001b[1;33m=\u001b[0m\u001b[0mc1\u001b[0m\u001b[1;33m(\u001b[0m\u001b[1;36m30\u001b[0m\u001b[1;33m,\u001b[0m\u001b[1;36m40\u001b[0m\u001b[1;33m)\u001b[0m\u001b[1;33m\u001b[0m\u001b[0m\n\u001b[1;32m      9\u001b[0m \u001b[0mo3\u001b[0m\u001b[1;33m=\u001b[0m\u001b[0mc1\u001b[0m\u001b[1;33m(\u001b[0m\u001b[1;36m50\u001b[0m\u001b[1;33m,\u001b[0m\u001b[1;36m60\u001b[0m\u001b[1;33m)\u001b[0m\u001b[1;33m\u001b[0m\u001b[0m\n\u001b[0;32m---> 10\u001b[0;31m \u001b[1;32mprint\u001b[0m \u001b[0mo1\u001b[0m\u001b[1;33m+\u001b[0m\u001b[0mo2\u001b[0m\u001b[1;33m+\u001b[0m\u001b[0mo3\u001b[0m\u001b[1;33m\u001b[0m\u001b[0m\n\u001b[0m",
      "\u001b[0;31mTypeError\u001b[0m: unsupported operand type(s) for +: 'instance' and 'instance'"
     ]
    }
   ],
   "source": [
    "class c1:\n",
    "    def __init__(self,a,b):\n",
    "        self.a=a\n",
    "        self.b=b\n",
    "    def oper(self):\n",
    "        print \"oper1\"\n",
    "o1=c1(10,20)\n",
    "o2=c1(30,40)\n",
    "o3=c1(50,60)\n",
    "print o1+o2+o3"
   ]
  },
  {
   "cell_type": "code",
   "execution_count": 2,
   "metadata": {
    "collapsed": false
   },
   "outputs": [
    {
     "name": "stdout",
     "output_type": "stream",
     "text": [
      "90\n"
     ]
    }
   ],
   "source": [
    "class c1:\n",
    "    def __init__(self,a,b):\n",
    "        self.a=a\n",
    "        self.b=b\n",
    "    def oper(self):\n",
    "        print \"oper1\"\n",
    "    def __radd__(self,oth):\n",
    "        return self.a+oth\n",
    "o1=c1(10,20)\n",
    "o2=c1(30,40)\n",
    "o3=c1(50,60)\n",
    "print o1+o2+o3"
   ]
  },
  {
   "cell_type": "code",
   "execution_count": 3,
   "metadata": {
    "collapsed": true
   },
   "outputs": [],
   "source": [
    "a=10\n",
    "b=20\n",
    "c=30"
   ]
  },
  {
   "cell_type": "code",
   "execution_count": 4,
   "metadata": {
    "collapsed": false
   },
   "outputs": [
    {
     "name": "stdout",
     "output_type": "stream",
     "text": [
      "60\n"
     ]
    }
   ],
   "source": [
    "print a+b+c"
   ]
  },
  {
   "cell_type": "code",
   "execution_count": 5,
   "metadata": {
    "collapsed": false
   },
   "outputs": [
    {
     "name": "stdout",
     "output_type": "stream",
     "text": [
      "('name1', 12000, 12)\n",
      "('name2', 13000, 15)\n",
      "('modify_name1', 12000, 12)\n",
      "('modify_name1', 12000, 12)\n"
     ]
    }
   ],
   "source": [
    "# security\n",
    "class Emp:\n",
    "    def __init__(self,name,sal,inc_per):\n",
    "        self.name=name\n",
    "        self.sal=sal\n",
    "        self.__incp = inc_per\n",
    "    def get(self):\n",
    "        return self.name, self.sal, self.__incp\n",
    "    def sal_calc(self):\n",
    "        return self.sal+(self.sal/self.__incp)*100\n",
    "emp1=Emp(\"name1\",12000,12)\n",
    "emp2=Emp(\"name2\",13000,15)\n",
    "print emp1.get()\n",
    "print emp2.get()\n",
    "emp1.name=\"modify_name1\"\n",
    "print emp1.get()\n",
    "emp1.__incp=30\n",
    "print emp1.get()"
   ]
  },
  {
   "cell_type": "code",
   "execution_count": 6,
   "metadata": {
    "collapsed": false
   },
   "outputs": [
    {
     "name": "stdout",
     "output_type": "stream",
     "text": [
      "('name1', 12000, 12)\n",
      "('name2', 13000, 15)\n",
      "('modify_name1', 12000, 12)\n",
      "('modify_name1', 12000, 12)\n"
     ]
    }
   ],
   "source": [
    "# security\n",
    "class Emp:\n",
    "    def __init__(self,name,sal,inc_per):\n",
    "        self.name=name\n",
    "        self.sal=sal\n",
    "        self.__incp = inc_per\n",
    "    def get(self):\n",
    "        return self.name, self.sal, self.__incp\n",
    "    def sal_calc(self):\n",
    "        return self.sal+(self.sal/self.__incp)*100\n",
    "emp1=Emp(\"name1\",12000,12)\n",
    "emp2=Emp(\"name2\",13000,15)\n",
    "print emp1.get()\n",
    "print emp2.get()\n",
    "emp1.name=\"modify_name1\"\n",
    "print emp1.get()\n",
    "emp1.__incp=30\n",
    "print emp1.get()"
   ]
  },
  {
   "cell_type": "code",
   "execution_count": 8,
   "metadata": {
    "collapsed": false
   },
   "outputs": [
    {
     "name": "stdout",
     "output_type": "stream",
     "text": [
      "('name1', 12000, 12)\n",
      "('name2', 13000, 15)\n",
      "('modify_name1', 12000, 12)\n",
      "('modify_name1', 12000, 12)\n"
     ]
    },
    {
     "ename": "AttributeError",
     "evalue": "Emp instance has no attribute '__attendence'",
     "output_type": "error",
     "traceback": [
      "\u001b[0;31m---------------------------------------------------------------------------\u001b[0m",
      "\u001b[0;31mAttributeError\u001b[0m                            Traceback (most recent call last)",
      "\u001b[0;32m<ipython-input-8-64842919cd17>\u001b[0m in \u001b[0;36m<module>\u001b[0;34m()\u001b[0m\n\u001b[1;32m     19\u001b[0m \u001b[0memp1\u001b[0m\u001b[1;33m.\u001b[0m\u001b[0m__incp\u001b[0m\u001b[1;33m=\u001b[0m\u001b[1;36m30\u001b[0m\u001b[1;33m\u001b[0m\u001b[0m\n\u001b[1;32m     20\u001b[0m \u001b[1;32mprint\u001b[0m \u001b[0memp1\u001b[0m\u001b[1;33m.\u001b[0m\u001b[0mget\u001b[0m\u001b[1;33m(\u001b[0m\u001b[1;33m)\u001b[0m\u001b[1;33m\u001b[0m\u001b[0m\n\u001b[0;32m---> 21\u001b[0;31m \u001b[1;32mprint\u001b[0m \u001b[0memp1\u001b[0m\u001b[1;33m.\u001b[0m\u001b[0m__attendence\u001b[0m\u001b[1;33m(\u001b[0m\u001b[1;33m)\u001b[0m\u001b[1;33m\u001b[0m\u001b[0m\n\u001b[0m",
      "\u001b[0;31mAttributeError\u001b[0m: Emp instance has no attribute '__attendence'"
     ]
    }
   ],
   "source": [
    "# security\n",
    "class Emp:\n",
    "    def __init__(self,name,sal,inc_per):\n",
    "        self.name=name\n",
    "        self.sal=sal\n",
    "        self.__incp = inc_per\n",
    "    def get(self):\n",
    "        return self.name, self.sal, self.__incp\n",
    "    def sal_calc(self):\n",
    "        return self.sal+(self.sal/self.__incp)*100\n",
    "    def __attendence(self):\n",
    "        return \"sdfdsf\"\n",
    "emp1=Emp(\"name1\",12000,12)\n",
    "emp2=Emp(\"name2\",13000,15)\n",
    "print emp1.get()\n",
    "print emp2.get()\n",
    "emp1.name=\"modify_name1\"\n",
    "print emp1.get()\n",
    "emp1.__incp=30\n",
    "print emp1.get()\n",
    "print emp1.__attendence()"
   ]
  },
  {
   "cell_type": "code",
   "execution_count": 11,
   "metadata": {
    "collapsed": false
   },
   "outputs": [
    {
     "name": "stdout",
     "output_type": "stream",
     "text": [
      "('name1', 12000, 12)\n",
      "('name2', 13000, 15)\n",
      "('modify_name1', 12000, 12)\n",
      "('modify_name1', 12000, 12)\n",
      "sdfdsf\n",
      "112000\n"
     ]
    },
    {
     "ename": "AttributeError",
     "evalue": "class Emp has no attribute '__attendence'",
     "output_type": "error",
     "traceback": [
      "\u001b[0;31m---------------------------------------------------------------------------\u001b[0m",
      "\u001b[0;31mAttributeError\u001b[0m                            Traceback (most recent call last)",
      "\u001b[0;32m<ipython-input-11-e10e03bb9012>\u001b[0m in \u001b[0;36m<module>\u001b[0;34m()\u001b[0m\n\u001b[1;32m     21\u001b[0m \u001b[1;32mprint\u001b[0m \u001b[0memp1\u001b[0m\u001b[1;33m.\u001b[0m\u001b[0mget\u001b[0m\u001b[1;33m(\u001b[0m\u001b[1;33m)\u001b[0m\u001b[1;33m\u001b[0m\u001b[0m\n\u001b[1;32m     22\u001b[0m \u001b[1;32mprint\u001b[0m \u001b[0memp1\u001b[0m\u001b[1;33m.\u001b[0m\u001b[0msal_calc\u001b[0m\u001b[1;33m(\u001b[0m\u001b[1;33m)\u001b[0m\u001b[1;33m\u001b[0m\u001b[0m\n\u001b[0;32m---> 23\u001b[0;31m \u001b[1;32mprint\u001b[0m \u001b[0mEmp\u001b[0m\u001b[1;33m.\u001b[0m\u001b[0m__attendence\u001b[0m\u001b[1;33m(\u001b[0m\u001b[0memp1\u001b[0m\u001b[1;33m)\u001b[0m\u001b[1;33m\u001b[0m\u001b[0m\n\u001b[0m",
      "\u001b[0;31mAttributeError\u001b[0m: class Emp has no attribute '__attendence'"
     ]
    }
   ],
   "source": [
    "# security\n",
    "class Emp:\n",
    "    def __init__(self,name,sal,inc_per):\n",
    "        self.name=name\n",
    "        self.sal=sal\n",
    "        self.__incp = inc_per\n",
    "    def get(self):\n",
    "        return self.name, self.sal, self.__incp\n",
    "    def sal_calc(self):\n",
    "        print self.__attendence()\n",
    "        return self.sal+(self.sal/self.__incp)*100\n",
    "    def __attendence(self):\n",
    "        return \"sdfdsf\"\n",
    "emp1=Emp(\"name1\",12000,12)\n",
    "emp2=Emp(\"name2\",13000,15)\n",
    "print emp1.get()\n",
    "print emp2.get()\n",
    "emp1.name=\"modify_name1\"\n",
    "print emp1.get()\n",
    "emp1.__incp=30\n",
    "print emp1.get()\n",
    "print emp1.sal_calc()\n",
    "print Emp.__attendence(emp1)"
   ]
  },
  {
   "cell_type": "code",
   "execution_count": 12,
   "metadata": {
    "collapsed": false
   },
   "outputs": [
    {
     "name": "stdout",
     "output_type": "stream",
     "text": [
      "('name1', 12000, 12)\n",
      "('name2', 13000, 15)\n",
      "('modify_name1', 12000, 12)\n"
     ]
    },
    {
     "ename": "AttributeError",
     "evalue": "Emp instance has no attribute '__incp'",
     "output_type": "error",
     "traceback": [
      "\u001b[0;31m---------------------------------------------------------------------------\u001b[0m",
      "\u001b[0;31mAttributeError\u001b[0m                            Traceback (most recent call last)",
      "\u001b[0;32m<ipython-input-12-c9eb6cbda87f>\u001b[0m in \u001b[0;36m<module>\u001b[0;34m()\u001b[0m\n\u001b[1;32m     18\u001b[0m \u001b[0memp1\u001b[0m\u001b[1;33m.\u001b[0m\u001b[0mname\u001b[0m\u001b[1;33m=\u001b[0m\u001b[1;34m\"modify_name1\"\u001b[0m\u001b[1;33m\u001b[0m\u001b[0m\n\u001b[1;32m     19\u001b[0m \u001b[1;32mprint\u001b[0m \u001b[0memp1\u001b[0m\u001b[1;33m.\u001b[0m\u001b[0mget\u001b[0m\u001b[1;33m(\u001b[0m\u001b[1;33m)\u001b[0m\u001b[1;33m\u001b[0m\u001b[0m\n\u001b[0;32m---> 20\u001b[0;31m \u001b[1;32mprint\u001b[0m \u001b[0memp1\u001b[0m\u001b[1;33m.\u001b[0m\u001b[0m__incp\u001b[0m\u001b[1;33m\u001b[0m\u001b[0m\n\u001b[0m\u001b[1;32m     21\u001b[0m \u001b[1;32mprint\u001b[0m \u001b[0memp1\u001b[0m\u001b[1;33m.\u001b[0m\u001b[0mget\u001b[0m\u001b[1;33m(\u001b[0m\u001b[1;33m)\u001b[0m\u001b[1;33m\u001b[0m\u001b[0m\n\u001b[1;32m     22\u001b[0m \u001b[1;32mprint\u001b[0m \u001b[0memp1\u001b[0m\u001b[1;33m.\u001b[0m\u001b[0msal_calc\u001b[0m\u001b[1;33m(\u001b[0m\u001b[1;33m)\u001b[0m\u001b[1;33m\u001b[0m\u001b[0m\n",
      "\u001b[0;31mAttributeError\u001b[0m: Emp instance has no attribute '__incp'"
     ]
    }
   ],
   "source": [
    "# security\n",
    "class Emp:\n",
    "    def __init__(self,name,sal,inc_per):\n",
    "        self.name=name\n",
    "        self.sal=sal\n",
    "        self.__incp = inc_per\n",
    "    def get(self):\n",
    "        return self.name, self.sal, self.__incp\n",
    "    def sal_calc(self):\n",
    "        print self.__attendence()\n",
    "        return self.sal+(self.sal/self.__incp)*100\n",
    "    def __attendence(self):\n",
    "        return \"sdfdsf\"\n",
    "emp1=Emp(\"name1\",12000,12)\n",
    "emp2=Emp(\"name2\",13000,15)\n",
    "print emp1.get()\n",
    "print emp2.get()\n",
    "emp1.name=\"modify_name1\"\n",
    "print emp1.get()\n",
    "print emp1.__incp\n",
    "print emp1.get()\n",
    "print emp1.sal_calc()\n",
    "print Emp.__attendence(emp1)"
   ]
  },
  {
   "cell_type": "code",
   "execution_count": 14,
   "metadata": {
    "collapsed": false
   },
   "outputs": [
    {
     "name": "stdout",
     "output_type": "stream",
     "text": [
      "('name1', 12000, 12)\n",
      "('name2', 13000, 15)\n",
      "('modify_name1', 12000, 12)\n"
     ]
    },
    {
     "ename": "AttributeError",
     "evalue": "class Emp has no attribute '__incp'",
     "output_type": "error",
     "traceback": [
      "\u001b[0;31m---------------------------------------------------------------------------\u001b[0m",
      "\u001b[0;31mAttributeError\u001b[0m                            Traceback (most recent call last)",
      "\u001b[0;32m<ipython-input-14-a19dbdb92a8f>\u001b[0m in \u001b[0;36m<module>\u001b[0;34m()\u001b[0m\n\u001b[1;32m     19\u001b[0m \u001b[0memp1\u001b[0m\u001b[1;33m.\u001b[0m\u001b[0mname\u001b[0m\u001b[1;33m=\u001b[0m\u001b[1;34m\"modify_name1\"\u001b[0m\u001b[1;33m\u001b[0m\u001b[0m\n\u001b[1;32m     20\u001b[0m \u001b[1;32mprint\u001b[0m \u001b[0memp1\u001b[0m\u001b[1;33m.\u001b[0m\u001b[0mget\u001b[0m\u001b[1;33m(\u001b[0m\u001b[1;33m)\u001b[0m\u001b[1;33m\u001b[0m\u001b[0m\n\u001b[0;32m---> 21\u001b[0;31m \u001b[1;32mprint\u001b[0m \u001b[0mEmp\u001b[0m\u001b[1;33m.\u001b[0m\u001b[0m__incp\u001b[0m\u001b[1;33m\u001b[0m\u001b[0m\n\u001b[0m\u001b[1;32m     22\u001b[0m \u001b[1;32mprint\u001b[0m \u001b[0memp1\u001b[0m\u001b[1;33m.\u001b[0m\u001b[0mget\u001b[0m\u001b[1;33m(\u001b[0m\u001b[1;33m)\u001b[0m\u001b[1;33m\u001b[0m\u001b[0m\n\u001b[1;32m     23\u001b[0m \u001b[1;32mprint\u001b[0m \u001b[0memp1\u001b[0m\u001b[1;33m.\u001b[0m\u001b[0msal_calc\u001b[0m\u001b[1;33m(\u001b[0m\u001b[1;33m)\u001b[0m\u001b[1;33m\u001b[0m\u001b[0m\n",
      "\u001b[0;31mAttributeError\u001b[0m: class Emp has no attribute '__incp'"
     ]
    }
   ],
   "source": [
    "# security\n",
    "class Emp:\n",
    "    def __init__(self,name,sal,inc_per):\n",
    "        self.name=name\n",
    "        self.sal=sal\n",
    "        self.__incp = inc_per\n",
    "    def get(self):\n",
    "        return self.name, self.sal, self.__incp\n",
    "    def sal_calc(self):\n",
    "        \n",
    "        print \"$$$$$$$$$$$$$$\",self.__attendence()\n",
    "        return self.sal+(self.sal/self.__incp)*100\n",
    "    def __attendence(self):\n",
    "        return \"sdfdsf\"\n",
    "emp1=Emp(\"name1\",12000,12)\n",
    "emp2=Emp(\"name2\",13000,15)\n",
    "print emp1.get()\n",
    "print emp2.get()\n",
    "emp1.name=\"modify_name1\"\n",
    "print emp1.get()\n",
    "print Emp.__incp\n",
    "print emp1.get()\n",
    "print emp1.sal_calc()\n",
    "print Emp.__attendence(emp1)"
   ]
  },
  {
   "cell_type": "code",
   "execution_count": 15,
   "metadata": {
    "collapsed": false
   },
   "outputs": [
    {
     "name": "stdout",
     "output_type": "stream",
     "text": [
      "('name1', 12000, 12)\n",
      "('name2', 13000, 15)\n",
      "('modify_name1', 12000, 12)\n",
      "('modify_name1', 12000, 12)\n",
      "$$$$$$$$$$$$$$ sdfdsf\n",
      "112000\n"
     ]
    },
    {
     "ename": "AttributeError",
     "evalue": "class Emp has no attribute '__attendence'",
     "output_type": "error",
     "traceback": [
      "\u001b[0;31m---------------------------------------------------------------------------\u001b[0m",
      "\u001b[0;31mAttributeError\u001b[0m                            Traceback (most recent call last)",
      "\u001b[0;32m<ipython-input-15-948943752bab>\u001b[0m in \u001b[0;36m<module>\u001b[0;34m()\u001b[0m\n\u001b[1;32m     22\u001b[0m \u001b[1;32mprint\u001b[0m \u001b[0memp1\u001b[0m\u001b[1;33m.\u001b[0m\u001b[0mget\u001b[0m\u001b[1;33m(\u001b[0m\u001b[1;33m)\u001b[0m\u001b[1;33m\u001b[0m\u001b[0m\n\u001b[1;32m     23\u001b[0m \u001b[1;32mprint\u001b[0m \u001b[0memp1\u001b[0m\u001b[1;33m.\u001b[0m\u001b[0msal_calc\u001b[0m\u001b[1;33m(\u001b[0m\u001b[1;33m)\u001b[0m\u001b[1;33m\u001b[0m\u001b[0m\n\u001b[0;32m---> 24\u001b[0;31m \u001b[1;32mprint\u001b[0m \u001b[0mEmp\u001b[0m\u001b[1;33m.\u001b[0m\u001b[0m__attendence\u001b[0m\u001b[1;33m(\u001b[0m\u001b[0memp1\u001b[0m\u001b[1;33m)\u001b[0m\u001b[1;33m\u001b[0m\u001b[0m\n\u001b[0m",
      "\u001b[0;31mAttributeError\u001b[0m: class Emp has no attribute '__attendence'"
     ]
    }
   ],
   "source": [
    "# security\n",
    "class Emp:\n",
    "    def __init__(self,name,sal,inc_per):\n",
    "        self.name=name\n",
    "        self.sal=sal\n",
    "        self.__incp = inc_per\n",
    "    def get(self):\n",
    "        return self.name, self.sal, self.__incp\n",
    "    def sal_calc(self):\n",
    "        \n",
    "        print \"$$$$$$$$$$$$$$\",self.__attendence()\n",
    "        return self.sal+(self.sal/self.__incp)*100\n",
    "    def __attendence(self):\n",
    "        return \"sdfdsf\"\n",
    "emp1=Emp(\"name1\",12000,12)\n",
    "emp2=Emp(\"name2\",13000,15)\n",
    "print emp1.get()\n",
    "print emp2.get()\n",
    "emp1.name=\"modify_name1\"\n",
    "print emp1.get()\n",
    "#print Emp.__incp\n",
    "print emp1.get()\n",
    "print emp1.sal_calc()\n",
    "print Emp.__attendence(emp1)"
   ]
  },
  {
   "cell_type": "code",
   "execution_count": 16,
   "metadata": {
    "collapsed": false
   },
   "outputs": [
    {
     "name": "stdout",
     "output_type": "stream",
     "text": [
      "120\n"
     ]
    }
   ],
   "source": [
    "class c1:\n",
    "    def __init__(self,a,b):\n",
    "        self.a=a\n",
    "        self.b=b\n",
    "    def oper(self):\n",
    "        print \"oper1\"\n",
    "    def __radd__(self,oth):\n",
    "        return self.b+oth\n",
    "o1=c1(10,20)\n",
    "o2=c1(30,40)\n",
    "o3=c1(50,60)\n",
    "print o1+o2+o3"
   ]
  },
  {
   "cell_type": "code",
   "execution_count": 30,
   "metadata": {
    "collapsed": false
   },
   "outputs": [
    {
     "name": "stdout",
     "output_type": "stream",
     "text": [
      "(90, 120)\n"
     ]
    }
   ],
   "source": [
    "class c1:\n",
    "    def __init__(self,a,b):\n",
    "        self.a=a\n",
    "        self.b=b\n",
    "    def oper(self):\n",
    "        print \"oper1\"\n",
    "    def __add__(self1,self2):\n",
    "        return self1.a+self2.a, self1.b+self2.b\n",
    "    def __radd__(self,oth):\n",
    "        return (self.a+oth[0],self.b+oth[1])\n",
    "o1=c1(10,20)\n",
    "o2=c1(30,40)\n",
    "o3=c1(50,60)\n",
    "print o1+o2+o3"
   ]
  },
  {
   "cell_type": "code",
   "execution_count": 28,
   "metadata": {
    "collapsed": false
   },
   "outputs": [
    {
     "name": "stdout",
     "output_type": "stream",
     "text": [
      "150\n"
     ]
    }
   ],
   "source": [
    "class c1:\n",
    "    def __init__(self,a,b):\n",
    "        self.a=a\n",
    "        self.b=b\n",
    "    def oper(self):\n",
    "        print \"oper1\"\n",
    "    def __add__(obj1,obj2):\n",
    "        return [obj1.a+obj2.a, obj1.b+obj2.b]\n",
    "    def __radd__(self,oth):\n",
    "        return sum([self.a]+oth)\n",
    "    \n",
    "o1=c1(10,20)\n",
    "o2=c1(30,40)\n",
    "o3=c1(50,60)\n",
    "print o1+o2+o3"
   ]
  },
  {
   "cell_type": "code",
   "execution_count": 34,
   "metadata": {
    "collapsed": false
   },
   "outputs": [
    {
     "ename": "TypeError",
     "evalue": "unsupported operand type(s) for +: 'int' and 'tuple'",
     "output_type": "error",
     "traceback": [
      "\u001b[0;31m---------------------------------------------------------------------------\u001b[0m",
      "\u001b[0;31mTypeError\u001b[0m                                 Traceback (most recent call last)",
      "\u001b[0;32m<ipython-input-34-3542e6c1cab6>\u001b[0m in \u001b[0;36m<module>\u001b[0;34m()\u001b[0m\n\u001b[1;32m     13\u001b[0m \u001b[0mo2\u001b[0m\u001b[1;33m=\u001b[0m\u001b[0mc1\u001b[0m\u001b[1;33m(\u001b[0m\u001b[1;36m30\u001b[0m\u001b[1;33m,\u001b[0m\u001b[1;36m40\u001b[0m\u001b[1;33m)\u001b[0m\u001b[1;33m\u001b[0m\u001b[0m\n\u001b[1;32m     14\u001b[0m \u001b[0mo3\u001b[0m\u001b[1;33m=\u001b[0m\u001b[0mc1\u001b[0m\u001b[1;33m(\u001b[0m\u001b[1;36m50\u001b[0m\u001b[1;33m,\u001b[0m\u001b[1;36m60\u001b[0m\u001b[1;33m)\u001b[0m\u001b[1;33m\u001b[0m\u001b[0m\n\u001b[0;32m---> 15\u001b[0;31m \u001b[1;32mprint\u001b[0m \u001b[0mo1\u001b[0m\u001b[1;33m+\u001b[0m\u001b[0mo2\u001b[0m\u001b[1;33m+\u001b[0m\u001b[0mo3\u001b[0m\u001b[1;33m\u001b[0m\u001b[0m\n\u001b[0m",
      "\u001b[0;32m<ipython-input-34-3542e6c1cab6>\u001b[0m in \u001b[0;36m__radd__\u001b[0;34m(self, oth)\u001b[0m\n\u001b[1;32m      6\u001b[0m         \u001b[1;32mprint\u001b[0m \u001b[1;34m\"oper1\"\u001b[0m\u001b[1;33m\u001b[0m\u001b[0m\n\u001b[1;32m      7\u001b[0m     \u001b[1;32mdef\u001b[0m \u001b[0m__radd__\u001b[0m\u001b[1;33m(\u001b[0m\u001b[0mself\u001b[0m\u001b[1;33m,\u001b[0m\u001b[0moth\u001b[0m\u001b[1;33m)\u001b[0m\u001b[1;33m:\u001b[0m\u001b[1;33m\u001b[0m\u001b[0m\n\u001b[0;32m----> 8\u001b[0;31m         \u001b[0ma\u001b[0m\u001b[1;33m=\u001b[0m\u001b[0mself\u001b[0m\u001b[1;33m.\u001b[0m\u001b[0ma\u001b[0m\u001b[1;33m+\u001b[0m\u001b[0moth\u001b[0m\u001b[1;33m\u001b[0m\u001b[0m\n\u001b[0m\u001b[1;32m      9\u001b[0m         \u001b[0mb\u001b[0m\u001b[1;33m=\u001b[0m\u001b[0mself\u001b[0m\u001b[1;33m.\u001b[0m\u001b[0mb\u001b[0m\u001b[1;33m+\u001b[0m\u001b[0moth\u001b[0m\u001b[1;33m\u001b[0m\u001b[0m\n\u001b[1;32m     10\u001b[0m         \u001b[1;31m#b=self.b+oth\u001b[0m\u001b[1;33m\u001b[0m\u001b[1;33m\u001b[0m\u001b[0m\n",
      "\u001b[0;31mTypeError\u001b[0m: unsupported operand type(s) for +: 'int' and 'tuple'"
     ]
    }
   ],
   "source": [
    "class c1:\n",
    "    def __init__(self,a,b):\n",
    "        self.a=a\n",
    "        self.b=b\n",
    "    def oper(self):\n",
    "        print \"oper1\"\n",
    "        \n",
    "    def __radd__(self,oth):\n",
    "        a=self.a+oth\n",
    "        b=self.b+oth\n",
    "        #b=self.b+oth\n",
    "        return a,b\n",
    "o1=c1(10,20)\n",
    "o2=c1(30,40)\n",
    "o3=c1(50,60)\n",
    "print o1+o2+o3"
   ]
  },
  {
   "cell_type": "code",
   "execution_count": null,
   "metadata": {
    "collapsed": true
   },
   "outputs": [],
   "source": []
  }
 ],
 "metadata": {
  "kernelspec": {
   "display_name": "Python [default]",
   "language": "python",
   "name": "python2"
  },
  "language_info": {
   "codemirror_mode": {
    "name": "ipython",
    "version": 2
   },
   "file_extension": ".py",
   "mimetype": "text/x-python",
   "name": "python",
   "nbconvert_exporter": "python",
   "pygments_lexer": "ipython2",
   "version": "2.7.12"
  }
 },
 "nbformat": 4,
 "nbformat_minor": 1
}
